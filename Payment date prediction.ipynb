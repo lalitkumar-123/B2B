{
 "cells": [
  {
   "cell_type": "markdown",
   "metadata": {
    "id": "wcq6dWzy1ZR0"
   },
   "source": [
    "# Payment Date Prediction "
   ]
  },
  {
   "cell_type": "markdown",
   "metadata": {
    "id": "2778654e"
   },
   "source": [
    "\n",
    "### Importing related Libraries "
   ]
  },
  {
   "cell_type": "code",
   "execution_count": 308,
   "metadata": {
    "id": "304c9e38"
   },
   "outputs": [
    {
     "name": "stdout",
     "output_type": "stream",
     "text": [
      "Requirement already satisfied: xgboost in c:\\programdata\\anaconda3\\lib\\site-packages (1.5.2)\n",
      "Requirement already satisfied: scipy in c:\\programdata\\anaconda3\\lib\\site-packages (from xgboost) (1.4.1)\n",
      "Requirement already satisfied: numpy in c:\\programdata\\anaconda3\\lib\\site-packages (from xgboost) (1.18.1)\n"
     ]
    },
    {
     "name": "stderr",
     "output_type": "stream",
     "text": [
      "WARNING: You are using pip version 20.2.2; however, version 22.0.3 is available.\n",
      "You should consider upgrading via the 'C:\\ProgramData\\Anaconda3\\python.exe -m pip install --upgrade pip' command.\n"
     ]
    }
   ],
   "source": [
    "# importing required library\n",
    "\n",
    "!pip install xgboost\n",
    "\n",
    "import pandas as pd\n",
    "import numpy as np \n",
    "from sklearn.feature_selection import VarianceThreshold\n",
    "from sklearn.model_selection import train_test_split\n",
    "import matplotlib.pyplot as plt\n",
    "from matplotlib import style\n",
    "import seaborn as sns\n",
    "from category_encoders import TargetEncoder\n",
    "from sklearn.preprocessing import StandardScaler, MinMaxScaler, LabelEncoder\n",
    "import warnings\n",
    "\n",
    "warnings.filterwarnings('ignore')"
   ]
  },
  {
   "cell_type": "markdown",
   "metadata": {
    "id": "8724f5ee"
   },
   "source": [
    "### Store the dataset into the Dataframe\n"
   ]
  },
  {
   "cell_type": "code",
   "execution_count": 155,
   "metadata": {
    "id": "415db50a"
   },
   "outputs": [],
   "source": [
    "# reading csv file\n",
    "\n",
    "data = pd.read_csv(r'dataset.csv')"
   ]
  },
  {
   "cell_type": "markdown",
   "metadata": {
    "id": "42e37f05"
   },
   "source": [
    "### Check the shape of the dataframe\n"
   ]
  },
  {
   "cell_type": "code",
   "execution_count": 156,
   "metadata": {
    "id": "27cc0907"
   },
   "outputs": [
    {
     "data": {
      "text/plain": [
       "(50000, 19)"
      ]
     },
     "execution_count": 156,
     "metadata": {},
     "output_type": "execute_result"
    }
   ],
   "source": [
    "# display shape of dataframe\n",
    "\n",
    "data.shape"
   ]
  },
  {
   "cell_type": "markdown",
   "metadata": {
    "id": "b68c955d"
   },
   "source": [
    "### Check the Detail information of the dataframe"
   ]
  },
  {
   "cell_type": "code",
   "execution_count": 157,
   "metadata": {
    "id": "e092ec9e"
   },
   "outputs": [
    {
     "name": "stdout",
     "output_type": "stream",
     "text": [
      "<class 'pandas.core.frame.DataFrame'>\n",
      "RangeIndex: 50000 entries, 0 to 49999\n",
      "Data columns (total 19 columns):\n",
      " #   Column                  Non-Null Count  Dtype  \n",
      "---  ------                  --------------  -----  \n",
      " 0   business_code           50000 non-null  object \n",
      " 1   cust_number             50000 non-null  object \n",
      " 2   name_customer           50000 non-null  object \n",
      " 3   clear_date              40000 non-null  object \n",
      " 4   buisness_year           50000 non-null  float64\n",
      " 5   doc_id                  50000 non-null  float64\n",
      " 6   posting_date            50000 non-null  object \n",
      " 7   document_create_date    50000 non-null  int64  \n",
      " 8   document_create_date.1  50000 non-null  int64  \n",
      " 9   due_in_date             50000 non-null  float64\n",
      " 10  invoice_currency        50000 non-null  object \n",
      " 11  document type           50000 non-null  object \n",
      " 12  posting_id              50000 non-null  float64\n",
      " 13  area_business           0 non-null      float64\n",
      " 14  total_open_amount       50000 non-null  float64\n",
      " 15  baseline_create_date    50000 non-null  float64\n",
      " 16  cust_payment_terms      50000 non-null  object \n",
      " 17  invoice_id              49994 non-null  float64\n",
      " 18  isOpen                  50000 non-null  int64  \n",
      "dtypes: float64(8), int64(3), object(8)\n",
      "memory usage: 7.2+ MB\n"
     ]
    }
   ],
   "source": [
    "# display detail info\n",
    "\n",
    "data.info()"
   ]
  },
  {
   "cell_type": "markdown",
   "metadata": {
    "id": "112f2d0e"
   },
   "source": [
    "### Display All the column names"
   ]
  },
  {
   "cell_type": "code",
   "execution_count": 158,
   "metadata": {
    "id": "1416e2fd"
   },
   "outputs": [
    {
     "data": {
      "text/plain": [
       "['business_code',\n",
       " 'cust_number',\n",
       " 'name_customer',\n",
       " 'clear_date',\n",
       " 'buisness_year',\n",
       " 'doc_id',\n",
       " 'posting_date',\n",
       " 'document_create_date',\n",
       " 'document_create_date.1',\n",
       " 'due_in_date',\n",
       " 'invoice_currency',\n",
       " 'document type',\n",
       " 'posting_id',\n",
       " 'area_business',\n",
       " 'total_open_amount',\n",
       " 'baseline_create_date',\n",
       " 'cust_payment_terms',\n",
       " 'invoice_id',\n",
       " 'isOpen']"
      ]
     },
     "execution_count": 158,
     "metadata": {},
     "output_type": "execute_result"
    }
   ],
   "source": [
    "# display dataframe columns\n",
    "\n",
    "columns_name = []\n",
    "for col in data.columns:\n",
    "    columns_name.append(col)\n",
    "columns_name"
   ]
  },
  {
   "cell_type": "markdown",
   "metadata": {
    "id": "d465ed7a"
   },
   "source": [
    "### Describe the entire dataset"
   ]
  },
  {
   "cell_type": "code",
   "execution_count": 159,
   "metadata": {
    "id": "25f65e1b"
   },
   "outputs": [
    {
     "data": {
      "text/html": [
       "<div>\n",
       "<style scoped>\n",
       "    .dataframe tbody tr th:only-of-type {\n",
       "        vertical-align: middle;\n",
       "    }\n",
       "\n",
       "    .dataframe tbody tr th {\n",
       "        vertical-align: top;\n",
       "    }\n",
       "\n",
       "    .dataframe thead th {\n",
       "        text-align: right;\n",
       "    }\n",
       "</style>\n",
       "<table border=\"1\" class=\"dataframe\">\n",
       "  <thead>\n",
       "    <tr style=\"text-align: right;\">\n",
       "      <th></th>\n",
       "      <th>buisness_year</th>\n",
       "      <th>doc_id</th>\n",
       "      <th>document_create_date</th>\n",
       "      <th>document_create_date.1</th>\n",
       "      <th>due_in_date</th>\n",
       "      <th>posting_id</th>\n",
       "      <th>area_business</th>\n",
       "      <th>total_open_amount</th>\n",
       "      <th>baseline_create_date</th>\n",
       "      <th>invoice_id</th>\n",
       "      <th>isOpen</th>\n",
       "    </tr>\n",
       "  </thead>\n",
       "  <tbody>\n",
       "    <tr>\n",
       "      <th>count</th>\n",
       "      <td>50000.000000</td>\n",
       "      <td>5.000000e+04</td>\n",
       "      <td>5.000000e+04</td>\n",
       "      <td>5.000000e+04</td>\n",
       "      <td>5.000000e+04</td>\n",
       "      <td>50000.0</td>\n",
       "      <td>0.0</td>\n",
       "      <td>50000.000000</td>\n",
       "      <td>5.000000e+04</td>\n",
       "      <td>4.999400e+04</td>\n",
       "      <td>50000.000000</td>\n",
       "    </tr>\n",
       "    <tr>\n",
       "      <th>mean</th>\n",
       "      <td>2019.305700</td>\n",
       "      <td>2.012238e+09</td>\n",
       "      <td>2.019351e+07</td>\n",
       "      <td>2.019354e+07</td>\n",
       "      <td>2.019368e+07</td>\n",
       "      <td>1.0</td>\n",
       "      <td>NaN</td>\n",
       "      <td>32337.021651</td>\n",
       "      <td>2.019354e+07</td>\n",
       "      <td>2.011340e+09</td>\n",
       "      <td>0.200000</td>\n",
       "    </tr>\n",
       "    <tr>\n",
       "      <th>std</th>\n",
       "      <td>0.460708</td>\n",
       "      <td>2.885235e+08</td>\n",
       "      <td>4.496041e+03</td>\n",
       "      <td>4.482134e+03</td>\n",
       "      <td>4.470614e+03</td>\n",
       "      <td>0.0</td>\n",
       "      <td>NaN</td>\n",
       "      <td>39205.975231</td>\n",
       "      <td>4.482701e+03</td>\n",
       "      <td>2.766335e+08</td>\n",
       "      <td>0.400004</td>\n",
       "    </tr>\n",
       "    <tr>\n",
       "      <th>min</th>\n",
       "      <td>2019.000000</td>\n",
       "      <td>1.928502e+09</td>\n",
       "      <td>2.018123e+07</td>\n",
       "      <td>2.018123e+07</td>\n",
       "      <td>2.018122e+07</td>\n",
       "      <td>1.0</td>\n",
       "      <td>NaN</td>\n",
       "      <td>0.720000</td>\n",
       "      <td>2.018121e+07</td>\n",
       "      <td>1.928502e+09</td>\n",
       "      <td>0.000000</td>\n",
       "    </tr>\n",
       "    <tr>\n",
       "      <th>25%</th>\n",
       "      <td>2019.000000</td>\n",
       "      <td>1.929342e+09</td>\n",
       "      <td>2.019050e+07</td>\n",
       "      <td>2.019051e+07</td>\n",
       "      <td>2.019052e+07</td>\n",
       "      <td>1.0</td>\n",
       "      <td>NaN</td>\n",
       "      <td>4928.312500</td>\n",
       "      <td>2.019050e+07</td>\n",
       "      <td>1.929342e+09</td>\n",
       "      <td>0.000000</td>\n",
       "    </tr>\n",
       "    <tr>\n",
       "      <th>50%</th>\n",
       "      <td>2019.000000</td>\n",
       "      <td>1.929964e+09</td>\n",
       "      <td>2.019091e+07</td>\n",
       "      <td>2.019091e+07</td>\n",
       "      <td>2.019093e+07</td>\n",
       "      <td>1.0</td>\n",
       "      <td>NaN</td>\n",
       "      <td>17609.010000</td>\n",
       "      <td>2.019091e+07</td>\n",
       "      <td>1.929964e+09</td>\n",
       "      <td>0.000000</td>\n",
       "    </tr>\n",
       "    <tr>\n",
       "      <th>75%</th>\n",
       "      <td>2020.000000</td>\n",
       "      <td>1.930619e+09</td>\n",
       "      <td>2.020013e+07</td>\n",
       "      <td>2.020013e+07</td>\n",
       "      <td>2.020022e+07</td>\n",
       "      <td>1.0</td>\n",
       "      <td>NaN</td>\n",
       "      <td>47133.635000</td>\n",
       "      <td>2.020013e+07</td>\n",
       "      <td>1.930619e+09</td>\n",
       "      <td>0.000000</td>\n",
       "    </tr>\n",
       "    <tr>\n",
       "      <th>max</th>\n",
       "      <td>2020.000000</td>\n",
       "      <td>9.500000e+09</td>\n",
       "      <td>2.020052e+07</td>\n",
       "      <td>2.020052e+07</td>\n",
       "      <td>2.020071e+07</td>\n",
       "      <td>1.0</td>\n",
       "      <td>NaN</td>\n",
       "      <td>668593.360000</td>\n",
       "      <td>2.020052e+07</td>\n",
       "      <td>2.960636e+09</td>\n",
       "      <td>1.000000</td>\n",
       "    </tr>\n",
       "  </tbody>\n",
       "</table>\n",
       "</div>"
      ],
      "text/plain": [
       "       buisness_year        doc_id  document_create_date  \\\n",
       "count   50000.000000  5.000000e+04          5.000000e+04   \n",
       "mean     2019.305700  2.012238e+09          2.019351e+07   \n",
       "std         0.460708  2.885235e+08          4.496041e+03   \n",
       "min      2019.000000  1.928502e+09          2.018123e+07   \n",
       "25%      2019.000000  1.929342e+09          2.019050e+07   \n",
       "50%      2019.000000  1.929964e+09          2.019091e+07   \n",
       "75%      2020.000000  1.930619e+09          2.020013e+07   \n",
       "max      2020.000000  9.500000e+09          2.020052e+07   \n",
       "\n",
       "       document_create_date.1   due_in_date  posting_id  area_business  \\\n",
       "count            5.000000e+04  5.000000e+04     50000.0            0.0   \n",
       "mean             2.019354e+07  2.019368e+07         1.0            NaN   \n",
       "std              4.482134e+03  4.470614e+03         0.0            NaN   \n",
       "min              2.018123e+07  2.018122e+07         1.0            NaN   \n",
       "25%              2.019051e+07  2.019052e+07         1.0            NaN   \n",
       "50%              2.019091e+07  2.019093e+07         1.0            NaN   \n",
       "75%              2.020013e+07  2.020022e+07         1.0            NaN   \n",
       "max              2.020052e+07  2.020071e+07         1.0            NaN   \n",
       "\n",
       "       total_open_amount  baseline_create_date    invoice_id        isOpen  \n",
       "count       50000.000000          5.000000e+04  4.999400e+04  50000.000000  \n",
       "mean        32337.021651          2.019354e+07  2.011340e+09      0.200000  \n",
       "std         39205.975231          4.482701e+03  2.766335e+08      0.400004  \n",
       "min             0.720000          2.018121e+07  1.928502e+09      0.000000  \n",
       "25%          4928.312500          2.019050e+07  1.929342e+09      0.000000  \n",
       "50%         17609.010000          2.019091e+07  1.929964e+09      0.000000  \n",
       "75%         47133.635000          2.020013e+07  1.930619e+09      0.000000  \n",
       "max        668593.360000          2.020052e+07  2.960636e+09      1.000000  "
      ]
     },
     "execution_count": 159,
     "metadata": {},
     "output_type": "execute_result"
    }
   ],
   "source": [
    "# describe dataframe\n",
    "\n",
    "data.describe()"
   ]
  },
  {
   "cell_type": "markdown",
   "metadata": {
    "id": "0f2c8d02"
   },
   "source": [
    "# Data Cleaning\n",
    "\n",
    "- Show top 5 records from the dataset"
   ]
  },
  {
   "cell_type": "code",
   "execution_count": 160,
   "metadata": {
    "id": "8f876212"
   },
   "outputs": [
    {
     "data": {
      "text/html": [
       "<div>\n",
       "<style scoped>\n",
       "    .dataframe tbody tr th:only-of-type {\n",
       "        vertical-align: middle;\n",
       "    }\n",
       "\n",
       "    .dataframe tbody tr th {\n",
       "        vertical-align: top;\n",
       "    }\n",
       "\n",
       "    .dataframe thead th {\n",
       "        text-align: right;\n",
       "    }\n",
       "</style>\n",
       "<table border=\"1\" class=\"dataframe\">\n",
       "  <thead>\n",
       "    <tr style=\"text-align: right;\">\n",
       "      <th></th>\n",
       "      <th>business_code</th>\n",
       "      <th>cust_number</th>\n",
       "      <th>name_customer</th>\n",
       "      <th>clear_date</th>\n",
       "      <th>buisness_year</th>\n",
       "      <th>doc_id</th>\n",
       "      <th>posting_date</th>\n",
       "      <th>document_create_date</th>\n",
       "      <th>document_create_date.1</th>\n",
       "      <th>due_in_date</th>\n",
       "      <th>invoice_currency</th>\n",
       "      <th>document type</th>\n",
       "      <th>posting_id</th>\n",
       "      <th>area_business</th>\n",
       "      <th>total_open_amount</th>\n",
       "      <th>baseline_create_date</th>\n",
       "      <th>cust_payment_terms</th>\n",
       "      <th>invoice_id</th>\n",
       "      <th>isOpen</th>\n",
       "    </tr>\n",
       "  </thead>\n",
       "  <tbody>\n",
       "    <tr>\n",
       "      <th>0</th>\n",
       "      <td>U001</td>\n",
       "      <td>0200769623</td>\n",
       "      <td>WAL-MAR corp</td>\n",
       "      <td>2020-02-11 00:00:00</td>\n",
       "      <td>2020.0</td>\n",
       "      <td>1.930438e+09</td>\n",
       "      <td>2020-01-26</td>\n",
       "      <td>20200125</td>\n",
       "      <td>20200126</td>\n",
       "      <td>20200210.0</td>\n",
       "      <td>USD</td>\n",
       "      <td>RV</td>\n",
       "      <td>1.0</td>\n",
       "      <td>NaN</td>\n",
       "      <td>54273.28</td>\n",
       "      <td>20200126.0</td>\n",
       "      <td>NAH4</td>\n",
       "      <td>1.930438e+09</td>\n",
       "      <td>0</td>\n",
       "    </tr>\n",
       "    <tr>\n",
       "      <th>1</th>\n",
       "      <td>U001</td>\n",
       "      <td>0200980828</td>\n",
       "      <td>BEN E</td>\n",
       "      <td>2019-08-08 00:00:00</td>\n",
       "      <td>2019.0</td>\n",
       "      <td>1.929646e+09</td>\n",
       "      <td>2019-07-22</td>\n",
       "      <td>20190722</td>\n",
       "      <td>20190722</td>\n",
       "      <td>20190811.0</td>\n",
       "      <td>USD</td>\n",
       "      <td>RV</td>\n",
       "      <td>1.0</td>\n",
       "      <td>NaN</td>\n",
       "      <td>79656.60</td>\n",
       "      <td>20190722.0</td>\n",
       "      <td>NAD1</td>\n",
       "      <td>1.929646e+09</td>\n",
       "      <td>0</td>\n",
       "    </tr>\n",
       "    <tr>\n",
       "      <th>2</th>\n",
       "      <td>U001</td>\n",
       "      <td>0200792734</td>\n",
       "      <td>MDV/ trust</td>\n",
       "      <td>2019-12-30 00:00:00</td>\n",
       "      <td>2019.0</td>\n",
       "      <td>1.929874e+09</td>\n",
       "      <td>2019-09-14</td>\n",
       "      <td>20190914</td>\n",
       "      <td>20190914</td>\n",
       "      <td>20190929.0</td>\n",
       "      <td>USD</td>\n",
       "      <td>RV</td>\n",
       "      <td>1.0</td>\n",
       "      <td>NaN</td>\n",
       "      <td>2253.86</td>\n",
       "      <td>20190914.0</td>\n",
       "      <td>NAA8</td>\n",
       "      <td>1.929874e+09</td>\n",
       "      <td>0</td>\n",
       "    </tr>\n",
       "    <tr>\n",
       "      <th>3</th>\n",
       "      <td>CA02</td>\n",
       "      <td>0140105686</td>\n",
       "      <td>SYSC llc</td>\n",
       "      <td>NaN</td>\n",
       "      <td>2020.0</td>\n",
       "      <td>2.960623e+09</td>\n",
       "      <td>2020-03-30</td>\n",
       "      <td>20200330</td>\n",
       "      <td>20200330</td>\n",
       "      <td>20200410.0</td>\n",
       "      <td>CAD</td>\n",
       "      <td>RV</td>\n",
       "      <td>1.0</td>\n",
       "      <td>NaN</td>\n",
       "      <td>3299.70</td>\n",
       "      <td>20200331.0</td>\n",
       "      <td>CA10</td>\n",
       "      <td>2.960623e+09</td>\n",
       "      <td>1</td>\n",
       "    </tr>\n",
       "    <tr>\n",
       "      <th>4</th>\n",
       "      <td>U001</td>\n",
       "      <td>0200769623</td>\n",
       "      <td>WAL-MAR foundation</td>\n",
       "      <td>2019-11-25 00:00:00</td>\n",
       "      <td>2019.0</td>\n",
       "      <td>1.930148e+09</td>\n",
       "      <td>2019-11-13</td>\n",
       "      <td>20191113</td>\n",
       "      <td>20191113</td>\n",
       "      <td>20191128.0</td>\n",
       "      <td>USD</td>\n",
       "      <td>RV</td>\n",
       "      <td>1.0</td>\n",
       "      <td>NaN</td>\n",
       "      <td>33133.29</td>\n",
       "      <td>20191113.0</td>\n",
       "      <td>NAH4</td>\n",
       "      <td>1.930148e+09</td>\n",
       "      <td>0</td>\n",
       "    </tr>\n",
       "  </tbody>\n",
       "</table>\n",
       "</div>"
      ],
      "text/plain": [
       "  business_code cust_number       name_customer           clear_date  \\\n",
       "0          U001  0200769623        WAL-MAR corp  2020-02-11 00:00:00   \n",
       "1          U001  0200980828              BEN E   2019-08-08 00:00:00   \n",
       "2          U001  0200792734          MDV/ trust  2019-12-30 00:00:00   \n",
       "3          CA02  0140105686            SYSC llc                  NaN   \n",
       "4          U001  0200769623  WAL-MAR foundation  2019-11-25 00:00:00   \n",
       "\n",
       "   buisness_year        doc_id posting_date  document_create_date  \\\n",
       "0         2020.0  1.930438e+09   2020-01-26              20200125   \n",
       "1         2019.0  1.929646e+09   2019-07-22              20190722   \n",
       "2         2019.0  1.929874e+09   2019-09-14              20190914   \n",
       "3         2020.0  2.960623e+09   2020-03-30              20200330   \n",
       "4         2019.0  1.930148e+09   2019-11-13              20191113   \n",
       "\n",
       "   document_create_date.1  due_in_date invoice_currency document type  \\\n",
       "0                20200126   20200210.0              USD            RV   \n",
       "1                20190722   20190811.0              USD            RV   \n",
       "2                20190914   20190929.0              USD            RV   \n",
       "3                20200330   20200410.0              CAD            RV   \n",
       "4                20191113   20191128.0              USD            RV   \n",
       "\n",
       "   posting_id  area_business  total_open_amount  baseline_create_date  \\\n",
       "0         1.0            NaN           54273.28            20200126.0   \n",
       "1         1.0            NaN           79656.60            20190722.0   \n",
       "2         1.0            NaN            2253.86            20190914.0   \n",
       "3         1.0            NaN            3299.70            20200331.0   \n",
       "4         1.0            NaN           33133.29            20191113.0   \n",
       "\n",
       "  cust_payment_terms    invoice_id  isOpen  \n",
       "0               NAH4  1.930438e+09       0  \n",
       "1               NAD1  1.929646e+09       0  \n",
       "2               NAA8  1.929874e+09       0  \n",
       "3               CA10  2.960623e+09       1  \n",
       "4               NAH4  1.930148e+09       0  "
      ]
     },
     "execution_count": 160,
     "metadata": {},
     "output_type": "execute_result"
    }
   ],
   "source": [
    "# display first 5 from dataframe\n",
    "\n",
    "data.head()"
   ]
  },
  {
   "cell_type": "markdown",
   "metadata": {
    "id": "92b044e4"
   },
   "source": [
    "### Display the Null values percentage against every columns (compare to the total number of records)\n",
    "\n",
    "- Output expected : area_business - 100% null, clear_data = 20% null, invoice_id = 0.12% null"
   ]
  },
  {
   "cell_type": "code",
   "execution_count": 161,
   "metadata": {
    "id": "24c7b13d"
   },
   "outputs": [
    {
     "data": {
      "text/plain": [
       "{'business_code': 0.0,\n",
       " 'cust_number': 0.0,\n",
       " 'name_customer': 0.0,\n",
       " 'clear_date': 20.0,\n",
       " 'buisness_year': 0.0,\n",
       " 'doc_id': 0.0,\n",
       " 'posting_date': 0.0,\n",
       " 'document_create_date': 0.0,\n",
       " 'document_create_date.1': 0.0,\n",
       " 'due_in_date': 0.0,\n",
       " 'invoice_currency': 0.0,\n",
       " 'document type': 0.0,\n",
       " 'posting_id': 0.0,\n",
       " 'area_business': 100.0,\n",
       " 'total_open_amount': 0.0,\n",
       " 'baseline_create_date': 0.0,\n",
       " 'cust_payment_terms': 0.0,\n",
       " 'invoice_id': 0.012,\n",
       " 'isOpen': 0.0}"
      ]
     },
     "execution_count": 161,
     "metadata": {},
     "output_type": "execute_result"
    }
   ],
   "source": [
    "# calculate percentage of null values for each columns\n",
    "\n",
    "column_null_percentage = dict();\n",
    "for col in data.columns:\n",
    "    num = data[col].isnull().sum()\n",
    "    den = len(data[col])\n",
    "    ans = float((num / den) * 100) \n",
    "    column_null_percentage[col] = ans\n",
    "column_null_percentage"
   ]
  },
  {
   "cell_type": "markdown",
   "metadata": {
    "id": "2c46a98b"
   },
   "source": [
    "### Display Invoice_id and Doc_Id\n",
    "\n",
    "- Note - Many of the would have same invoice_id and doc_id\n"
   ]
  },
  {
   "cell_type": "code",
   "execution_count": 162,
   "metadata": {
    "id": "038f24bb"
   },
   "outputs": [
    {
     "name": "stdout",
     "output_type": "stream",
     "text": [
      "0        1.930438e+09\n",
      "1        1.929646e+09\n",
      "2        1.929874e+09\n",
      "3        2.960623e+09\n",
      "4        1.930148e+09\n",
      "             ...     \n",
      "49995    1.930797e+09\n",
      "49996    1.929744e+09\n",
      "49997    1.930537e+09\n",
      "49998    1.930199e+09\n",
      "49999    1.928576e+09\n",
      "Name: invoice_id, Length: 50000, dtype: float64\n",
      "\n",
      "\n",
      "0        1.930438e+09\n",
      "1        1.929646e+09\n",
      "2        1.929874e+09\n",
      "3        2.960623e+09\n",
      "4        1.930148e+09\n",
      "             ...     \n",
      "49995    1.930797e+09\n",
      "49996    1.929744e+09\n",
      "49997    1.930537e+09\n",
      "49998    1.930199e+09\n",
      "49999    1.928576e+09\n",
      "Name: doc_id, Length: 50000, dtype: float64\n",
      "\n",
      "\n",
      "No of equal invoice_id and doc_id: 49994\n"
     ]
    }
   ],
   "source": [
    "# display invoice_id and doc_id\n",
    "\n",
    "print(data[\"invoice_id\"])\n",
    "print(\"\\n\")\n",
    "print(data[\"doc_id\"])\n",
    "print(\"\\n\")\n",
    "print(\"No of equal invoice_id and doc_id:\",list(data[\"invoice_id\"] == data[\"doc_id\"]).count(True))"
   ]
  },
  {
   "cell_type": "markdown",
   "metadata": {
    "id": "18cfe10a"
   },
   "source": [
    "#### Write a code to check - 'baseline_create_date',\"document_create_date\",'document_create_date.1' - these columns are almost same.\n",
    "\n",
    "- Please note, if they are same, we need to drop them later\n",
    "\n"
   ]
  },
  {
   "cell_type": "code",
   "execution_count": 163,
   "metadata": {
    "id": "cf5b40ff"
   },
   "outputs": [
    {
     "name": "stdout",
     "output_type": "stream",
     "text": [
      "0        20200126.0\n",
      "1        20190722.0\n",
      "2        20190914.0\n",
      "3        20200331.0\n",
      "4        20191113.0\n",
      "            ...    \n",
      "49995    20200421.0\n",
      "49996    20190815.0\n",
      "49997    20200219.0\n",
      "49998    20191127.0\n",
      "49999    20190101.0\n",
      "Name: baseline_create_date, Length: 50000, dtype: float64\n",
      "\n",
      "\n",
      "0        20200125\n",
      "1        20190722\n",
      "2        20190914\n",
      "3        20200330\n",
      "4        20191113\n",
      "           ...   \n",
      "49995    20200417\n",
      "49996    20190814\n",
      "49997    20200218\n",
      "49998    20191126\n",
      "49999    20190105\n",
      "Name: document_create_date, Length: 50000, dtype: int64\n",
      "\n",
      "\n",
      "0        20200126\n",
      "1        20190722\n",
      "2        20190914\n",
      "3        20200330\n",
      "4        20191113\n",
      "           ...   \n",
      "49995    20200421\n",
      "49996    20190815\n",
      "49997    20200219\n",
      "49998    20191127\n",
      "49999    20190105\n",
      "Name: document_create_date.1, Length: 50000, dtype: int64\n",
      "\n",
      "\n",
      "No of equal baseline_create_date, document_create_date and document_create_date.1: 15922\n"
     ]
    }
   ],
   "source": [
    "# display baseline_create_date, document_create_date and documnent_create_date.1\n",
    "\n",
    "print(data['baseline_create_date'])\n",
    "print(\"\\n\")\n",
    "print(data['document_create_date'])\n",
    "print(\"\\n\")\n",
    "print(data['document_create_date.1'])\n",
    "print(\"\\n\")\n",
    "\n",
    "similar_val = 0\n",
    "for i in range(data.shape[0]):\n",
    "    if(data.loc[i]['baseline_create_date'] == data.loc[i]['document_create_date']):\n",
    "        if(data.loc[i]['baseline_create_date'] == data.loc[i]['document_create_date.1']):\n",
    "            similar_val += 1\n",
    "print(\"No of equal baseline_create_date, document_create_date and document_create_date.1:\",similar_val)"
   ]
  },
  {
   "cell_type": "markdown",
   "metadata": {
    "id": "33110576"
   },
   "source": [
    "#### Please check, Column 'posting_id' is constant columns or not\n"
   ]
  },
  {
   "cell_type": "code",
   "execution_count": 164,
   "metadata": {
    "id": "ecce2664"
   },
   "outputs": [
    {
     "data": {
      "text/plain": [
       "1.0    50000\n",
       "Name: posting_id, dtype: int64"
      ]
     },
     "execution_count": 164,
     "metadata": {},
     "output_type": "execute_result"
    }
   ],
   "source": [
    "# posting_id\n",
    "\n",
    "data['posting_id'].value_counts()"
   ]
  },
  {
   "cell_type": "markdown",
   "metadata": {
    "id": "e5fb8daf"
   },
   "source": [
    "#### Please check 'isOpen' is a constant column and relevant column for this project or not"
   ]
  },
  {
   "cell_type": "code",
   "execution_count": 165,
   "metadata": {
    "id": "8db9956b"
   },
   "outputs": [
    {
     "data": {
      "text/plain": [
       "0    40000\n",
       "1    10000\n",
       "Name: isOpen, dtype: int64"
      ]
     },
     "execution_count": 165,
     "metadata": {},
     "output_type": "execute_result"
    }
   ],
   "source": [
    "# isOpen\n",
    "\n",
    "data['isOpen'].value_counts()"
   ]
  },
  {
   "cell_type": "markdown",
   "metadata": {
    "id": "45a11a62"
   },
   "source": [
    "### Write the code to drop all the following columns from the dataframe\n",
    "\n",
    "- 'area_business'\n",
    "- \"posting_id\"\n",
    "- \"invoice_id\"\n",
    "- \"document_create_date\"\n",
    "- \"isOpen\"\n",
    "- 'document type' \n",
    "- 'document_create_date.1"
   ]
  },
  {
   "cell_type": "code",
   "execution_count": 166,
   "metadata": {
    "id": "270d85d1"
   },
   "outputs": [],
   "source": [
    "# drop particular columns from dataframe\n",
    "\n",
    "cols = ['area_business', 'posting_id', 'invoice_id', 'document_create_date', 'isOpen', 'document type', 'document_create_date.1']\n",
    "data.drop(cols,inplace=True,axis=1)"
   ]
  },
  {
   "cell_type": "markdown",
   "metadata": {
    "id": "K5LHAM2XVGnk"
   },
   "source": [
    "### Please check from the dataframe whether all the columns are removed or not "
   ]
  },
  {
   "cell_type": "code",
   "execution_count": 167,
   "metadata": {
    "id": "ef3f7d2b"
   },
   "outputs": [
    {
     "data": {
      "text/plain": [
       "Index(['business_code', 'cust_number', 'name_customer', 'clear_date',\n",
       "       'buisness_year', 'doc_id', 'posting_date', 'due_in_date',\n",
       "       'invoice_currency', 'total_open_amount', 'baseline_create_date',\n",
       "       'cust_payment_terms'],\n",
       "      dtype='object')"
      ]
     },
     "execution_count": 167,
     "metadata": {},
     "output_type": "execute_result"
    }
   ],
   "source": [
    "# display columns that are present\n",
    "# cols = ['area_business', 'posting_id', 'invoice_id', 'document_create_date', 'isOpen', 'document type', 'document_create_date.1'] are removed\n",
    "\n",
    "data.columns"
   ]
  },
  {
   "cell_type": "markdown",
   "metadata": {
    "id": "6bc052c7"
   },
   "source": [
    "### Show all the Dublicate rows from the dataframe"
   ]
  },
  {
   "cell_type": "code",
   "execution_count": 168,
   "metadata": {
    "id": "1ae3c7e4"
   },
   "outputs": [
    {
     "data": {
      "text/html": [
       "<div>\n",
       "<style scoped>\n",
       "    .dataframe tbody tr th:only-of-type {\n",
       "        vertical-align: middle;\n",
       "    }\n",
       "\n",
       "    .dataframe tbody tr th {\n",
       "        vertical-align: top;\n",
       "    }\n",
       "\n",
       "    .dataframe thead th {\n",
       "        text-align: right;\n",
       "    }\n",
       "</style>\n",
       "<table border=\"1\" class=\"dataframe\">\n",
       "  <thead>\n",
       "    <tr style=\"text-align: right;\">\n",
       "      <th></th>\n",
       "      <th>business_code</th>\n",
       "      <th>cust_number</th>\n",
       "      <th>name_customer</th>\n",
       "      <th>clear_date</th>\n",
       "      <th>buisness_year</th>\n",
       "      <th>doc_id</th>\n",
       "      <th>posting_date</th>\n",
       "      <th>due_in_date</th>\n",
       "      <th>invoice_currency</th>\n",
       "      <th>total_open_amount</th>\n",
       "      <th>baseline_create_date</th>\n",
       "      <th>cust_payment_terms</th>\n",
       "    </tr>\n",
       "  </thead>\n",
       "  <tbody>\n",
       "    <tr>\n",
       "      <th>1041</th>\n",
       "      <td>U001</td>\n",
       "      <td>0200769623</td>\n",
       "      <td>WAL-MAR in</td>\n",
       "      <td>2019-03-12 00:00:00</td>\n",
       "      <td>2019.0</td>\n",
       "      <td>1.928870e+09</td>\n",
       "      <td>2019-02-28</td>\n",
       "      <td>20190315.0</td>\n",
       "      <td>USD</td>\n",
       "      <td>19557.41</td>\n",
       "      <td>20190228.0</td>\n",
       "      <td>NAH4</td>\n",
       "    </tr>\n",
       "    <tr>\n",
       "      <th>2400</th>\n",
       "      <td>U001</td>\n",
       "      <td>0200769623</td>\n",
       "      <td>WAL-MAR trust</td>\n",
       "      <td>2019-08-28 00:00:00</td>\n",
       "      <td>2019.0</td>\n",
       "      <td>1.929758e+09</td>\n",
       "      <td>2019-08-18</td>\n",
       "      <td>20190902.0</td>\n",
       "      <td>USD</td>\n",
       "      <td>5600.41</td>\n",
       "      <td>20190818.0</td>\n",
       "      <td>NAH4</td>\n",
       "    </tr>\n",
       "    <tr>\n",
       "      <th>2584</th>\n",
       "      <td>U001</td>\n",
       "      <td>0200769623</td>\n",
       "      <td>WAL-MAR corporation</td>\n",
       "      <td>2019-12-16 00:00:00</td>\n",
       "      <td>2019.0</td>\n",
       "      <td>1.930217e+09</td>\n",
       "      <td>2019-12-04</td>\n",
       "      <td>20191219.0</td>\n",
       "      <td>USD</td>\n",
       "      <td>35352.17</td>\n",
       "      <td>20191204.0</td>\n",
       "      <td>NAH4</td>\n",
       "    </tr>\n",
       "    <tr>\n",
       "      <th>3755</th>\n",
       "      <td>U001</td>\n",
       "      <td>0200769623</td>\n",
       "      <td>WAL-MAR</td>\n",
       "      <td>2019-11-22 00:00:00</td>\n",
       "      <td>2019.0</td>\n",
       "      <td>1.930137e+09</td>\n",
       "      <td>2019-11-12</td>\n",
       "      <td>20191127.0</td>\n",
       "      <td>USD</td>\n",
       "      <td>2982.64</td>\n",
       "      <td>20191112.0</td>\n",
       "      <td>NAH4</td>\n",
       "    </tr>\n",
       "    <tr>\n",
       "      <th>3873</th>\n",
       "      <td>CA02</td>\n",
       "      <td>0140104409</td>\n",
       "      <td>LOB associates</td>\n",
       "      <td>NaN</td>\n",
       "      <td>2020.0</td>\n",
       "      <td>2.960629e+09</td>\n",
       "      <td>2020-04-14</td>\n",
       "      <td>20200425.0</td>\n",
       "      <td>CAD</td>\n",
       "      <td>82975.82</td>\n",
       "      <td>20200415.0</td>\n",
       "      <td>CA10</td>\n",
       "    </tr>\n",
       "    <tr>\n",
       "      <th>...</th>\n",
       "      <td>...</td>\n",
       "      <td>...</td>\n",
       "      <td>...</td>\n",
       "      <td>...</td>\n",
       "      <td>...</td>\n",
       "      <td>...</td>\n",
       "      <td>...</td>\n",
       "      <td>...</td>\n",
       "      <td>...</td>\n",
       "      <td>...</td>\n",
       "      <td>...</td>\n",
       "      <td>...</td>\n",
       "    </tr>\n",
       "    <tr>\n",
       "      <th>49928</th>\n",
       "      <td>U001</td>\n",
       "      <td>0200915438</td>\n",
       "      <td>GROC trust</td>\n",
       "      <td>2019-08-15 00:00:00</td>\n",
       "      <td>2019.0</td>\n",
       "      <td>1.929646e+09</td>\n",
       "      <td>2019-07-25</td>\n",
       "      <td>20190809.0</td>\n",
       "      <td>USD</td>\n",
       "      <td>6969.00</td>\n",
       "      <td>20190725.0</td>\n",
       "      <td>NAA8</td>\n",
       "    </tr>\n",
       "    <tr>\n",
       "      <th>49963</th>\n",
       "      <td>U001</td>\n",
       "      <td>0200759878</td>\n",
       "      <td>SA us</td>\n",
       "      <td>2019-01-29 00:00:00</td>\n",
       "      <td>2019.0</td>\n",
       "      <td>1.928614e+09</td>\n",
       "      <td>2019-01-13</td>\n",
       "      <td>20190128.0</td>\n",
       "      <td>USD</td>\n",
       "      <td>10968.24</td>\n",
       "      <td>20190113.0</td>\n",
       "      <td>NAH4</td>\n",
       "    </tr>\n",
       "    <tr>\n",
       "      <th>49986</th>\n",
       "      <td>U001</td>\n",
       "      <td>0200772670</td>\n",
       "      <td>ASSOCIAT foundation</td>\n",
       "      <td>2019-06-12 00:00:00</td>\n",
       "      <td>2019.0</td>\n",
       "      <td>1.929403e+09</td>\n",
       "      <td>2019-05-29</td>\n",
       "      <td>20190613.0</td>\n",
       "      <td>USD</td>\n",
       "      <td>155837.53</td>\n",
       "      <td>20190529.0</td>\n",
       "      <td>NAU5</td>\n",
       "    </tr>\n",
       "    <tr>\n",
       "      <th>49990</th>\n",
       "      <td>U001</td>\n",
       "      <td>0200765011</td>\n",
       "      <td>MAINES llc</td>\n",
       "      <td>2019-06-06 00:00:00</td>\n",
       "      <td>2019.0</td>\n",
       "      <td>1.929365e+09</td>\n",
       "      <td>2019-05-22</td>\n",
       "      <td>20190606.0</td>\n",
       "      <td>USD</td>\n",
       "      <td>4008.05</td>\n",
       "      <td>20190522.0</td>\n",
       "      <td>NAA8</td>\n",
       "    </tr>\n",
       "    <tr>\n",
       "      <th>49991</th>\n",
       "      <td>U001</td>\n",
       "      <td>0200704045</td>\n",
       "      <td>RA trust</td>\n",
       "      <td>2019-10-25 00:00:00</td>\n",
       "      <td>2019.0</td>\n",
       "      <td>1.930001e+09</td>\n",
       "      <td>2019-10-10</td>\n",
       "      <td>20191025.0</td>\n",
       "      <td>USD</td>\n",
       "      <td>73002.24</td>\n",
       "      <td>20191010.0</td>\n",
       "      <td>NAA8</td>\n",
       "    </tr>\n",
       "  </tbody>\n",
       "</table>\n",
       "<p>1161 rows × 12 columns</p>\n",
       "</div>"
      ],
      "text/plain": [
       "      business_code cust_number        name_customer           clear_date  \\\n",
       "1041           U001  0200769623           WAL-MAR in  2019-03-12 00:00:00   \n",
       "2400           U001  0200769623        WAL-MAR trust  2019-08-28 00:00:00   \n",
       "2584           U001  0200769623  WAL-MAR corporation  2019-12-16 00:00:00   \n",
       "3755           U001  0200769623             WAL-MAR   2019-11-22 00:00:00   \n",
       "3873           CA02  0140104409       LOB associates                  NaN   \n",
       "...             ...         ...                  ...                  ...   \n",
       "49928          U001  0200915438           GROC trust  2019-08-15 00:00:00   \n",
       "49963          U001  0200759878                SA us  2019-01-29 00:00:00   \n",
       "49986          U001  0200772670  ASSOCIAT foundation  2019-06-12 00:00:00   \n",
       "49990          U001  0200765011           MAINES llc  2019-06-06 00:00:00   \n",
       "49991          U001  0200704045             RA trust  2019-10-25 00:00:00   \n",
       "\n",
       "       buisness_year        doc_id posting_date  due_in_date invoice_currency  \\\n",
       "1041          2019.0  1.928870e+09   2019-02-28   20190315.0              USD   \n",
       "2400          2019.0  1.929758e+09   2019-08-18   20190902.0              USD   \n",
       "2584          2019.0  1.930217e+09   2019-12-04   20191219.0              USD   \n",
       "3755          2019.0  1.930137e+09   2019-11-12   20191127.0              USD   \n",
       "3873          2020.0  2.960629e+09   2020-04-14   20200425.0              CAD   \n",
       "...              ...           ...          ...          ...              ...   \n",
       "49928         2019.0  1.929646e+09   2019-07-25   20190809.0              USD   \n",
       "49963         2019.0  1.928614e+09   2019-01-13   20190128.0              USD   \n",
       "49986         2019.0  1.929403e+09   2019-05-29   20190613.0              USD   \n",
       "49990         2019.0  1.929365e+09   2019-05-22   20190606.0              USD   \n",
       "49991         2019.0  1.930001e+09   2019-10-10   20191025.0              USD   \n",
       "\n",
       "       total_open_amount  baseline_create_date cust_payment_terms  \n",
       "1041            19557.41            20190228.0               NAH4  \n",
       "2400             5600.41            20190818.0               NAH4  \n",
       "2584            35352.17            20191204.0               NAH4  \n",
       "3755             2982.64            20191112.0               NAH4  \n",
       "3873            82975.82            20200415.0               CA10  \n",
       "...                  ...                   ...                ...  \n",
       "49928            6969.00            20190725.0               NAA8  \n",
       "49963           10968.24            20190113.0               NAH4  \n",
       "49986          155837.53            20190529.0               NAU5  \n",
       "49990            4008.05            20190522.0               NAA8  \n",
       "49991           73002.24            20191010.0               NAA8  \n",
       "\n",
       "[1161 rows x 12 columns]"
      ]
     },
     "execution_count": 168,
     "metadata": {},
     "output_type": "execute_result"
    }
   ],
   "source": [
    "# display duplicated rows\n",
    "\n",
    "duplicate_rows = data[data.duplicated(keep=\"first\")]\n",
    "duplicate_rows"
   ]
  },
  {
   "cell_type": "markdown",
   "metadata": {
    "id": "464fab09"
   },
   "source": [
    "### Display the Number of Dublicate Rows"
   ]
  },
  {
   "cell_type": "code",
   "execution_count": 169,
   "metadata": {
    "id": "b1ea2397"
   },
   "outputs": [
    {
     "data": {
      "text/plain": [
       "1161"
      ]
     },
     "execution_count": 169,
     "metadata": {},
     "output_type": "execute_result"
    }
   ],
   "source": [
    "# calculate no of duplicated rows in dataframe\n",
    "\n",
    "data.duplicated().sum()"
   ]
  },
  {
   "cell_type": "markdown",
   "metadata": {
    "id": "827a6718"
   },
   "source": [
    "### Drop all the Dublicate Rows"
   ]
  },
  {
   "cell_type": "code",
   "execution_count": 170,
   "metadata": {
    "id": "5d10151c"
   },
   "outputs": [],
   "source": [
    "# removed duplicate rows\n",
    "# keep basically treats the first values as distinct and consider all other values as same or repeated \n",
    "\n",
    "data.drop_duplicates(keep='first',inplace=True)"
   ]
  },
  {
   "cell_type": "markdown",
   "metadata": {
    "id": "7e5d1f9b"
   },
   "source": [
    "#### Now check for all dublicate rows now\n",
    "\n",
    "- Note - It must be 0 by now"
   ]
  },
  {
   "cell_type": "code",
   "execution_count": 171,
   "metadata": {
    "id": "9accc9fc"
   },
   "outputs": [
    {
     "data": {
      "text/plain": [
       "0"
      ]
     },
     "execution_count": 171,
     "metadata": {},
     "output_type": "execute_result"
    }
   ],
   "source": [
    "# calculate duplicated row after drop\n",
    "\n",
    "data.duplicated().sum()"
   ]
  },
  {
   "cell_type": "markdown",
   "metadata": {
    "id": "d0704898"
   },
   "source": [
    "### Check for the number of Rows and Columns in your dataset"
   ]
  },
  {
   "cell_type": "code",
   "execution_count": 172,
   "metadata": {
    "id": "582748a8"
   },
   "outputs": [
    {
     "data": {
      "text/plain": [
       "(48839, 12)"
      ]
     },
     "execution_count": 172,
     "metadata": {},
     "output_type": "execute_result"
    }
   ],
   "source": [
    "# display no of rows and columns in dataframe\n",
    "\n",
    "data.shape"
   ]
  },
  {
   "cell_type": "markdown",
   "metadata": {
    "id": "4o9c5UodWRtl"
   },
   "source": [
    "### Find out the total count of null values in each columns"
   ]
  },
  {
   "cell_type": "code",
   "execution_count": 173,
   "metadata": {
    "id": "b0612cb5"
   },
   "outputs": [
    {
     "data": {
      "text/plain": [
       "business_code              0\n",
       "cust_number                0\n",
       "name_customer              0\n",
       "clear_date              9681\n",
       "buisness_year              0\n",
       "doc_id                     0\n",
       "posting_date               0\n",
       "due_in_date                0\n",
       "invoice_currency           0\n",
       "total_open_amount          0\n",
       "baseline_create_date       0\n",
       "cust_payment_terms         0\n",
       "dtype: int64"
      ]
     },
     "execution_count": 173,
     "metadata": {},
     "output_type": "execute_result"
    }
   ],
   "source": [
    "# calculate null values in each column of dataframe\n",
    "\n",
    "data.isnull().sum()"
   ]
  },
  {
   "cell_type": "markdown",
   "metadata": {
    "id": "7abdb98b"
   },
   "source": [
    "## Data type Conversion "
   ]
  },
  {
   "cell_type": "markdown",
   "metadata": {
    "id": "LPfSUSp-WpPj"
   },
   "source": [
    "### Please check the data type of each column of the dataframe"
   ]
  },
  {
   "cell_type": "code",
   "execution_count": 174,
   "metadata": {
    "id": "689c8592"
   },
   "outputs": [
    {
     "data": {
      "text/plain": [
       "business_code            object\n",
       "cust_number              object\n",
       "name_customer            object\n",
       "clear_date               object\n",
       "buisness_year           float64\n",
       "doc_id                  float64\n",
       "posting_date             object\n",
       "due_in_date             float64\n",
       "invoice_currency         object\n",
       "total_open_amount       float64\n",
       "baseline_create_date    float64\n",
       "cust_payment_terms       object\n",
       "dtype: object"
      ]
     },
     "execution_count": 174,
     "metadata": {},
     "output_type": "execute_result"
    }
   ],
   "source": [
    "# display datatype of each column in dataframe\n",
    "\n",
    "data.dtypes"
   ]
  },
  {
   "cell_type": "markdown",
   "metadata": {
    "id": "0nsem0_3XzOt"
   },
   "source": [
    "### Check the datatype format of below columns\n",
    "\n",
    "- clear_date  \n",
    "- posting_date\n",
    "- due_in_date \n",
    "- baseline_create_date"
   ]
  },
  {
   "cell_type": "code",
   "execution_count": 175,
   "metadata": {
    "id": "-yyODyW3X6pL"
   },
   "outputs": [
    {
     "data": {
      "text/plain": [
       "clear_date               object\n",
       "posting_date             object\n",
       "due_in_date             float64\n",
       "baseline_create_date    float64\n",
       "dtype: object"
      ]
     },
     "execution_count": 175,
     "metadata": {},
     "output_type": "execute_result"
    }
   ],
   "source": [
    "# datatypes of particular columns\n",
    "\n",
    "cols = ['clear_date','posting_date','due_in_date','baseline_create_date'];\n",
    "data[cols].dtypes"
   ]
  },
  {
   "cell_type": "markdown",
   "metadata": {
    "id": "11cf9478"
   },
   "source": [
    "### converting date columns into date time formats\n",
    "\n",
    "- clear_date  \n",
    "- posting_date\n",
    "- due_in_date \n",
    "- baseline_create_date\n",
    "\n",
    "\n",
    "- **Note - You have to convert all these above columns into \"%Y%m%d\" format**"
   ]
  },
  {
   "cell_type": "code",
   "execution_count": 176,
   "metadata": {
    "id": "9a8c6c71"
   },
   "outputs": [],
   "source": [
    "# convert the data type of the date column to DateTime\n",
    "\n",
    "data['clear_date'] = pd.to_datetime(data['clear_date'])\n",
    "data['posting_date'] = pd.to_datetime(data['posting_date'])\n",
    "data['due_in_date'] = pd.to_datetime(data['due_in_date'], format='%Y%m%d')\n",
    "data['baseline_create_date'] = pd.to_datetime(data['baseline_create_date'], format='%Y%m%d')"
   ]
  },
  {
   "cell_type": "markdown",
   "metadata": {
    "id": "7adq0wSIYSCS"
   },
   "source": [
    "### Please check the datatype of all the columns after conversion of the above 4 columns"
   ]
  },
  {
   "cell_type": "code",
   "execution_count": 177,
   "metadata": {
    "id": "fd028c61"
   },
   "outputs": [
    {
     "data": {
      "text/plain": [
       "business_code                   object\n",
       "cust_number                     object\n",
       "name_customer                   object\n",
       "clear_date              datetime64[ns]\n",
       "buisness_year                  float64\n",
       "doc_id                         float64\n",
       "posting_date            datetime64[ns]\n",
       "due_in_date             datetime64[ns]\n",
       "invoice_currency                object\n",
       "total_open_amount              float64\n",
       "baseline_create_date    datetime64[ns]\n",
       "cust_payment_terms              object\n",
       "dtype: object"
      ]
     },
     "execution_count": 177,
     "metadata": {},
     "output_type": "execute_result"
    }
   ],
   "source": [
    "# display datatype of each column in dataframe\n",
    "\n",
    "data.dtypes"
   ]
  },
  {
   "cell_type": "markdown",
   "metadata": {
    "id": "8c9882fa"
   },
   "source": [
    "#### the invoice_currency column contains two different categories, USD and CAD\n",
    "\n",
    "- Please do a count of each currency "
   ]
  },
  {
   "cell_type": "code",
   "execution_count": 178,
   "metadata": {
    "id": "72085397"
   },
   "outputs": [
    {
     "data": {
      "text/plain": [
       "USD    45011\n",
       "CAD     3828\n",
       "Name: invoice_currency, dtype: int64"
      ]
     },
     "execution_count": 178,
     "metadata": {},
     "output_type": "execute_result"
    }
   ],
   "source": [
    "# counts of invoice_currency (USD AND CAD)\n",
    "\n",
    "data['invoice_currency'].value_counts()"
   ]
  },
  {
   "cell_type": "markdown",
   "metadata": {
    "id": "6cbe26ee"
   },
   "source": [
    "#### display the \"total_open_amount\" column value"
   ]
  },
  {
   "cell_type": "code",
   "execution_count": 179,
   "metadata": {
    "id": "6c49f2ab"
   },
   "outputs": [
    {
     "data": {
      "text/plain": [
       "0        54273.28\n",
       "1        79656.60\n",
       "2         2253.86\n",
       "3         3299.70\n",
       "4        33133.29\n",
       "           ...   \n",
       "49995     3187.86\n",
       "49996     6766.54\n",
       "49997     6120.86\n",
       "49998       63.48\n",
       "49999     1790.30\n",
       "Name: total_open_amount, Length: 48839, dtype: float64"
      ]
     },
     "execution_count": 179,
     "metadata": {},
     "output_type": "execute_result"
    }
   ],
   "source": [
    "# display total_open_amount column of dataframe\n",
    "\n",
    "data['total_open_amount']"
   ]
  },
  {
   "cell_type": "markdown",
   "metadata": {
    "id": "df899966"
   },
   "source": [
    "### Convert all CAD into USD currency of \"total_open_amount\" column\n",
    "\n",
    "- 1 CAD = 0.7 USD\n",
    "- Create a new column i.e \"converted_usd\" and store USD and convered CAD to USD"
   ]
  },
  {
   "cell_type": "code",
   "execution_count": 180,
   "metadata": {
    "id": "8eb2f1c5"
   },
   "outputs": [],
   "source": [
    "# conversion\n",
    "\n",
    "converted_currency = []\n",
    "for i in range(data.shape[0]):\n",
    "    if(data.iloc[i]['invoice_currency'] == \"CAD\"):\n",
    "        converted_currency.append(data.iloc[i]['total_open_amount'] * 0.7)\n",
    "    else:\n",
    "        converted_currency.append(data.iloc[i]['total_open_amount'])\n",
    "        \n",
    "data['converted_usd'] = converted_currency"
   ]
  },
  {
   "cell_type": "markdown",
   "metadata": {
    "id": "f9f6ef1d"
   },
   "source": [
    "### Display the new \"converted_usd\" column values"
   ]
  },
  {
   "cell_type": "code",
   "execution_count": 181,
   "metadata": {
    "id": "1fc1a178"
   },
   "outputs": [
    {
     "data": {
      "text/plain": [
       "0        54273.28\n",
       "1        79656.60\n",
       "2         2253.86\n",
       "3         2309.79\n",
       "4        33133.29\n",
       "           ...   \n",
       "49995     3187.86\n",
       "49996     6766.54\n",
       "49997     6120.86\n",
       "49998       63.48\n",
       "49999     1790.30\n",
       "Name: converted_usd, Length: 48839, dtype: float64"
      ]
     },
     "execution_count": 181,
     "metadata": {},
     "output_type": "execute_result"
    }
   ],
   "source": [
    "# display new converted_usd column from dataframe\n",
    "\n",
    "data['converted_usd']"
   ]
  },
  {
   "cell_type": "markdown",
   "metadata": {
    "id": "6XLXX17kayuy"
   },
   "source": [
    "### Display year wise total number of record \n",
    "\n",
    "- Note -  use \"buisness_year\" column for this "
   ]
  },
  {
   "cell_type": "code",
   "execution_count": 182,
   "metadata": {
    "id": "00c9f6ee"
   },
   "outputs": [
    {
     "data": {
      "text/plain": [
       "2019.0    33975\n",
       "2020.0    14864\n",
       "Name: buisness_year, dtype: int64"
      ]
     },
     "execution_count": 182,
     "metadata": {},
     "output_type": "execute_result"
    }
   ],
   "source": [
    "# display year wise no of records according to business_year\n",
    "\n",
    "data['buisness_year'].value_counts()"
   ]
  },
  {
   "cell_type": "markdown",
   "metadata": {
    "id": "05c35904"
   },
   "source": [
    "### Write the code to delete the following columns \n",
    "\n",
    "- 'invoice_currency'\n",
    "- 'total_open_amount', "
   ]
  },
  {
   "cell_type": "code",
   "execution_count": 183,
   "metadata": {
    "id": "4ac28aa5"
   },
   "outputs": [],
   "source": [
    "# drop particular columns from dataframe\n",
    "\n",
    "cols = ['invoice_currency', 'total_open_amount']\n",
    "data.drop(cols,inplace=True,axis=1)"
   ]
  },
  {
   "cell_type": "markdown",
   "metadata": {
    "id": "bDBJ_Kvwc086"
   },
   "source": [
    "### Write a code to check the number of columns in dataframe"
   ]
  },
  {
   "cell_type": "code",
   "execution_count": 184,
   "metadata": {
    "id": "ea360a8c"
   },
   "outputs": [
    {
     "data": {
      "text/plain": [
       "11"
      ]
     },
     "execution_count": 184,
     "metadata": {},
     "output_type": "execute_result"
    }
   ],
   "source": [
    "# check no of columns after drop\n",
    "\n",
    "data.shape[1]"
   ]
  },
  {
   "cell_type": "markdown",
   "metadata": {
    "id": "b8f63655"
   },
   "source": [
    "# Splitting the Dataset "
   ]
  },
  {
   "cell_type": "markdown",
   "metadata": {
    "id": "a00f749d"
   },
   "source": [
    "### Look for all columns containing null value\n",
    "\n",
    "- Note - Output expected is only one column "
   ]
  },
  {
   "cell_type": "code",
   "execution_count": 185,
   "metadata": {
    "id": "148c801e"
   },
   "outputs": [
    {
     "data": {
      "text/plain": [
       "['clear_date']"
      ]
     },
     "execution_count": 185,
     "metadata": {},
     "output_type": "execute_result"
    }
   ],
   "source": [
    "# columns having null value in dataframe\n",
    "\n",
    "cols_null = []\n",
    "for col in data.columns:\n",
    "    if(data[col].isnull().sum() > 0):\n",
    "        cols_null.append(col)\n",
    "cols_null"
   ]
  },
  {
   "cell_type": "markdown",
   "metadata": {
    "id": "a094a290"
   },
   "source": [
    "#### Find out the number of null values from the column that you got from the above code"
   ]
  },
  {
   "cell_type": "code",
   "execution_count": 186,
   "metadata": {
    "id": "30bfb113"
   },
   "outputs": [
    {
     "data": {
      "text/plain": [
       "clear_date    9681\n",
       "dtype: int64"
      ]
     },
     "execution_count": 186,
     "metadata": {},
     "output_type": "execute_result"
    }
   ],
   "source": [
    "# count null values in clear_date\n",
    "\n",
    "data[cols_null].isnull().sum()"
   ]
  },
  {
   "cell_type": "markdown",
   "metadata": {
    "id": "7f6d939b"
   },
   "source": [
    "### On basis of the above column we are spliting data into dataset\n",
    "\n",
    "- First dataframe (refer that as maindata) only containing the rows, that have NULL data in that column ( This is going to be our train dataset ) \n",
    "- Second dataframe (refer that as nulldata) that contains the columns, that have Not Null data in that column ( This is going to be our test dataset ) "
   ]
  },
  {
   "cell_type": "code",
   "execution_count": 187,
   "metadata": {
    "id": "c8764c33"
   },
   "outputs": [],
   "source": [
    "# maindata is the final data to be used to predict null_data\n",
    "# nulldata is the final data in which model has to predict\n",
    "\n",
    "maindata = data[data[cols_null[0]].notnull()].copy()\n",
    "\n",
    "nulldata = data[data[cols_null[0]].isnull()].copy()"
   ]
  },
  {
   "cell_type": "markdown",
   "metadata": {
    "id": "3P8riRBHd_r6"
   },
   "source": [
    "### Check the number of Rows and Columns for both the dataframes "
   ]
  },
  {
   "cell_type": "code",
   "execution_count": 188,
   "metadata": {
    "id": "0693a464"
   },
   "outputs": [
    {
     "name": "stdout",
     "output_type": "stream",
     "text": [
      "(39158, 11)\n"
     ]
    }
   ],
   "source": [
    "# no of rows and columns of main_data\n",
    "\n",
    "print(maindata.shape)"
   ]
  },
  {
   "cell_type": "code",
   "execution_count": 189,
   "metadata": {
    "id": "7f86bc74"
   },
   "outputs": [
    {
     "name": "stdout",
     "output_type": "stream",
     "text": [
      "(9681, 11)\n"
     ]
    }
   ],
   "source": [
    "# no of rows and columns of null_data\n",
    "\n",
    "print(nulldata.shape)"
   ]
  },
  {
   "cell_type": "markdown",
   "metadata": {
    "id": "0747165d"
   },
   "source": [
    "### Display the 5 records from maindata and nulldata dataframes"
   ]
  },
  {
   "cell_type": "code",
   "execution_count": 190,
   "metadata": {
    "id": "dec2ec36"
   },
   "outputs": [
    {
     "data": {
      "text/html": [
       "<div>\n",
       "<style scoped>\n",
       "    .dataframe tbody tr th:only-of-type {\n",
       "        vertical-align: middle;\n",
       "    }\n",
       "\n",
       "    .dataframe tbody tr th {\n",
       "        vertical-align: top;\n",
       "    }\n",
       "\n",
       "    .dataframe thead th {\n",
       "        text-align: right;\n",
       "    }\n",
       "</style>\n",
       "<table border=\"1\" class=\"dataframe\">\n",
       "  <thead>\n",
       "    <tr style=\"text-align: right;\">\n",
       "      <th></th>\n",
       "      <th>business_code</th>\n",
       "      <th>cust_number</th>\n",
       "      <th>name_customer</th>\n",
       "      <th>clear_date</th>\n",
       "      <th>buisness_year</th>\n",
       "      <th>doc_id</th>\n",
       "      <th>posting_date</th>\n",
       "      <th>due_in_date</th>\n",
       "      <th>baseline_create_date</th>\n",
       "      <th>cust_payment_terms</th>\n",
       "      <th>converted_usd</th>\n",
       "    </tr>\n",
       "  </thead>\n",
       "  <tbody>\n",
       "    <tr>\n",
       "      <th>0</th>\n",
       "      <td>U001</td>\n",
       "      <td>0200769623</td>\n",
       "      <td>WAL-MAR corp</td>\n",
       "      <td>2020-02-11</td>\n",
       "      <td>2020.0</td>\n",
       "      <td>1.930438e+09</td>\n",
       "      <td>2020-01-26</td>\n",
       "      <td>2020-02-10</td>\n",
       "      <td>2020-01-26</td>\n",
       "      <td>NAH4</td>\n",
       "      <td>54273.280</td>\n",
       "    </tr>\n",
       "    <tr>\n",
       "      <th>1</th>\n",
       "      <td>U001</td>\n",
       "      <td>0200980828</td>\n",
       "      <td>BEN E</td>\n",
       "      <td>2019-08-08</td>\n",
       "      <td>2019.0</td>\n",
       "      <td>1.929646e+09</td>\n",
       "      <td>2019-07-22</td>\n",
       "      <td>2019-08-11</td>\n",
       "      <td>2019-07-22</td>\n",
       "      <td>NAD1</td>\n",
       "      <td>79656.600</td>\n",
       "    </tr>\n",
       "    <tr>\n",
       "      <th>2</th>\n",
       "      <td>U001</td>\n",
       "      <td>0200792734</td>\n",
       "      <td>MDV/ trust</td>\n",
       "      <td>2019-12-30</td>\n",
       "      <td>2019.0</td>\n",
       "      <td>1.929874e+09</td>\n",
       "      <td>2019-09-14</td>\n",
       "      <td>2019-09-29</td>\n",
       "      <td>2019-09-14</td>\n",
       "      <td>NAA8</td>\n",
       "      <td>2253.860</td>\n",
       "    </tr>\n",
       "    <tr>\n",
       "      <th>4</th>\n",
       "      <td>U001</td>\n",
       "      <td>0200769623</td>\n",
       "      <td>WAL-MAR foundation</td>\n",
       "      <td>2019-11-25</td>\n",
       "      <td>2019.0</td>\n",
       "      <td>1.930148e+09</td>\n",
       "      <td>2019-11-13</td>\n",
       "      <td>2019-11-28</td>\n",
       "      <td>2019-11-13</td>\n",
       "      <td>NAH4</td>\n",
       "      <td>33133.290</td>\n",
       "    </tr>\n",
       "    <tr>\n",
       "      <th>5</th>\n",
       "      <td>CA02</td>\n",
       "      <td>0140106181</td>\n",
       "      <td>THE  corporation</td>\n",
       "      <td>2019-12-04</td>\n",
       "      <td>2019.0</td>\n",
       "      <td>2.960581e+09</td>\n",
       "      <td>2019-09-20</td>\n",
       "      <td>2019-10-04</td>\n",
       "      <td>2019-09-24</td>\n",
       "      <td>CA10</td>\n",
       "      <td>15558.088</td>\n",
       "    </tr>\n",
       "  </tbody>\n",
       "</table>\n",
       "</div>"
      ],
      "text/plain": [
       "  business_code cust_number       name_customer clear_date  buisness_year  \\\n",
       "0          U001  0200769623        WAL-MAR corp 2020-02-11         2020.0   \n",
       "1          U001  0200980828              BEN E  2019-08-08         2019.0   \n",
       "2          U001  0200792734          MDV/ trust 2019-12-30         2019.0   \n",
       "4          U001  0200769623  WAL-MAR foundation 2019-11-25         2019.0   \n",
       "5          CA02  0140106181    THE  corporation 2019-12-04         2019.0   \n",
       "\n",
       "         doc_id posting_date due_in_date baseline_create_date  \\\n",
       "0  1.930438e+09   2020-01-26  2020-02-10           2020-01-26   \n",
       "1  1.929646e+09   2019-07-22  2019-08-11           2019-07-22   \n",
       "2  1.929874e+09   2019-09-14  2019-09-29           2019-09-14   \n",
       "4  1.930148e+09   2019-11-13  2019-11-28           2019-11-13   \n",
       "5  2.960581e+09   2019-09-20  2019-10-04           2019-09-24   \n",
       "\n",
       "  cust_payment_terms  converted_usd  \n",
       "0               NAH4      54273.280  \n",
       "1               NAD1      79656.600  \n",
       "2               NAA8       2253.860  \n",
       "4               NAH4      33133.290  \n",
       "5               CA10      15558.088  "
      ]
     },
     "execution_count": 190,
     "metadata": {},
     "output_type": "execute_result"
    }
   ],
   "source": [
    "# display main_data\n",
    "\n",
    "maindata.head()"
   ]
  },
  {
   "cell_type": "code",
   "execution_count": 191,
   "metadata": {
    "id": "eee2d68a"
   },
   "outputs": [
    {
     "data": {
      "text/html": [
       "<div>\n",
       "<style scoped>\n",
       "    .dataframe tbody tr th:only-of-type {\n",
       "        vertical-align: middle;\n",
       "    }\n",
       "\n",
       "    .dataframe tbody tr th {\n",
       "        vertical-align: top;\n",
       "    }\n",
       "\n",
       "    .dataframe thead th {\n",
       "        text-align: right;\n",
       "    }\n",
       "</style>\n",
       "<table border=\"1\" class=\"dataframe\">\n",
       "  <thead>\n",
       "    <tr style=\"text-align: right;\">\n",
       "      <th></th>\n",
       "      <th>business_code</th>\n",
       "      <th>cust_number</th>\n",
       "      <th>name_customer</th>\n",
       "      <th>clear_date</th>\n",
       "      <th>buisness_year</th>\n",
       "      <th>doc_id</th>\n",
       "      <th>posting_date</th>\n",
       "      <th>due_in_date</th>\n",
       "      <th>baseline_create_date</th>\n",
       "      <th>cust_payment_terms</th>\n",
       "      <th>converted_usd</th>\n",
       "    </tr>\n",
       "  </thead>\n",
       "  <tbody>\n",
       "    <tr>\n",
       "      <th>3</th>\n",
       "      <td>CA02</td>\n",
       "      <td>0140105686</td>\n",
       "      <td>SYSC llc</td>\n",
       "      <td>NaT</td>\n",
       "      <td>2020.0</td>\n",
       "      <td>2.960623e+09</td>\n",
       "      <td>2020-03-30</td>\n",
       "      <td>2020-04-10</td>\n",
       "      <td>2020-03-31</td>\n",
       "      <td>CA10</td>\n",
       "      <td>2309.79</td>\n",
       "    </tr>\n",
       "    <tr>\n",
       "      <th>7</th>\n",
       "      <td>U001</td>\n",
       "      <td>0200744019</td>\n",
       "      <td>TARG us</td>\n",
       "      <td>NaT</td>\n",
       "      <td>2020.0</td>\n",
       "      <td>1.930659e+09</td>\n",
       "      <td>2020-03-19</td>\n",
       "      <td>2020-04-03</td>\n",
       "      <td>2020-03-19</td>\n",
       "      <td>NAA8</td>\n",
       "      <td>11173.02</td>\n",
       "    </tr>\n",
       "    <tr>\n",
       "      <th>10</th>\n",
       "      <td>U001</td>\n",
       "      <td>0200418007</td>\n",
       "      <td>AM</td>\n",
       "      <td>NaT</td>\n",
       "      <td>2020.0</td>\n",
       "      <td>1.930611e+09</td>\n",
       "      <td>2020-03-11</td>\n",
       "      <td>2020-03-26</td>\n",
       "      <td>2020-03-11</td>\n",
       "      <td>NAA8</td>\n",
       "      <td>3525.59</td>\n",
       "    </tr>\n",
       "    <tr>\n",
       "      <th>14</th>\n",
       "      <td>U001</td>\n",
       "      <td>0200739534</td>\n",
       "      <td>OK systems</td>\n",
       "      <td>NaT</td>\n",
       "      <td>2020.0</td>\n",
       "      <td>1.930788e+09</td>\n",
       "      <td>2020-04-15</td>\n",
       "      <td>2020-04-30</td>\n",
       "      <td>2020-04-15</td>\n",
       "      <td>NAA8</td>\n",
       "      <td>121105.65</td>\n",
       "    </tr>\n",
       "    <tr>\n",
       "      <th>15</th>\n",
       "      <td>U001</td>\n",
       "      <td>0200353024</td>\n",
       "      <td>DECA corporation</td>\n",
       "      <td>NaT</td>\n",
       "      <td>2020.0</td>\n",
       "      <td>1.930817e+09</td>\n",
       "      <td>2020-04-23</td>\n",
       "      <td>2020-04-26</td>\n",
       "      <td>2020-04-16</td>\n",
       "      <td>NAM2</td>\n",
       "      <td>3726.06</td>\n",
       "    </tr>\n",
       "  </tbody>\n",
       "</table>\n",
       "</div>"
      ],
      "text/plain": [
       "   business_code cust_number     name_customer clear_date  buisness_year  \\\n",
       "3           CA02  0140105686          SYSC llc        NaT         2020.0   \n",
       "7           U001  0200744019           TARG us        NaT         2020.0   \n",
       "10          U001  0200418007               AM         NaT         2020.0   \n",
       "14          U001  0200739534        OK systems        NaT         2020.0   \n",
       "15          U001  0200353024  DECA corporation        NaT         2020.0   \n",
       "\n",
       "          doc_id posting_date due_in_date baseline_create_date  \\\n",
       "3   2.960623e+09   2020-03-30  2020-04-10           2020-03-31   \n",
       "7   1.930659e+09   2020-03-19  2020-04-03           2020-03-19   \n",
       "10  1.930611e+09   2020-03-11  2020-03-26           2020-03-11   \n",
       "14  1.930788e+09   2020-04-15  2020-04-30           2020-04-15   \n",
       "15  1.930817e+09   2020-04-23  2020-04-26           2020-04-16   \n",
       "\n",
       "   cust_payment_terms  converted_usd  \n",
       "3                CA10        2309.79  \n",
       "7                NAA8       11173.02  \n",
       "10               NAA8        3525.59  \n",
       "14               NAA8      121105.65  \n",
       "15               NAM2        3726.06  "
      ]
     },
     "execution_count": 191,
     "metadata": {},
     "output_type": "execute_result"
    }
   ],
   "source": [
    "# display null_data\n",
    "\n",
    "nulldata.head()"
   ]
  },
  {
   "cell_type": "markdown",
   "metadata": {
    "id": "24aa6746"
   },
   "source": [
    "## Considering the **maindata**"
   ]
  },
  {
   "cell_type": "markdown",
   "metadata": {
    "id": "f92c4aa7"
   },
   "source": [
    "#### Generate a new column \"Delay\" from the existing columns\n",
    "\n",
    "- Note - You are expected to create a new column 'Delay' from two existing columns, \"clear_date\" and \"due_in_date\" \n",
    "- Formula - Delay = clear_date - due_in_date"
   ]
  },
  {
   "cell_type": "code",
   "execution_count": 192,
   "metadata": {
    "id": "8eeceb9c"
   },
   "outputs": [
    {
     "data": {
      "text/plain": [
       "0        1 days\n",
       "1       -3 days\n",
       "2       92 days\n",
       "4       -3 days\n",
       "5       61 days\n",
       "          ...  \n",
       "49994    0 days\n",
       "49996    4 days\n",
       "49997    0 days\n",
       "49998    0 days\n",
       "49999   -9 days\n",
       "Name: Delay, Length: 39158, dtype: timedelta64[ns]"
      ]
     },
     "execution_count": 192,
     "metadata": {},
     "output_type": "execute_result"
    }
   ],
   "source": [
    "# Creating delay column\n",
    "\n",
    "maindata['Delay'] = maindata.loc[:, 'clear_date'] - maindata.loc[:, 'due_in_date']\n",
    "maindata['Delay']"
   ]
  },
  {
   "cell_type": "markdown",
   "metadata": {
    "id": "f482144e"
   },
   "source": [
    "### Generate a new column \"avgdelay\" from the existing columns\n",
    "\n",
    "- Note - You are expected to make a new column \"avgdelay\" by grouping \"name_customer\" column with reapect to mean of the \"Delay\" column.\n",
    "- This new column \"avg_delay\" is meant to store \"customer_name\" wise delay\n",
    "- groupby('name_customer')['Delay'].mean(numeric_only=False)\n",
    "- Display the new \"avg_delay\" column"
   ]
  },
  {
   "cell_type": "code",
   "execution_count": 193,
   "metadata": {
    "id": "d18d2f8d"
   },
   "outputs": [
    {
     "name": "stdout",
     "output_type": "stream",
     "text": [
      "name_customer\n",
      "11078 us                 17 days 00:00:00\n",
      "17135 associates       -10 days +00:00:00\n",
      "17135 llc               -3 days +00:00:00\n",
      "236008 associates       -3 days +00:00:00\n",
      "99 CE                     2 days 00:00:00\n",
      "                              ...        \n",
      "YEN BROS corp             0 days 00:00:00\n",
      "YEN BROS corporation    -1 days +12:00:00\n",
      "YEN BROS llc            -2 days +00:00:00\n",
      "ZARCO co                -1 days +00:00:00\n",
      "ZIYAD  us                 6 days 00:00:00\n",
      "Name: Delay, Length: 3889, dtype: timedelta64[ns]\n"
     ]
    }
   ],
   "source": [
    "# new column avg_delay to be inserted\n",
    "\n",
    "avgdelay = maindata.groupby(\"name_customer\")[\"Delay\"].mean(numeric_only=False)\n",
    "print(avgdelay)"
   ]
  },
  {
   "cell_type": "markdown",
   "metadata": {
    "id": "64b995e8"
   },
   "source": [
    "You need to add the \"avg_delay\" column with the maindata, mapped with \"name_customer\" column\n",
    "\n",
    " - Note - You need to use map function to map the avgdelay with respect to \"name_customer\" column"
   ]
  },
  {
   "cell_type": "code",
   "execution_count": 194,
   "metadata": {
    "id": "e1e1f3d9"
   },
   "outputs": [
    {
     "data": {
      "text/plain": [
       "0       -3 days +07:08:49.779837\n",
       "1               19 days 00:00:00\n",
       "2         8 days 02:10:54.545454\n",
       "4       -3 days +19:33:27.692307\n",
       "5               71 days 10:40:00\n",
       "                  ...           \n",
       "49994          -1 days +14:45:00\n",
       "49996   -3 days +12:40:08.540925\n",
       "49997     1 days 01:08:34.285714\n",
       "49998     1 days 13:36:42.985074\n",
       "49999   -4 days +02:20:52.173913\n",
       "Name: avg_delay, Length: 39158, dtype: timedelta64[ns]"
      ]
     },
     "execution_count": 194,
     "metadata": {},
     "output_type": "execute_result"
    }
   ],
   "source": [
    "# now map the values in main_data\n",
    "# need to use map function specified\n",
    "\n",
    "maindata['avg_delay'] = maindata['name_customer'].map(avgdelay)\n",
    "maindata['avg_delay']"
   ]
  },
  {
   "cell_type": "markdown",
   "metadata": {
    "id": "1d332525"
   },
   "source": [
    "### Observe that the \"avg_delay\" column is in days format. You need to change the format into seconds\n",
    "\n",
    "- Days_format :  17 days 00:00:00\n",
    "- Format in seconds : 1641600.0"
   ]
  },
  {
   "cell_type": "code",
   "execution_count": 195,
   "metadata": {
    "id": "d5f1041e"
   },
   "outputs": [
    {
     "name": "stdout",
     "output_type": "stream",
     "text": [
      "0       -2.334702e+05\n",
      "1        1.641600e+06\n",
      "2        6.990545e+05\n",
      "4       -1.887923e+05\n",
      "5        6.172800e+06\n",
      "             ...     \n",
      "49994   -3.330000e+04\n",
      "49996   -2.135915e+05\n",
      "49997    9.051429e+04\n",
      "49998    1.354030e+05\n",
      "49999   -3.371478e+05\n",
      "Name: avg_delay, Length: 39158, dtype: float64\n"
     ]
    }
   ],
   "source": [
    "# change to particular format\n",
    "\n",
    "maindata['avg_delay'] = maindata['avg_delay'].dt.total_seconds()\n",
    "print(maindata['avg_delay'])"
   ]
  },
  {
   "cell_type": "markdown",
   "metadata": {
    "id": "OvgtHSsx_O-n"
   },
   "source": [
    "### Display the maindata dataframe "
   ]
  },
  {
   "cell_type": "code",
   "execution_count": 196,
   "metadata": {
    "id": "97ca9c45"
   },
   "outputs": [
    {
     "data": {
      "text/html": [
       "<div>\n",
       "<style scoped>\n",
       "    .dataframe tbody tr th:only-of-type {\n",
       "        vertical-align: middle;\n",
       "    }\n",
       "\n",
       "    .dataframe tbody tr th {\n",
       "        vertical-align: top;\n",
       "    }\n",
       "\n",
       "    .dataframe thead th {\n",
       "        text-align: right;\n",
       "    }\n",
       "</style>\n",
       "<table border=\"1\" class=\"dataframe\">\n",
       "  <thead>\n",
       "    <tr style=\"text-align: right;\">\n",
       "      <th></th>\n",
       "      <th>business_code</th>\n",
       "      <th>cust_number</th>\n",
       "      <th>name_customer</th>\n",
       "      <th>clear_date</th>\n",
       "      <th>buisness_year</th>\n",
       "      <th>doc_id</th>\n",
       "      <th>posting_date</th>\n",
       "      <th>due_in_date</th>\n",
       "      <th>baseline_create_date</th>\n",
       "      <th>cust_payment_terms</th>\n",
       "      <th>converted_usd</th>\n",
       "      <th>Delay</th>\n",
       "      <th>avg_delay</th>\n",
       "    </tr>\n",
       "  </thead>\n",
       "  <tbody>\n",
       "    <tr>\n",
       "      <th>0</th>\n",
       "      <td>U001</td>\n",
       "      <td>0200769623</td>\n",
       "      <td>WAL-MAR corp</td>\n",
       "      <td>2020-02-11</td>\n",
       "      <td>2020.0</td>\n",
       "      <td>1.930438e+09</td>\n",
       "      <td>2020-01-26</td>\n",
       "      <td>2020-02-10</td>\n",
       "      <td>2020-01-26</td>\n",
       "      <td>NAH4</td>\n",
       "      <td>54273.280</td>\n",
       "      <td>1 days</td>\n",
       "      <td>-2.334702e+05</td>\n",
       "    </tr>\n",
       "    <tr>\n",
       "      <th>1</th>\n",
       "      <td>U001</td>\n",
       "      <td>0200980828</td>\n",
       "      <td>BEN E</td>\n",
       "      <td>2019-08-08</td>\n",
       "      <td>2019.0</td>\n",
       "      <td>1.929646e+09</td>\n",
       "      <td>2019-07-22</td>\n",
       "      <td>2019-08-11</td>\n",
       "      <td>2019-07-22</td>\n",
       "      <td>NAD1</td>\n",
       "      <td>79656.600</td>\n",
       "      <td>-3 days</td>\n",
       "      <td>1.641600e+06</td>\n",
       "    </tr>\n",
       "    <tr>\n",
       "      <th>2</th>\n",
       "      <td>U001</td>\n",
       "      <td>0200792734</td>\n",
       "      <td>MDV/ trust</td>\n",
       "      <td>2019-12-30</td>\n",
       "      <td>2019.0</td>\n",
       "      <td>1.929874e+09</td>\n",
       "      <td>2019-09-14</td>\n",
       "      <td>2019-09-29</td>\n",
       "      <td>2019-09-14</td>\n",
       "      <td>NAA8</td>\n",
       "      <td>2253.860</td>\n",
       "      <td>92 days</td>\n",
       "      <td>6.990545e+05</td>\n",
       "    </tr>\n",
       "    <tr>\n",
       "      <th>4</th>\n",
       "      <td>U001</td>\n",
       "      <td>0200769623</td>\n",
       "      <td>WAL-MAR foundation</td>\n",
       "      <td>2019-11-25</td>\n",
       "      <td>2019.0</td>\n",
       "      <td>1.930148e+09</td>\n",
       "      <td>2019-11-13</td>\n",
       "      <td>2019-11-28</td>\n",
       "      <td>2019-11-13</td>\n",
       "      <td>NAH4</td>\n",
       "      <td>33133.290</td>\n",
       "      <td>-3 days</td>\n",
       "      <td>-1.887923e+05</td>\n",
       "    </tr>\n",
       "    <tr>\n",
       "      <th>5</th>\n",
       "      <td>CA02</td>\n",
       "      <td>0140106181</td>\n",
       "      <td>THE  corporation</td>\n",
       "      <td>2019-12-04</td>\n",
       "      <td>2019.0</td>\n",
       "      <td>2.960581e+09</td>\n",
       "      <td>2019-09-20</td>\n",
       "      <td>2019-10-04</td>\n",
       "      <td>2019-09-24</td>\n",
       "      <td>CA10</td>\n",
       "      <td>15558.088</td>\n",
       "      <td>61 days</td>\n",
       "      <td>6.172800e+06</td>\n",
       "    </tr>\n",
       "    <tr>\n",
       "      <th>...</th>\n",
       "      <td>...</td>\n",
       "      <td>...</td>\n",
       "      <td>...</td>\n",
       "      <td>...</td>\n",
       "      <td>...</td>\n",
       "      <td>...</td>\n",
       "      <td>...</td>\n",
       "      <td>...</td>\n",
       "      <td>...</td>\n",
       "      <td>...</td>\n",
       "      <td>...</td>\n",
       "      <td>...</td>\n",
       "      <td>...</td>\n",
       "    </tr>\n",
       "    <tr>\n",
       "      <th>49994</th>\n",
       "      <td>U001</td>\n",
       "      <td>0200762301</td>\n",
       "      <td>C&amp;S WH trust</td>\n",
       "      <td>2019-07-25</td>\n",
       "      <td>2019.0</td>\n",
       "      <td>1.929601e+09</td>\n",
       "      <td>2019-07-10</td>\n",
       "      <td>2019-07-25</td>\n",
       "      <td>2019-07-10</td>\n",
       "      <td>NAC6</td>\n",
       "      <td>84780.400</td>\n",
       "      <td>0 days</td>\n",
       "      <td>-3.330000e+04</td>\n",
       "    </tr>\n",
       "    <tr>\n",
       "      <th>49996</th>\n",
       "      <td>U001</td>\n",
       "      <td>0200769623</td>\n",
       "      <td>WAL-MAR co</td>\n",
       "      <td>2019-09-03</td>\n",
       "      <td>2019.0</td>\n",
       "      <td>1.929744e+09</td>\n",
       "      <td>2019-08-15</td>\n",
       "      <td>2019-08-30</td>\n",
       "      <td>2019-08-15</td>\n",
       "      <td>NAH4</td>\n",
       "      <td>6766.540</td>\n",
       "      <td>4 days</td>\n",
       "      <td>-2.135915e+05</td>\n",
       "    </tr>\n",
       "    <tr>\n",
       "      <th>49997</th>\n",
       "      <td>U001</td>\n",
       "      <td>0200772595</td>\n",
       "      <td>SAFEW associates</td>\n",
       "      <td>2020-03-05</td>\n",
       "      <td>2020.0</td>\n",
       "      <td>1.930537e+09</td>\n",
       "      <td>2020-02-19</td>\n",
       "      <td>2020-03-05</td>\n",
       "      <td>2020-02-19</td>\n",
       "      <td>NAA8</td>\n",
       "      <td>6120.860</td>\n",
       "      <td>0 days</td>\n",
       "      <td>9.051429e+04</td>\n",
       "    </tr>\n",
       "    <tr>\n",
       "      <th>49998</th>\n",
       "      <td>U001</td>\n",
       "      <td>0200726979</td>\n",
       "      <td>BJ'S  llc</td>\n",
       "      <td>2019-12-12</td>\n",
       "      <td>2019.0</td>\n",
       "      <td>1.930199e+09</td>\n",
       "      <td>2019-11-27</td>\n",
       "      <td>2019-12-12</td>\n",
       "      <td>2019-11-27</td>\n",
       "      <td>NAA8</td>\n",
       "      <td>63.480</td>\n",
       "      <td>0 days</td>\n",
       "      <td>1.354030e+05</td>\n",
       "    </tr>\n",
       "    <tr>\n",
       "      <th>49999</th>\n",
       "      <td>U001</td>\n",
       "      <td>0200020431</td>\n",
       "      <td>DEC corp</td>\n",
       "      <td>2019-01-15</td>\n",
       "      <td>2019.0</td>\n",
       "      <td>1.928576e+09</td>\n",
       "      <td>2019-01-05</td>\n",
       "      <td>2019-01-24</td>\n",
       "      <td>2019-01-01</td>\n",
       "      <td>NAM4</td>\n",
       "      <td>1790.300</td>\n",
       "      <td>-9 days</td>\n",
       "      <td>-3.371478e+05</td>\n",
       "    </tr>\n",
       "  </tbody>\n",
       "</table>\n",
       "<p>39158 rows × 13 columns</p>\n",
       "</div>"
      ],
      "text/plain": [
       "      business_code cust_number       name_customer clear_date  buisness_year  \\\n",
       "0              U001  0200769623        WAL-MAR corp 2020-02-11         2020.0   \n",
       "1              U001  0200980828              BEN E  2019-08-08         2019.0   \n",
       "2              U001  0200792734          MDV/ trust 2019-12-30         2019.0   \n",
       "4              U001  0200769623  WAL-MAR foundation 2019-11-25         2019.0   \n",
       "5              CA02  0140106181    THE  corporation 2019-12-04         2019.0   \n",
       "...             ...         ...                 ...        ...            ...   \n",
       "49994          U001  0200762301        C&S WH trust 2019-07-25         2019.0   \n",
       "49996          U001  0200769623          WAL-MAR co 2019-09-03         2019.0   \n",
       "49997          U001  0200772595    SAFEW associates 2020-03-05         2020.0   \n",
       "49998          U001  0200726979           BJ'S  llc 2019-12-12         2019.0   \n",
       "49999          U001  0200020431            DEC corp 2019-01-15         2019.0   \n",
       "\n",
       "             doc_id posting_date due_in_date baseline_create_date  \\\n",
       "0      1.930438e+09   2020-01-26  2020-02-10           2020-01-26   \n",
       "1      1.929646e+09   2019-07-22  2019-08-11           2019-07-22   \n",
       "2      1.929874e+09   2019-09-14  2019-09-29           2019-09-14   \n",
       "4      1.930148e+09   2019-11-13  2019-11-28           2019-11-13   \n",
       "5      2.960581e+09   2019-09-20  2019-10-04           2019-09-24   \n",
       "...             ...          ...         ...                  ...   \n",
       "49994  1.929601e+09   2019-07-10  2019-07-25           2019-07-10   \n",
       "49996  1.929744e+09   2019-08-15  2019-08-30           2019-08-15   \n",
       "49997  1.930537e+09   2020-02-19  2020-03-05           2020-02-19   \n",
       "49998  1.930199e+09   2019-11-27  2019-12-12           2019-11-27   \n",
       "49999  1.928576e+09   2019-01-05  2019-01-24           2019-01-01   \n",
       "\n",
       "      cust_payment_terms  converted_usd   Delay     avg_delay  \n",
       "0                   NAH4      54273.280  1 days -2.334702e+05  \n",
       "1                   NAD1      79656.600 -3 days  1.641600e+06  \n",
       "2                   NAA8       2253.860 92 days  6.990545e+05  \n",
       "4                   NAH4      33133.290 -3 days -1.887923e+05  \n",
       "5                   CA10      15558.088 61 days  6.172800e+06  \n",
       "...                  ...            ...     ...           ...  \n",
       "49994               NAC6      84780.400  0 days -3.330000e+04  \n",
       "49996               NAH4       6766.540  4 days -2.135915e+05  \n",
       "49997               NAA8       6120.860  0 days  9.051429e+04  \n",
       "49998               NAA8         63.480  0 days  1.354030e+05  \n",
       "49999               NAM4       1790.300 -9 days -3.371478e+05  \n",
       "\n",
       "[39158 rows x 13 columns]"
      ]
     },
     "execution_count": 196,
     "metadata": {},
     "output_type": "execute_result"
    }
   ],
   "source": [
    "# display main_data dataframe\n",
    "\n",
    "maindata"
   ]
  },
  {
   "cell_type": "markdown",
   "metadata": {
    "id": "ae24c7bb"
   },
   "source": [
    "### Since you have created the \"avg_delay\" column from \"Delay\" and \"clear_date\" column, there is no need of these two columns anymore \n",
    "\n",
    "- You are expected to drop \"Delay\" and \"clear_date\" columns from maindata dataframe "
   ]
  },
  {
   "cell_type": "code",
   "execution_count": 197,
   "metadata": {
    "id": "78a61ab9"
   },
   "outputs": [],
   "source": [
    "# drop particular columns from dataframe\n",
    "\n",
    "cols = [\"Delay\", \"clear_date\"]\n",
    "maindata.drop(cols,inplace=True,axis=1)"
   ]
  },
  {
   "cell_type": "markdown",
   "metadata": {
    "id": "ae724bfc"
   },
   "source": [
    "# Splitting of Train and the Test Data"
   ]
  },
  {
   "cell_type": "markdown",
   "metadata": {
    "id": "cb6f0264"
   },
   "source": [
    "### You need to split the \"maindata\" columns into X and y dataframe\n",
    "\n",
    "- Note - y should have the target column i.e. \"avg_delay\" and the other column should be in X\n",
    "\n",
    "- X is going to hold the source fields and y will be going to hold the target fields"
   ]
  },
  {
   "cell_type": "code",
   "execution_count": 198,
   "metadata": {
    "id": "02f7c98a"
   },
   "outputs": [],
   "source": [
    "# Splitting main_data\n",
    "\n",
    "X = maindata.drop([\"avg_delay\"], axis=1)"
   ]
  },
  {
   "cell_type": "code",
   "execution_count": 199,
   "metadata": {
    "id": "75ab29ab"
   },
   "outputs": [],
   "source": [
    "# Splitting main_data\n",
    "\n",
    "Y = maindata[\"avg_delay\"]"
   ]
  },
  {
   "cell_type": "code",
   "execution_count": 200,
   "metadata": {
    "id": "6412c62b"
   },
   "outputs": [
    {
     "name": "stdout",
     "output_type": "stream",
     "text": [
      "(39158, 10)\n",
      "(39158,)\n"
     ]
    }
   ],
   "source": [
    "# shape of dataframe\n",
    "\n",
    "print(X.shape)\n",
    "print(Y.shape)"
   ]
  },
  {
   "cell_type": "markdown",
   "metadata": {
    "id": "1c2942bf"
   },
   "source": [
    "#### You are expected to split both the dataframes into train and test format in 60:40 ratio \n",
    "\n",
    "- Note - The expected output should be in \"X_train\", \"X_loc_test\", \"y_train\", \"y_loc_test\" format "
   ]
  },
  {
   "cell_type": "code",
   "execution_count": 201,
   "metadata": {
    "id": "d92160a5"
   },
   "outputs": [],
   "source": [
    "# Spliting X and Y dataframe\n",
    "\n",
    "X_train, X_loc_test, y_train, y_loc_test = train_test_split(X, Y, test_size=0.4, shuffle=False, random_state=0)"
   ]
  },
  {
   "cell_type": "markdown",
   "metadata": {
    "id": "p4OME62pDufR"
   },
   "source": [
    "### Please check for the number of rows and columns of all the new dataframes (all 4)"
   ]
  },
  {
   "cell_type": "code",
   "execution_count": 202,
   "metadata": {
    "id": "48328d0a"
   },
   "outputs": [
    {
     "name": "stdout",
     "output_type": "stream",
     "text": [
      "(23494, 10) (15664, 10) (23494,) (15664,)\n"
     ]
    }
   ],
   "source": [
    "# shape of X_train, X_loc_test, y_train and y_loc_test\n",
    "\n",
    "print(X_train.shape, X_loc_test.shape, y_train.shape, y_loc_test.shape)"
   ]
  },
  {
   "cell_type": "markdown",
   "metadata": {
    "id": "4a68ed71"
   },
   "source": [
    "### Now you are expected to split the \"X_loc_test\" and \"y_loc_test\" dataset into \"Test\" and \"Validation\" (as the names given below) dataframe with 50:50 format \n",
    "\n",
    "- Note - The expected output should be in \"X_val\", \"X_test\", \"y_val\", \"y_test\" format"
   ]
  },
  {
   "cell_type": "code",
   "execution_count": 203,
   "metadata": {
    "id": "b56c62f2"
   },
   "outputs": [],
   "source": [
    "# Spliting X_loc_test and y_loc_test dataframe\n",
    "\n",
    "X_val, X_test, y_val, y_test = train_test_split(X_loc_test, y_loc_test, test_size=0.5, shuffle=False, random_state=0)"
   ]
  },
  {
   "cell_type": "markdown",
   "metadata": {
    "id": "bJTSAskvERH1"
   },
   "source": [
    "### Please check for the number of rows and columns of all the 4 dataframes "
   ]
  },
  {
   "cell_type": "code",
   "execution_count": 204,
   "metadata": {
    "id": "845d7564"
   },
   "outputs": [
    {
     "name": "stdout",
     "output_type": "stream",
     "text": [
      "(7832, 10) (7832, 10) (7832,) (7832,)\n"
     ]
    }
   ],
   "source": [
    "# shape of X_val, X_test, y_val and y_test\n",
    "\n",
    "print(X_val.shape, X_test.shape, y_val.shape, y_test.shape)"
   ]
  },
  {
   "cell_type": "markdown",
   "metadata": {
    "id": "110fa872"
   },
   "source": [
    "# Exploratory Data Analysis (EDA) "
   ]
  },
  {
   "cell_type": "markdown",
   "metadata": {
    "id": "ffc8fe0f"
   },
   "source": [
    "### Distribution Plot of the target variable (use the dataframe which contains the target field)\n",
    "\n",
    "- Note - You are expected to make a distribution plot for the target variable "
   ]
  },
  {
   "cell_type": "code",
   "execution_count": 205,
   "metadata": {
    "id": "ba2bf8ed"
   },
   "outputs": [
    {
     "data": {
      "text/plain": [
       "<matplotlib.axes._subplots.AxesSubplot at 0x16fe895bf88>"
      ]
     },
     "execution_count": 205,
     "metadata": {},
     "output_type": "execute_result"
    },
    {
     "data": {
      "image/png": "[encoded data removed]",
      "text/plain": [
       "<Figure size 432x288 with 1 Axes>"
      ]
     },
     "metadata": {
      "needs_background": "light"
     },
     "output_type": "display_data"
    }
   ],
   "source": [
    "# below graph is right skewed\n",
    "\n",
    "sns.distplot(y_train)"
   ]
  },
  {
   "cell_type": "markdown",
   "metadata": {
    "id": "d0e323a3"
   },
   "source": [
    "### You are expected to group the X_train dataset on 'name_customer' column with 'doc_id' in the x_train set\n",
    "\n",
    "### Need to store the outcome into a new dataframe \n",
    "\n",
    "- Note code given for groupby statement- X_train.groupby(by=['name_customer'], as_index=False)['doc_id'].count()"
   ]
  },
  {
   "cell_type": "code",
   "execution_count": 206,
   "metadata": {
    "id": "f7acf0ee"
   },
   "outputs": [
    {
     "data": {
      "text/html": [
       "<div>\n",
       "<style scoped>\n",
       "    .dataframe tbody tr th:only-of-type {\n",
       "        vertical-align: middle;\n",
       "    }\n",
       "\n",
       "    .dataframe tbody tr th {\n",
       "        vertical-align: top;\n",
       "    }\n",
       "\n",
       "    .dataframe thead th {\n",
       "        text-align: right;\n",
       "    }\n",
       "</style>\n",
       "<table border=\"1\" class=\"dataframe\">\n",
       "  <thead>\n",
       "    <tr style=\"text-align: right;\">\n",
       "      <th></th>\n",
       "      <th>name_customer</th>\n",
       "      <th>doc_id</th>\n",
       "    </tr>\n",
       "  </thead>\n",
       "  <tbody>\n",
       "    <tr>\n",
       "      <th>0</th>\n",
       "      <td>11078 us</td>\n",
       "      <td>1</td>\n",
       "    </tr>\n",
       "    <tr>\n",
       "      <th>1</th>\n",
       "      <td>17135 associates</td>\n",
       "      <td>1</td>\n",
       "    </tr>\n",
       "    <tr>\n",
       "      <th>2</th>\n",
       "      <td>236008 associates</td>\n",
       "      <td>1</td>\n",
       "    </tr>\n",
       "    <tr>\n",
       "      <th>3</th>\n",
       "      <td>99 CE</td>\n",
       "      <td>2</td>\n",
       "    </tr>\n",
       "    <tr>\n",
       "      <th>4</th>\n",
       "      <td>99 CE associates</td>\n",
       "      <td>1</td>\n",
       "    </tr>\n",
       "    <tr>\n",
       "      <th>...</th>\n",
       "      <td>...</td>\n",
       "      <td>...</td>\n",
       "    </tr>\n",
       "    <tr>\n",
       "      <th>3083</th>\n",
       "      <td>YAEGER in</td>\n",
       "      <td>1</td>\n",
       "    </tr>\n",
       "    <tr>\n",
       "      <th>3084</th>\n",
       "      <td>YEN BROS</td>\n",
       "      <td>1</td>\n",
       "    </tr>\n",
       "    <tr>\n",
       "      <th>3085</th>\n",
       "      <td>YEN BROS corporation</td>\n",
       "      <td>1</td>\n",
       "    </tr>\n",
       "    <tr>\n",
       "      <th>3086</th>\n",
       "      <td>YEN BROS llc</td>\n",
       "      <td>1</td>\n",
       "    </tr>\n",
       "    <tr>\n",
       "      <th>3087</th>\n",
       "      <td>ZIYAD  us</td>\n",
       "      <td>1</td>\n",
       "    </tr>\n",
       "  </tbody>\n",
       "</table>\n",
       "<p>3088 rows × 2 columns</p>\n",
       "</div>"
      ],
      "text/plain": [
       "             name_customer  doc_id\n",
       "0                 11078 us       1\n",
       "1         17135 associates       1\n",
       "2        236008 associates       1\n",
       "3                   99 CE        2\n",
       "4         99 CE associates       1\n",
       "...                    ...     ...\n",
       "3083             YAEGER in       1\n",
       "3084             YEN BROS        1\n",
       "3085  YEN BROS corporation       1\n",
       "3086          YEN BROS llc       1\n",
       "3087             ZIYAD  us       1\n",
       "\n",
       "[3088 rows x 2 columns]"
      ]
     },
     "execution_count": 206,
     "metadata": {},
     "output_type": "execute_result"
    }
   ],
   "source": [
    "# create a new dataframe\n",
    "\n",
    "df = X_train.groupby(by=['name_customer'], as_index=False)['doc_id'].count()\n",
    "df"
   ]
  },
  {
   "cell_type": "markdown",
   "metadata": {
    "id": "cA43bFffFt6i"
   },
   "source": [
    "### You can make another distribution plot of the \"doc_id\" column from x_train"
   ]
  },
  {
   "cell_type": "code",
   "execution_count": 207,
   "metadata": {
    "id": "9576bf33"
   },
   "outputs": [
    {
     "data": {
      "text/plain": [
       "<matplotlib.axes._subplots.AxesSubplot at 0x16fe8c28a48>"
      ]
     },
     "execution_count": 207,
     "metadata": {},
     "output_type": "execute_result"
    },
    {
     "data": {
      "image/png": "[encoded data removed]",
      "text/plain": [
       "<Figure size 432x288 with 1 Axes>"
      ]
     },
     "metadata": {
      "needs_background": "light"
     },
     "output_type": "display_data"
    }
   ],
   "source": [
    "# below graph is doc_id column from X_train\n",
    "\n",
    "sns.distplot(X_train['doc_id'])"
   ]
  },
  {
   "cell_type": "markdown",
   "metadata": {
    "id": "fba2c44f"
   },
   "source": [
    "#### Create a Distribution plot only for business_year and a seperate distribution plot of \"business_year\" column along with the doc_id\" column\n"
   ]
  },
  {
   "cell_type": "code",
   "execution_count": 208,
   "metadata": {
    "id": "4fecec77"
   },
   "outputs": [
    {
     "data": {
      "text/plain": [
       "<matplotlib.axes._subplots.AxesSubplot at 0x16fe72df848>"
      ]
     },
     "execution_count": 208,
     "metadata": {},
     "output_type": "execute_result"
    },
    {
     "data": {
      "image/png": "[encoded data removed]",
      "text/plain": [
       "<Figure size 432x288 with 1 Axes>"
      ]
     },
     "metadata": {
      "needs_background": "light"
     },
     "output_type": "display_data"
    }
   ],
   "source": [
    "# below graph is buisness_year column from X_train\n",
    "\n",
    "sns.distplot(X_train['buisness_year'],kde_kws={'bw':0.5})"
   ]
  },
  {
   "cell_type": "code",
   "execution_count": 209,
   "metadata": {
    "id": "qr1jGhfOKjnw"
   },
   "outputs": [
    {
     "data": {
      "text/plain": [
       "Text(0, 0.5, 'doc_id')"
      ]
     },
     "execution_count": 209,
     "metadata": {},
     "output_type": "execute_result"
    },
    {
     "data": {
      "image/png": "[encoded data removed]",
      "text/plain": [
       "<Figure size 432x288 with 1 Axes>"
      ]
     },
     "metadata": {
      "needs_background": "light"
     },
     "output_type": "display_data"
    }
   ],
   "source": [
    "# distplot\n",
    "\n",
    "sns.distplot([X_train['buisness_year'],X_train['doc_id']])\n",
    "plt.xlabel('buisness_year', fontsize=16)\n",
    "plt.ylabel('doc_id', fontsize=16)"
   ]
  },
  {
   "cell_type": "markdown",
   "metadata": {
    "id": "968fbcc9"
   },
   "source": [
    "# Feature Engineering "
   ]
  },
  {
   "cell_type": "markdown",
   "metadata": {
    "id": "jbh6CyGqH3XE"
   },
   "source": [
    "### Display and describe the X_train dataframe "
   ]
  },
  {
   "cell_type": "code",
   "execution_count": 210,
   "metadata": {
    "id": "e6bcf307"
   },
   "outputs": [
    {
     "data": {
      "text/html": [
       "<div>\n",
       "<style scoped>\n",
       "    .dataframe tbody tr th:only-of-type {\n",
       "        vertical-align: middle;\n",
       "    }\n",
       "\n",
       "    .dataframe tbody tr th {\n",
       "        vertical-align: top;\n",
       "    }\n",
       "\n",
       "    .dataframe thead th {\n",
       "        text-align: right;\n",
       "    }\n",
       "</style>\n",
       "<table border=\"1\" class=\"dataframe\">\n",
       "  <thead>\n",
       "    <tr style=\"text-align: right;\">\n",
       "      <th></th>\n",
       "      <th>business_code</th>\n",
       "      <th>cust_number</th>\n",
       "      <th>name_customer</th>\n",
       "      <th>buisness_year</th>\n",
       "      <th>doc_id</th>\n",
       "      <th>posting_date</th>\n",
       "      <th>due_in_date</th>\n",
       "      <th>baseline_create_date</th>\n",
       "      <th>cust_payment_terms</th>\n",
       "      <th>converted_usd</th>\n",
       "    </tr>\n",
       "  </thead>\n",
       "  <tbody>\n",
       "    <tr>\n",
       "      <th>0</th>\n",
       "      <td>U001</td>\n",
       "      <td>0200769623</td>\n",
       "      <td>WAL-MAR corp</td>\n",
       "      <td>2020.0</td>\n",
       "      <td>1.930438e+09</td>\n",
       "      <td>2020-01-26</td>\n",
       "      <td>2020-02-10</td>\n",
       "      <td>2020-01-26</td>\n",
       "      <td>NAH4</td>\n",
       "      <td>54273.280</td>\n",
       "    </tr>\n",
       "    <tr>\n",
       "      <th>1</th>\n",
       "      <td>U001</td>\n",
       "      <td>0200980828</td>\n",
       "      <td>BEN E</td>\n",
       "      <td>2019.0</td>\n",
       "      <td>1.929646e+09</td>\n",
       "      <td>2019-07-22</td>\n",
       "      <td>2019-08-11</td>\n",
       "      <td>2019-07-22</td>\n",
       "      <td>NAD1</td>\n",
       "      <td>79656.600</td>\n",
       "    </tr>\n",
       "    <tr>\n",
       "      <th>2</th>\n",
       "      <td>U001</td>\n",
       "      <td>0200792734</td>\n",
       "      <td>MDV/ trust</td>\n",
       "      <td>2019.0</td>\n",
       "      <td>1.929874e+09</td>\n",
       "      <td>2019-09-14</td>\n",
       "      <td>2019-09-29</td>\n",
       "      <td>2019-09-14</td>\n",
       "      <td>NAA8</td>\n",
       "      <td>2253.860</td>\n",
       "    </tr>\n",
       "    <tr>\n",
       "      <th>4</th>\n",
       "      <td>U001</td>\n",
       "      <td>0200769623</td>\n",
       "      <td>WAL-MAR foundation</td>\n",
       "      <td>2019.0</td>\n",
       "      <td>1.930148e+09</td>\n",
       "      <td>2019-11-13</td>\n",
       "      <td>2019-11-28</td>\n",
       "      <td>2019-11-13</td>\n",
       "      <td>NAH4</td>\n",
       "      <td>33133.290</td>\n",
       "    </tr>\n",
       "    <tr>\n",
       "      <th>5</th>\n",
       "      <td>CA02</td>\n",
       "      <td>0140106181</td>\n",
       "      <td>THE  corporation</td>\n",
       "      <td>2019.0</td>\n",
       "      <td>2.960581e+09</td>\n",
       "      <td>2019-09-20</td>\n",
       "      <td>2019-10-04</td>\n",
       "      <td>2019-09-24</td>\n",
       "      <td>CA10</td>\n",
       "      <td>15558.088</td>\n",
       "    </tr>\n",
       "    <tr>\n",
       "      <th>...</th>\n",
       "      <td>...</td>\n",
       "      <td>...</td>\n",
       "      <td>...</td>\n",
       "      <td>...</td>\n",
       "      <td>...</td>\n",
       "      <td>...</td>\n",
       "      <td>...</td>\n",
       "      <td>...</td>\n",
       "      <td>...</td>\n",
       "      <td>...</td>\n",
       "    </tr>\n",
       "    <tr>\n",
       "      <th>29659</th>\n",
       "      <td>U001</td>\n",
       "      <td>0200772670</td>\n",
       "      <td>ASSOCIAT associates</td>\n",
       "      <td>2019.0</td>\n",
       "      <td>1.929725e+09</td>\n",
       "      <td>2019-08-08</td>\n",
       "      <td>2019-08-23</td>\n",
       "      <td>2019-08-08</td>\n",
       "      <td>NAU5</td>\n",
       "      <td>17737.190</td>\n",
       "    </tr>\n",
       "    <tr>\n",
       "      <th>29662</th>\n",
       "      <td>U001</td>\n",
       "      <td>0200794332</td>\n",
       "      <td>COST corporation</td>\n",
       "      <td>2020.0</td>\n",
       "      <td>1.930469e+09</td>\n",
       "      <td>2020-02-06</td>\n",
       "      <td>2020-02-21</td>\n",
       "      <td>2020-02-06</td>\n",
       "      <td>NAAX</td>\n",
       "      <td>62408.160</td>\n",
       "    </tr>\n",
       "    <tr>\n",
       "      <th>29663</th>\n",
       "      <td>U001</td>\n",
       "      <td>0200769623</td>\n",
       "      <td>WAL-MAR associates</td>\n",
       "      <td>2019.0</td>\n",
       "      <td>1.929143e+09</td>\n",
       "      <td>2019-04-14</td>\n",
       "      <td>2019-04-29</td>\n",
       "      <td>2019-04-14</td>\n",
       "      <td>NAH4</td>\n",
       "      <td>20265.150</td>\n",
       "    </tr>\n",
       "    <tr>\n",
       "      <th>29664</th>\n",
       "      <td>U001</td>\n",
       "      <td>0200696090</td>\n",
       "      <td>UNITE</td>\n",
       "      <td>2019.0</td>\n",
       "      <td>1.928950e+09</td>\n",
       "      <td>2019-03-18</td>\n",
       "      <td>2019-04-02</td>\n",
       "      <td>2019-03-18</td>\n",
       "      <td>NAA8</td>\n",
       "      <td>4962.340</td>\n",
       "    </tr>\n",
       "    <tr>\n",
       "      <th>29665</th>\n",
       "      <td>U001</td>\n",
       "      <td>200794332</td>\n",
       "      <td>COST in</td>\n",
       "      <td>2019.0</td>\n",
       "      <td>1.929087e+09</td>\n",
       "      <td>2019-04-08</td>\n",
       "      <td>2019-04-23</td>\n",
       "      <td>2019-04-08</td>\n",
       "      <td>NAAX</td>\n",
       "      <td>8041.590</td>\n",
       "    </tr>\n",
       "  </tbody>\n",
       "</table>\n",
       "<p>23494 rows × 10 columns</p>\n",
       "</div>"
      ],
      "text/plain": [
       "      business_code cust_number        name_customer  buisness_year  \\\n",
       "0              U001  0200769623         WAL-MAR corp         2020.0   \n",
       "1              U001  0200980828               BEN E          2019.0   \n",
       "2              U001  0200792734           MDV/ trust         2019.0   \n",
       "4              U001  0200769623   WAL-MAR foundation         2019.0   \n",
       "5              CA02  0140106181     THE  corporation         2019.0   \n",
       "...             ...         ...                  ...            ...   \n",
       "29659          U001  0200772670  ASSOCIAT associates         2019.0   \n",
       "29662          U001  0200794332     COST corporation         2020.0   \n",
       "29663          U001  0200769623   WAL-MAR associates         2019.0   \n",
       "29664          U001  0200696090               UNITE          2019.0   \n",
       "29665          U001   200794332              COST in         2019.0   \n",
       "\n",
       "             doc_id posting_date due_in_date baseline_create_date  \\\n",
       "0      1.930438e+09   2020-01-26  2020-02-10           2020-01-26   \n",
       "1      1.929646e+09   2019-07-22  2019-08-11           2019-07-22   \n",
       "2      1.929874e+09   2019-09-14  2019-09-29           2019-09-14   \n",
       "4      1.930148e+09   2019-11-13  2019-11-28           2019-11-13   \n",
       "5      2.960581e+09   2019-09-20  2019-10-04           2019-09-24   \n",
       "...             ...          ...         ...                  ...   \n",
       "29659  1.929725e+09   2019-08-08  2019-08-23           2019-08-08   \n",
       "29662  1.930469e+09   2020-02-06  2020-02-21           2020-02-06   \n",
       "29663  1.929143e+09   2019-04-14  2019-04-29           2019-04-14   \n",
       "29664  1.928950e+09   2019-03-18  2019-04-02           2019-03-18   \n",
       "29665  1.929087e+09   2019-04-08  2019-04-23           2019-04-08   \n",
       "\n",
       "      cust_payment_terms  converted_usd  \n",
       "0                   NAH4      54273.280  \n",
       "1                   NAD1      79656.600  \n",
       "2                   NAA8       2253.860  \n",
       "4                   NAH4      33133.290  \n",
       "5                   CA10      15558.088  \n",
       "...                  ...            ...  \n",
       "29659               NAU5      17737.190  \n",
       "29662               NAAX      62408.160  \n",
       "29663               NAH4      20265.150  \n",
       "29664               NAA8       4962.340  \n",
       "29665               NAAX       8041.590  \n",
       "\n",
       "[23494 rows x 10 columns]"
      ]
     },
     "execution_count": 210,
     "metadata": {},
     "output_type": "execute_result"
    }
   ],
   "source": [
    "# display X_train\n",
    "\n",
    "X_train"
   ]
  },
  {
   "cell_type": "code",
   "execution_count": 211,
   "metadata": {
    "id": "08ccc819"
   },
   "outputs": [
    {
     "data": {
      "text/html": [
       "<div>\n",
       "<style scoped>\n",
       "    .dataframe tbody tr th:only-of-type {\n",
       "        vertical-align: middle;\n",
       "    }\n",
       "\n",
       "    .dataframe tbody tr th {\n",
       "        vertical-align: top;\n",
       "    }\n",
       "\n",
       "    .dataframe thead th {\n",
       "        text-align: right;\n",
       "    }\n",
       "</style>\n",
       "<table border=\"1\" class=\"dataframe\">\n",
       "  <thead>\n",
       "    <tr style=\"text-align: right;\">\n",
       "      <th></th>\n",
       "      <th>buisness_year</th>\n",
       "      <th>doc_id</th>\n",
       "      <th>converted_usd</th>\n",
       "    </tr>\n",
       "  </thead>\n",
       "  <tbody>\n",
       "    <tr>\n",
       "      <th>count</th>\n",
       "      <td>23494.000000</td>\n",
       "      <td>2.349400e+04</td>\n",
       "      <td>23494.000000</td>\n",
       "    </tr>\n",
       "    <tr>\n",
       "      <th>mean</th>\n",
       "      <td>2019.132842</td>\n",
       "      <td>2.012017e+09</td>\n",
       "      <td>30762.476822</td>\n",
       "    </tr>\n",
       "    <tr>\n",
       "      <th>std</th>\n",
       "      <td>0.339412</td>\n",
       "      <td>2.853757e+08</td>\n",
       "      <td>36595.303329</td>\n",
       "    </tr>\n",
       "    <tr>\n",
       "      <th>min</th>\n",
       "      <td>2019.000000</td>\n",
       "      <td>1.928502e+09</td>\n",
       "      <td>2.400000</td>\n",
       "    </tr>\n",
       "    <tr>\n",
       "      <th>25%</th>\n",
       "      <td>2019.000000</td>\n",
       "      <td>1.929181e+09</td>\n",
       "      <td>4620.800000</td>\n",
       "    </tr>\n",
       "    <tr>\n",
       "      <th>50%</th>\n",
       "      <td>2019.000000</td>\n",
       "      <td>1.929733e+09</td>\n",
       "      <td>17027.670000</td>\n",
       "    </tr>\n",
       "    <tr>\n",
       "      <th>75%</th>\n",
       "      <td>2019.000000</td>\n",
       "      <td>1.930209e+09</td>\n",
       "      <td>45545.810000</td>\n",
       "    </tr>\n",
       "    <tr>\n",
       "      <th>max</th>\n",
       "      <td>2020.000000</td>\n",
       "      <td>9.500000e+09</td>\n",
       "      <td>668593.360000</td>\n",
       "    </tr>\n",
       "  </tbody>\n",
       "</table>\n",
       "</div>"
      ],
      "text/plain": [
       "       buisness_year        doc_id  converted_usd\n",
       "count   23494.000000  2.349400e+04   23494.000000\n",
       "mean     2019.132842  2.012017e+09   30762.476822\n",
       "std         0.339412  2.853757e+08   36595.303329\n",
       "min      2019.000000  1.928502e+09       2.400000\n",
       "25%      2019.000000  1.929181e+09    4620.800000\n",
       "50%      2019.000000  1.929733e+09   17027.670000\n",
       "75%      2019.000000  1.930209e+09   45545.810000\n",
       "max      2020.000000  9.500000e+09  668593.360000"
      ]
     },
     "execution_count": 211,
     "metadata": {},
     "output_type": "execute_result"
    }
   ],
   "source": [
    "# describe X_train\n",
    "\n",
    "X_train.describe()"
   ]
  },
  {
   "cell_type": "markdown",
   "metadata": {
    "id": "abd7ac8b"
   },
   "source": [
    "#### The \"business_code\" column inside X_train, is a categorical column, so you need to perform Labelencoder on that particular column\n",
    "\n",
    "- Note - call the Label Encoder from sklearn library and use the fit() function on \"business_code\" column\n",
    "- Note - Please fill in the blanks (two) to complete this code"
   ]
  },
  {
   "cell_type": "code",
   "execution_count": 212,
   "metadata": {
    "id": "7c223545"
   },
   "outputs": [
    {
     "data": {
      "text/plain": [
       "LabelEncoder()"
      ]
     },
     "execution_count": 212,
     "metadata": {},
     "output_type": "execute_result"
    }
   ],
   "source": [
    "from sklearn.preprocessing import LabelEncoder\n",
    "business_coder = LabelEncoder()\n",
    "business_coder.fit(X_train['business_code'])"
   ]
  },
  {
   "cell_type": "markdown",
   "metadata": {
    "id": "f86f7d9c"
   },
   "source": [
    "#### You are expected to store the value into a new column i.e. \"business_code_enc\"\n",
    "\n",
    "- Note - For Training set you are expected to use fit_trainsform()\n",
    "- Note - For Test set you are expected to use the trainsform()\n",
    "- Note - For Validation set you are expected to use the trainsform()\n",
    "\n",
    "\n",
    "- Partial code is provided, please fill in the blanks "
   ]
  },
  {
   "cell_type": "code",
   "execution_count": 213,
   "metadata": {
    "id": "4269c307"
   },
   "outputs": [],
   "source": [
    "X_train['business_code_enc'] = business_coder.fit_transform(X_train['business_code'])"
   ]
  },
  {
   "cell_type": "code",
   "execution_count": 214,
   "metadata": {
    "id": "70a53712"
   },
   "outputs": [],
   "source": [
    "X_val['business_code_enc'] = business_coder.transform(X_val['business_code'])\n",
    "X_test['business_code_enc'] = business_coder.transform(X_test['business_code'])"
   ]
  },
  {
   "cell_type": "markdown",
   "metadata": {
    "id": "gdNYxTkqNfmz"
   },
   "source": [
    "### Display \"business_code\" and \"business_code_enc\" together from X_train dataframe "
   ]
  },
  {
   "cell_type": "code",
   "execution_count": 215,
   "metadata": {
    "id": "1196a002"
   },
   "outputs": [
    {
     "name": "stdout",
     "output_type": "stream",
     "text": [
      "0        U001\n",
      "1        U001\n",
      "2        U001\n",
      "4        U001\n",
      "5        CA02\n",
      "         ... \n",
      "29659    U001\n",
      "29662    U001\n",
      "29663    U001\n",
      "29664    U001\n",
      "29665    U001\n",
      "Name: business_code, Length: 23494, dtype: object 0        1\n",
      "1        1\n",
      "2        1\n",
      "4        1\n",
      "5        0\n",
      "        ..\n",
      "29659    1\n",
      "29662    1\n",
      "29663    1\n",
      "29664    1\n",
      "29665    1\n",
      "Name: business_code_enc, Length: 23494, dtype: int32\n"
     ]
    }
   ],
   "source": [
    "# display\n",
    "\n",
    "print(X_train['business_code'],X_train['business_code_enc'])"
   ]
  },
  {
   "cell_type": "markdown",
   "metadata": {
    "id": "11477224"
   },
   "source": [
    "#### Create a function called \"custom\" for dropping the columns 'business_code' from train, test and validation dataframe\n",
    "\n",
    "- Note - Fill in the blank to complete the code"
   ]
  },
  {
   "cell_type": "code",
   "execution_count": 216,
   "metadata": {
    "id": "1052868a"
   },
   "outputs": [],
   "source": [
    "def custom(col ,traindf = X_train,valdf = X_val,testdf = X_test):\n",
    "    traindf.drop(col, axis =1,inplace=True)\n",
    "    valdf.drop(col,axis=1 , inplace=True)\n",
    "    testdf.drop(col,axis=1 , inplace=True)\n",
    "\n",
    "    return traindf,valdf ,testdf"
   ]
  },
  {
   "cell_type": "markdown",
   "metadata": {
    "id": "rI--ZuMbNLne"
   },
   "source": [
    "### Call the function by passing the column name which needed to be dropped from train, test and validation dataframes. Return updated dataframes to be stored in X_train ,X_val, X_test  \n",
    "\n",
    "- Note = Fill in the blank to complete the code "
   ]
  },
  {
   "cell_type": "code",
   "execution_count": 217,
   "metadata": {
    "id": "1a0f955c"
   },
   "outputs": [],
   "source": [
    "X_train , X_val , X_test = custom(['business_code'])"
   ]
  },
  {
   "cell_type": "markdown",
   "metadata": {
    "id": "28b5b27e"
   },
   "source": [
    "### Manually replacing str values with numbers, Here we are trying manually replace the customer numbers with some specific values like, 'CCCA' as 1, 'CCU' as 2 and so on. Also we are converting the datatype \"cust_number\" field to int type.\n",
    "\n",
    "- We are doing it for all the three dataframes as shown below. This is fully completed code. No need to modify anything here \n",
    "\n"
   ]
  },
  {
   "cell_type": "code",
   "execution_count": 218,
   "metadata": {
    "id": "85dd129e"
   },
   "outputs": [],
   "source": [
    "X_train['cust_number'] = X_train['cust_number'].str.replace('CCCA',\"1\").str.replace('CCU',\"2\").str.replace('CC',\"3\").astype(int)\n",
    "X_test['cust_number'] = X_test['cust_number'].str.replace('CCCA',\"1\").str.replace('CCU',\"2\").str.replace('CC',\"3\").astype(int)\n",
    "X_val['cust_number'] = X_val['cust_number'].str.replace('CCCA',\"1\").str.replace('CCU',\"2\").str.replace('CC',\"3\").astype(int)\n"
   ]
  },
  {
   "cell_type": "markdown",
   "metadata": {
    "id": "U8vA-zmdPnJ8"
   },
   "source": [
    "#### It differs from LabelEncoder by handling new classes and providing a value for it [Unknown]. Unknown will be added in fit and transform will take care of new item. It gives unknown class id.\n",
    "\n",
    "#### This will fit the encoder for all the unique values and introduce unknown value\n",
    "\n",
    "- Note - Keep this code as it is, we will be using this later on.  "
   ]
  },
  {
   "cell_type": "code",
   "execution_count": 219,
   "metadata": {
    "id": "151f48ba"
   },
   "outputs": [],
   "source": [
    "#For encoding unseen labels\n",
    "class EncoderExt(object):\n",
    "    def __init__(self):\n",
    "        self.label_encoder = LabelEncoder()\n",
    "    def fit(self, data_list):\n",
    "        self.label_encoder = self.label_encoder.fit(list(data_list) + ['Unknown'])\n",
    "        self.classes_ = self.label_encoder.classes_\n",
    "        return self\n",
    "    def transform(self, data_list):\n",
    "        new_data_list = list(data_list)\n",
    "        for unique_item in np.unique(data_list):\n",
    "            if unique_item not in self.label_encoder.classes_:\n",
    "                new_data_list = ['Unknown' if x==unique_item else x for x in new_data_list]\n",
    "        return self.label_encoder.transform(new_data_list)"
   ]
  },
  {
   "cell_type": "markdown",
   "metadata": {
    "id": "254c64e6"
   },
   "source": [
    "### Use the user define Label Encoder function called \"EncoderExt\" for the \"name_customer\" column\n",
    "\n",
    "- Note - Keep the code as it is, no need to change"
   ]
  },
  {
   "cell_type": "code",
   "execution_count": 220,
   "metadata": {
    "id": "62b17eff"
   },
   "outputs": [],
   "source": [
    "label_encoder = EncoderExt()\n",
    "label_encoder.fit(X_train['name_customer'])\n",
    "X_train['name_customer_enc']=label_encoder.transform(X_train['name_customer'])\n",
    "X_val['name_customer_enc']=label_encoder.transform(X_val['name_customer'])\n",
    "X_test['name_customer_enc']=label_encoder.transform(X_test['name_customer'])"
   ]
  },
  {
   "cell_type": "markdown",
   "metadata": {
    "id": "mK7LMoy2QZhy"
   },
   "source": [
    "### As we have created the a new column \"name_customer_enc\", so now drop \"name_customer\" column from all three dataframes\n",
    "\n",
    "- Note - Keep the code as it is, no need to change"
   ]
  },
  {
   "cell_type": "code",
   "execution_count": 221,
   "metadata": {
    "id": "ef85f1c0"
   },
   "outputs": [],
   "source": [
    "X_train ,X_val, X_test = custom(['name_customer'])"
   ]
  },
  {
   "cell_type": "markdown",
   "metadata": {
    "id": "3aa09d22"
   },
   "source": [
    "### Using Label Encoder for the \"cust_payment_terms\" column\n",
    "\n",
    "- Note - Keep the code as it is, no need to change"
   ]
  },
  {
   "cell_type": "code",
   "execution_count": 222,
   "metadata": {
    "id": "6f9ab642"
   },
   "outputs": [],
   "source": [
    "label_encoder1 = EncoderExt()\n",
    "label_encoder1.fit(X_train['cust_payment_terms'])\n",
    "X_train['cust_payment_terms_enc']=label_encoder1.transform(X_train['cust_payment_terms'])\n",
    "X_val['cust_payment_terms_enc']=label_encoder1.transform(X_val['cust_payment_terms'])\n",
    "X_test['cust_payment_terms_enc']=label_encoder1.transform(X_test['cust_payment_terms'])"
   ]
  },
  {
   "cell_type": "code",
   "execution_count": 223,
   "metadata": {
    "id": "55f9a7c2"
   },
   "outputs": [],
   "source": [
    "X_train ,X_val, X_test = custom(['cust_payment_terms'])"
   ]
  },
  {
   "cell_type": "markdown",
   "metadata": {
    "id": "0788f42b"
   },
   "source": [
    "## Check the datatype of all the columns of Train, Test and Validation dataframes realted to X\n",
    "\n",
    "- Note - You are expected yo use dtype"
   ]
  },
  {
   "cell_type": "code",
   "execution_count": 224,
   "metadata": {
    "id": "bc79a316"
   },
   "outputs": [
    {
     "data": {
      "text/plain": [
       "cust_number                        int32\n",
       "buisness_year                    float64\n",
       "doc_id                           float64\n",
       "posting_date              datetime64[ns]\n",
       "due_in_date               datetime64[ns]\n",
       "baseline_create_date      datetime64[ns]\n",
       "converted_usd                    float64\n",
       "business_code_enc                  int32\n",
       "name_customer_enc                  int64\n",
       "cust_payment_terms_enc             int64\n",
       "dtype: object"
      ]
     },
     "execution_count": 224,
     "metadata": {},
     "output_type": "execute_result"
    }
   ],
   "source": [
    "# datatype of X_train\n",
    "\n",
    "X_train.dtypes"
   ]
  },
  {
   "cell_type": "code",
   "execution_count": 225,
   "metadata": {
    "id": "b33242d8"
   },
   "outputs": [
    {
     "data": {
      "text/plain": [
       "cust_number                        int32\n",
       "buisness_year                    float64\n",
       "doc_id                           float64\n",
       "posting_date              datetime64[ns]\n",
       "due_in_date               datetime64[ns]\n",
       "baseline_create_date      datetime64[ns]\n",
       "converted_usd                    float64\n",
       "business_code_enc                  int32\n",
       "name_customer_enc                  int64\n",
       "cust_payment_terms_enc             int64\n",
       "dtype: object"
      ]
     },
     "execution_count": 225,
     "metadata": {},
     "output_type": "execute_result"
    }
   ],
   "source": [
    "# datatype of X_val\n",
    "\n",
    "X_val.dtypes"
   ]
  },
  {
   "cell_type": "code",
   "execution_count": 226,
   "metadata": {
    "id": "6bd4da71"
   },
   "outputs": [
    {
     "data": {
      "text/plain": [
       "cust_number                        int32\n",
       "buisness_year                    float64\n",
       "doc_id                           float64\n",
       "posting_date              datetime64[ns]\n",
       "due_in_date               datetime64[ns]\n",
       "baseline_create_date      datetime64[ns]\n",
       "converted_usd                    float64\n",
       "business_code_enc                  int32\n",
       "name_customer_enc                  int64\n",
       "cust_payment_terms_enc             int64\n",
       "dtype: object"
      ]
     },
     "execution_count": 226,
     "metadata": {},
     "output_type": "execute_result"
    }
   ],
   "source": [
    "# datatype of X_test\n",
    "\n",
    "X_test.dtypes"
   ]
  },
  {
   "cell_type": "markdown",
   "metadata": {
    "id": "LVfvuPiWPeMB"
   },
   "source": [
    "### From the above output you can notice their are multiple date columns with datetime format\n",
    "\n",
    "### In order to pass it into our model, we need to convert it into float format"
   ]
  },
  {
   "cell_type": "markdown",
   "metadata": {
    "id": "9d344db9"
   },
   "source": [
    "### You need to extract day, month and year from the \"posting_date\" column \n",
    "\n",
    "1.   Extract days from \"posting_date\" column and store it into a new column \"day_of_postingdate\" for train, test and validation dataset \n",
    "2.   Extract months from \"posting_date\" column and store it into a new column \"month_of_postingdate\" for train, test and validation dataset\n",
    "3.   Extract year from \"posting_date\" column and store it into a new column \"year_of_postingdate\" for train, test and validation dataset \n",
    "\n",
    "\n",
    "\n",
    "- Note - You are supposed yo use \n",
    "\n",
    "*   dt.day\n",
    "*   dt.month\n",
    "*   dt.year\n",
    "\n",
    "\n",
    "\n",
    "\n"
   ]
  },
  {
   "cell_type": "code",
   "execution_count": 227,
   "metadata": {
    "id": "6e3cdfd6"
   },
   "outputs": [],
   "source": [
    "X_train['day_of_postingdate'] = X_train['posting_date'].dt.day\n",
    "X_train['month_of_postingdate'] = X_train['posting_date'].dt.month\n",
    "X_train['year_of_postingdate'] = X_train['posting_date'].dt.year\n",
    "\n",
    "X_val['day_of_postingdate'] = X_val['posting_date'].dt.day\n",
    "X_val['month_of_postingdate'] = X_val['posting_date'].dt.month\n",
    "X_val['year_of_postingdate'] = X_val['posting_date'].dt.year\n",
    "\n",
    "\n",
    "X_test['day_of_postingdate'] = X_test['posting_date'].dt.day\n",
    "X_test['month_of_postingdate'] = X_test['posting_date'].dt.month\n",
    "X_test['year_of_postingdate'] = X_test['posting_date'].dt.year"
   ]
  },
  {
   "cell_type": "markdown",
   "metadata": {
    "id": "GyI-F853Rxa7"
   },
   "source": [
    "### pass the \"posting_date\" column into the Custom function for train, test and validation dataset"
   ]
  },
  {
   "cell_type": "code",
   "execution_count": 228,
   "metadata": {
    "id": "FQHtQkrnRx_V"
   },
   "outputs": [],
   "source": [
    "X_train ,X_val, X_test = custom(['posting_date'])"
   ]
  },
  {
   "cell_type": "markdown",
   "metadata": {
    "id": "GMnCaEcKReSw"
   },
   "source": [
    "### You need to extract day, month and year from the \"baseline_create_date\" column \n",
    "\n",
    "1.   Extract days from \"baseline_create_date\" column and store it into a new column \"day_of_createdate\" for train, test and validation dataset \n",
    "2.   Extract months from \"baseline_create_date\" column and store it into a new column \"month_of_createdate\" for train, test and validation dataset\n",
    "3.   Extract year from \"baseline_create_date\" column and store it into a new column \"year_of_createdate\" for train, test and validation dataset \n",
    "\n",
    "\n",
    "\n",
    "- Note - You are supposed yo use \n",
    "\n",
    "*   dt.day\n",
    "*   dt.month\n",
    "*   dt.year\n",
    "\n",
    "\n",
    "- Note - Do as it is been shown in the previous two code boxes"
   ]
  },
  {
   "cell_type": "markdown",
   "metadata": {
    "id": "ee4d83d0"
   },
   "source": [
    "### Extracting Day, Month, Year for 'baseline_create_date' column"
   ]
  },
  {
   "cell_type": "code",
   "execution_count": 229,
   "metadata": {
    "id": "32b240e1"
   },
   "outputs": [],
   "source": [
    "# create new features\n",
    "\n",
    "X_train['day_of_createdate'] = X_train['baseline_create_date'].dt.day\n",
    "X_train['month_of_createdate'] = X_train['baseline_create_date'].dt.month\n",
    "X_train['year_of_createdate'] = X_train['baseline_create_date'].dt.year\n",
    "\n",
    "X_val['day_of_createdate'] = X_val['baseline_create_date'].dt.day\n",
    "X_val['month_of_createdate'] = X_val['baseline_create_date'].dt.month\n",
    "X_val['year_of_createdate'] = X_val['baseline_create_date'].dt.year\n",
    "\n",
    "X_test['day_of_createdate'] = X_test['baseline_create_date'].dt.day\n",
    "X_test['month_of_createdate'] = X_test['baseline_create_date'].dt.month\n",
    "X_test['year_of_createdate'] = X_test['baseline_create_date'].dt.year"
   ]
  },
  {
   "cell_type": "markdown",
   "metadata": {
    "id": "cFgwkS5rSDDs"
   },
   "source": [
    "### pass the \"baseline_create_date\" column into the Custom function for train, test and validation dataset"
   ]
  },
  {
   "cell_type": "code",
   "execution_count": 230,
   "metadata": {
    "id": "RGYa2BEQSDg3"
   },
   "outputs": [],
   "source": [
    "X_train ,X_val, X_test = custom(['baseline_create_date'])"
   ]
  },
  {
   "cell_type": "markdown",
   "metadata": {
    "id": "77c7a0df"
   },
   "source": [
    "### You need to extract day, month and year from the \"due_in_date\" column \n",
    "\n",
    "1.   Extract days from \"due_in_date\" column and store it into a new column \"day_of_due\" for train, test and validation dataset \n",
    "2.   Extract months from \"due_in_date\" column and store it into a new column \"month_of_due\" for train, test and validation dataset\n",
    "3.   Extract year from \"due_in_date\" column and store it into a new column \"year_of_due\" for train, test and validation dataset \n",
    "\n",
    "\n",
    "\n",
    "- Note - You are supposed yo use \n",
    "\n",
    "*   dt.day\n",
    "*   dt.month\n",
    "*   dt.year\n",
    "\n",
    "- Note - Do as it is been shown in the previous code"
   ]
  },
  {
   "cell_type": "code",
   "execution_count": 231,
   "metadata": {
    "id": "5c745547"
   },
   "outputs": [],
   "source": [
    "# create new features\n",
    "\n",
    "X_train['day_of_due'] = X_train['due_in_date'].dt.day\n",
    "X_train['month_of_due'] = X_train['due_in_date'].dt.month\n",
    "X_train['year_of_due'] = X_train['due_in_date'].dt.year\n",
    "\n",
    "X_val['day_of_due'] = X_val['due_in_date'].dt.day\n",
    "X_val['month_of_due'] = X_val['due_in_date'].dt.month\n",
    "X_val['year_of_due'] = X_val['due_in_date'].dt.year\n",
    "\n",
    "X_test['day_of_due'] = X_test['due_in_date'].dt.day\n",
    "X_test['month_of_due'] = X_test['due_in_date'].dt.month\n",
    "X_test['year_of_due'] = X_test['due_in_date'].dt.year"
   ]
  },
  {
   "cell_type": "markdown",
   "metadata": {
    "id": "FYLLzulGSvRd"
   },
   "source": [
    "pass the \"due_in_date\" column into the Custom function for train, test and validation dataset"
   ]
  },
  {
   "cell_type": "code",
   "execution_count": 232,
   "metadata": {
    "id": "1-s6QuY9Svrh"
   },
   "outputs": [],
   "source": [
    "X_train ,X_val, X_test = custom(['due_in_date'])"
   ]
  },
  {
   "cell_type": "markdown",
   "metadata": {
    "id": "1ae5d052"
   },
   "source": [
    "### Check for the datatypes for train, test and validation set again\n",
    "\n",
    "- Note - all the data type should be in either int64 or float64 format \n"
   ]
  },
  {
   "cell_type": "code",
   "execution_count": 233,
   "metadata": {
    "id": "aee9d828"
   },
   "outputs": [
    {
     "name": "stdout",
     "output_type": "stream",
     "text": [
      "cust_number                 int32\n",
      "buisness_year             float64\n",
      "doc_id                    float64\n",
      "converted_usd             float64\n",
      "business_code_enc           int32\n",
      "name_customer_enc           int64\n",
      "cust_payment_terms_enc      int64\n",
      "day_of_postingdate          int64\n",
      "month_of_postingdate        int64\n",
      "year_of_postingdate         int64\n",
      "day_of_createdate           int64\n",
      "month_of_createdate         int64\n",
      "year_of_createdate          int64\n",
      "day_of_due                  int64\n",
      "month_of_due                int64\n",
      "year_of_due                 int64\n",
      "dtype: object \n",
      "\n",
      " cust_number                 int32\n",
      "buisness_year             float64\n",
      "doc_id                    float64\n",
      "converted_usd             float64\n",
      "business_code_enc           int32\n",
      "name_customer_enc           int64\n",
      "cust_payment_terms_enc      int64\n",
      "day_of_postingdate          int64\n",
      "month_of_postingdate        int64\n",
      "year_of_postingdate         int64\n",
      "day_of_createdate           int64\n",
      "month_of_createdate         int64\n",
      "year_of_createdate          int64\n",
      "day_of_due                  int64\n",
      "month_of_due                int64\n",
      "year_of_due                 int64\n",
      "dtype: object \n",
      "\n",
      " cust_number                 int32\n",
      "buisness_year             float64\n",
      "doc_id                    float64\n",
      "converted_usd             float64\n",
      "business_code_enc           int32\n",
      "name_customer_enc           int64\n",
      "cust_payment_terms_enc      int64\n",
      "day_of_postingdate          int64\n",
      "month_of_postingdate        int64\n",
      "year_of_postingdate         int64\n",
      "day_of_createdate           int64\n",
      "month_of_createdate         int64\n",
      "year_of_createdate          int64\n",
      "day_of_due                  int64\n",
      "month_of_due                int64\n",
      "year_of_due                 int64\n",
      "dtype: object\n"
     ]
    }
   ],
   "source": [
    "# datatypes of dataframe\n",
    "\n",
    "print(X_train.dtypes, \"\\n\\n\", X_val.dtypes, \"\\n\\n\", X_test.dtypes)"
   ]
  },
  {
   "cell_type": "markdown",
   "metadata": {
    "id": "65810f55"
   },
   "source": [
    "# Feature Selection"
   ]
  },
  {
   "cell_type": "markdown",
   "metadata": {
    "id": "4bb1ad9f"
   },
   "source": [
    "### Filter Method\n",
    "\n",
    "- Calling the VarianceThreshold Function \n",
    "- Note - Keep the code as it is, no need to change "
   ]
  },
  {
   "cell_type": "code",
   "execution_count": 234,
   "metadata": {
    "id": "e882509f"
   },
   "outputs": [
    {
     "data": {
      "text/plain": [
       "16"
      ]
     },
     "execution_count": 234,
     "metadata": {},
     "output_type": "execute_result"
    }
   ],
   "source": [
    "from sklearn.feature_selection import VarianceThreshold\n",
    "constant_filter = VarianceThreshold(threshold=0)\n",
    "constant_filter.fit(X_train)\n",
    "len(X_train.columns[constant_filter.get_support()])"
   ]
  },
  {
   "cell_type": "markdown",
   "metadata": {
    "id": "V9531H3jR-W2"
   },
   "source": [
    "- Note - Keep the code as it is, no need to change \n"
   ]
  },
  {
   "cell_type": "code",
   "execution_count": 235,
   "metadata": {
    "id": "c77c12e1"
   },
   "outputs": [
    {
     "name": "stdout",
     "output_type": "stream",
     "text": [
      "0\n"
     ]
    }
   ],
   "source": [
    "constant_columns = [column for column in X_train.columns\n",
    "                    if column not in X_train.columns[constant_filter.get_support()]]\n",
    "print(len(constant_columns))"
   ]
  },
  {
   "cell_type": "markdown",
   "metadata": {
    "id": "6d9b8610"
   },
   "source": [
    "- transpose the feature matrice\n",
    "- print the number of duplicated features\n",
    "- select the duplicated features columns names\n",
    "\n",
    "- Note - Keep the code as it is, no need to change \n"
   ]
  },
  {
   "cell_type": "code",
   "execution_count": 236,
   "metadata": {
    "id": "0fb7db95"
   },
   "outputs": [
    {
     "name": "stdout",
     "output_type": "stream",
     "text": [
      "0\n"
     ]
    }
   ],
   "source": [
    "x_train_T = X_train.T\n",
    "print(x_train_T.duplicated().sum())\n",
    "duplicated_columns = x_train_T[x_train_T.duplicated()].index.values"
   ]
  },
  {
   "cell_type": "markdown",
   "metadata": {
    "id": "510fa831"
   },
   "source": [
    "### Filtering depending upon correlation matrix value\n",
    "- We have created a function called handling correlation which is going to return fields based on the correlation matrix value with a threshold of 0.8\n",
    "\n",
    "- Note - Keep the code as it is, no need to change "
   ]
  },
  {
   "cell_type": "code",
   "execution_count": 237,
   "metadata": {
    "id": "67731abc"
   },
   "outputs": [],
   "source": [
    "def handling_correlation(X_train,threshold=0.8):\n",
    "    corr_features = set()\n",
    "    corr_matrix = X_train.corr()\n",
    "    for i in range(len(corr_matrix .columns)):\n",
    "        for j in range(i):\n",
    "            if abs(corr_matrix.iloc[i, j]) >threshold:\n",
    "                colname = corr_matrix.columns[i]\n",
    "                corr_features.add(colname)\n",
    "    return list(corr_features)"
   ]
  },
  {
   "cell_type": "markdown",
   "metadata": {
    "id": "JaE_6qVgSXl3"
   },
   "source": [
    "- Note : Here we are trying to find out the relevant fields, from X_train\n",
    "- Please fill in the blanks to call handling_correlation() function with a threshold value of 0.85"
   ]
  },
  {
   "cell_type": "code",
   "execution_count": 238,
   "metadata": {
    "id": "dd91d1a2"
   },
   "outputs": [
    {
     "data": {
      "text/plain": [
       "['year_of_due',\n",
       " 'day_of_createdate',\n",
       " 'year_of_postingdate',\n",
       " 'month_of_due',\n",
       " 'year_of_createdate',\n",
       " 'month_of_createdate']"
      ]
     },
     "execution_count": 238,
     "metadata": {},
     "output_type": "execute_result"
    }
   ],
   "source": [
    "train=X_train.copy()\n",
    "handling_correlation(train.copy(),0.8)"
   ]
  },
  {
   "cell_type": "markdown",
   "metadata": {
    "id": "154da511"
   },
   "source": [
    "### Heatmap for X_train\n",
    "\n",
    "- Note - Keep the code as it is, no need to change"
   ]
  },
  {
   "cell_type": "code",
   "execution_count": 239,
   "metadata": {
    "id": "2e8f2fe4"
   },
   "outputs": [
    {
     "data": {
      "text/plain": [
       "<matplotlib.axes._subplots.AxesSubplot at 0x16fec73f488>"
      ]
     },
     "execution_count": 239,
     "metadata": {},
     "output_type": "execute_result"
    },
    {
     "data": {
      "image/png": "[encoded data removed]",
      "text/plain": [
       "<Figure size 1008x864 with 2 Axes>"
      ]
     },
     "metadata": {
      "needs_background": "light"
     },
     "output_type": "display_data"
    }
   ],
   "source": [
    "colormap = plt.cm.RdBu\n",
    "plt.figure(figsize=(14,12))\n",
    "plt.title('Pearson Correlation of Features', y=1.05, size=20)\n",
    "sns.heatmap(X_train.merge(y_train , on = X_train.index ).corr(),linewidths=0.1,vmax=1.0, \n",
    "            square=True, cmap='gist_rainbow_r', linecolor='white', annot=True)"
   ]
  },
  {
   "cell_type": "markdown",
   "metadata": {
    "id": "e3b0d745"
   },
   "source": [
    "#### Calling variance threshold for threshold value = 0.8\n",
    "\n",
    "- Note -  Fill in the blanks to call the appropriate method"
   ]
  },
  {
   "cell_type": "code",
   "execution_count": 240,
   "metadata": {
    "id": "a9b2080f"
   },
   "outputs": [
    {
     "data": {
      "text/plain": [
       "VarianceThreshold(threshold=0.8)"
      ]
     },
     "execution_count": 240,
     "metadata": {},
     "output_type": "execute_result"
    }
   ],
   "source": [
    "from sklearn.feature_selection import VarianceThreshold\n",
    "sel = VarianceThreshold(0.8)\n",
    "sel.fit(X_train)"
   ]
  },
  {
   "cell_type": "code",
   "execution_count": 241,
   "metadata": {
    "id": "6cb8c3dc"
   },
   "outputs": [
    {
     "data": {
      "text/plain": [
       "array([1.79867713e+15, 1.15195317e-01, 8.14358365e+16, 1.33915922e+09,\n",
       "       2.89199371e-01, 1.06851239e+06, 1.17330626e+02, 7.55002009e+01,\n",
       "       1.22507253e+01, 1.15661120e-01, 7.71513423e+01, 1.22576245e+01,\n",
       "       1.15788866e-01, 7.61732267e+01, 1.20393869e+01, 1.18619907e-01])"
      ]
     },
     "execution_count": 241,
     "metadata": {},
     "output_type": "execute_result"
    }
   ],
   "source": [
    "sel.variances_"
   ]
  },
  {
   "cell_type": "markdown",
   "metadata": {
    "id": "62633a84"
   },
   "source": [
    "### Important features columns are \n",
    "- 'year_of_createdate' \n",
    "- 'year_of_due'\n",
    "- 'day_of_createdate'\n",
    "- 'year_of_postingdate'\n",
    "- 'month_of_due'\n",
    "- 'month_of_createdate'"
   ]
  },
  {
   "cell_type": "markdown",
   "metadata": {
    "id": "651f1ad0"
   },
   "source": [
    "# Modelling \n",
    "\n",
    "#### Now you need to compare with different machine learning models, and needs to find out the best predicted model\n",
    "\n",
    "- Linear Regression\n",
    "- Decision Tree Regression\n",
    "- Random Forest Regression\n",
    "- Support Vector Regression\n",
    "- Extreme Gradient Boost Regression "
   ]
  },
  {
   "cell_type": "markdown",
   "metadata": {
    "id": "PicEhSuUUOkt"
   },
   "source": [
    "### You need to make different blank list for different evaluation matrix \n",
    "\n",
    "- MSE\n",
    "- R2\n",
    "- Algorithm"
   ]
  },
  {
   "cell_type": "code",
   "execution_count": 242,
   "metadata": {
    "id": "701e12b0"
   },
   "outputs": [],
   "source": [
    "MSE_Score_test = []\n",
    "R2_Score_test = []\n",
    "MSE_Score_val = []\n",
    "R2_Score_val = []\n",
    "Algorithm = []\n",
    "from sklearn.metrics import mean_squared_error\n",
    "from sklearn.metrics import r2_score"
   ]
  },
  {
   "cell_type": "markdown",
   "metadata": {
    "id": "29310119"
   },
   "source": [
    "### You need to start with the baseline model Linear Regression\n",
    "\n",
    "- Step 1 : Call the Linear Regression from sklearn library\n",
    "- Step 2 : make an object of Linear Regression \n",
    "- Step 3 : fit the X_train and y_train dataframe into the object \n",
    "- Step 4 : Predict the output by passing the X_test Dataset into predict function\n",
    "\n",
    "\n",
    "\n",
    "\n",
    "- Note - Append the Algorithm name into the algorithm list for tracking purpose"
   ]
  },
  {
   "cell_type": "code",
   "execution_count": 243,
   "metadata": {
    "id": "6bdea395"
   },
   "outputs": [],
   "source": [
    "from sklearn.linear_model import LinearRegression\n",
    "Algorithm.append('LinearRegression')\n",
    "regressor = LinearRegression()\n",
    "regressor.fit(X_train, y_train)\n",
    "predicted_test = regressor.predict(X_test)"
   ]
  },
  {
   "cell_type": "markdown",
   "metadata": {
    "id": "G02cpnBhXJ14"
   },
   "source": [
    "### Check for the \n",
    "\n",
    "- Mean Square Error\n",
    "- R Square Error \n",
    "\n",
    "for y_test and predicted dataset and store those data inside respective list for comparison "
   ]
  },
  {
   "cell_type": "code",
   "execution_count": 244,
   "metadata": {
    "id": "0f69ca19"
   },
   "outputs": [],
   "source": [
    "MSE_Score_test.append(mean_squared_error(y_test, predicted_test, squared=False))\n",
    "R2_Score_test.append(r2_score(y_test, predicted_test))"
   ]
  },
  {
   "cell_type": "markdown",
   "metadata": {
    "id": "CsmScbHjYMv1"
   },
   "source": [
    "### Check the same for the Validation set also "
   ]
  },
  {
   "cell_type": "code",
   "execution_count": 245,
   "metadata": {
    "colab": {
     "base_uri": "https://localhost:8080/"
    },
    "executionInfo": {
     "elapsed": 10,
     "status": "ok",
     "timestamp": 1643093994094,
     "user": {
      "displayName": "Chandramouli Das",
      "photoUrl": "https://lh3.googleusercontent.com/a-/AOh14GgsMuDXf6PZsS77v0Q5x8metxFPnlLXsBC6Y3O7=s64",
      "userId": "13777762579346461395"
     },
     "user_tz": -330
    },
    "id": "fe653295",
    "outputId": "0c7429ca-50d0-42a2-96a1-effaa92f549e"
   },
   "outputs": [],
   "source": [
    "predicted_val = regressor.predict(X_val)\n",
    "MSE_Score_val.append(mean_squared_error(y_val, predicted_val, squared=False))\n",
    "R2_Score_val.append(r2_score(y_val, predicted_val))"
   ]
  },
  {
   "cell_type": "markdown",
   "metadata": {
    "id": "LokxV2LGYUVh"
   },
   "source": [
    "### Display The Comparison Lists"
   ]
  },
  {
   "cell_type": "code",
   "execution_count": 246,
   "metadata": {
    "colab": {
     "base_uri": "https://localhost:8080/"
    },
    "executionInfo": {
     "elapsed": 8,
     "status": "ok",
     "timestamp": 1643093994095,
     "user": {
      "displayName": "Chandramouli Das",
      "photoUrl": "https://lh3.googleusercontent.com/a-/AOh14GgsMuDXf6PZsS77v0Q5x8metxFPnlLXsBC6Y3O7=s64",
      "userId": "13777762579346461395"
     },
     "user_tz": -330
    },
    "id": "9c405bd3",
    "outputId": "9d78f4a9-33fc-48d1-edc8-c997eca38de0"
   },
   "outputs": [
    {
     "name": "stdout",
     "output_type": "stream",
     "text": [
      "['LinearRegression'],[549146.7166182707],[0.31842492167808156],[558507.5006423773],[0.35525088154407514],"
     ]
    }
   ],
   "source": [
    "for i in Algorithm, MSE_Score_test, R2_Score_test, MSE_Score_val, R2_Score_val:\n",
    "    print(i,end=',')"
   ]
  },
  {
   "cell_type": "markdown",
   "metadata": {
    "id": "b0e65c86"
   },
   "source": [
    "### You need to start with the baseline model Support Vector Regression\n",
    "\n",
    "- Step 1 : Call the Support Vector Regressor from sklearn library\n",
    "- Step 2 : make an object of SVR\n",
    "- Step 3 : fit the X_train and y_train dataframe into the object \n",
    "- Step 4 : Predict the output by passing the X_test Dataset into predict function\n",
    "\n",
    "\n",
    "\n",
    "\n",
    "- Note - Append the Algorithm name into the algorithm list for tracking purpose"
   ]
  },
  {
   "cell_type": "code",
   "execution_count": 247,
   "metadata": {
    "id": "ccb5de08"
   },
   "outputs": [],
   "source": [
    "from sklearn.svm import SVR\n",
    "Algorithm.append('Support Vector Regression')\n",
    "svr = SVR()\n",
    "svr.fit(X_train, y_train)\n",
    "\n",
    "predicted_val = svr.predict(X_val)\n",
    "predicted_test = svr.predict(X_test)"
   ]
  },
  {
   "cell_type": "markdown",
   "metadata": {
    "id": "zz9kcrViYt7e"
   },
   "source": [
    "### Check for the \n",
    "\n",
    "- Mean Square Error\n",
    "- R Square Error \n",
    "\n",
    "for \"y_test\" and \"predicted\" dataset and store those data inside respective list for comparison "
   ]
  },
  {
   "cell_type": "code",
   "execution_count": 248,
   "metadata": {
    "id": "5bb9db76"
   },
   "outputs": [],
   "source": [
    "MSE_Score_test.append(mean_squared_error(y_test, predicted_test, squared=False))\n",
    "R2_Score_test.append(r2_score(y_test, predicted_test))"
   ]
  },
  {
   "cell_type": "markdown",
   "metadata": {
    "id": "0YAxd8N9Y0hJ"
   },
   "source": [
    "### Check the same for the Validation set also "
   ]
  },
  {
   "cell_type": "code",
   "execution_count": 249,
   "metadata": {
    "id": "d6ee71b1"
   },
   "outputs": [],
   "source": [
    "MSE_Score_val.append(mean_squared_error(y_val, predicted_val, squared=False))\n",
    "R2_Score_val.append(r2_score(y_val, predicted_val))"
   ]
  },
  {
   "cell_type": "markdown",
   "metadata": {
    "id": "eGcqS5EcY4BI"
   },
   "source": [
    "### Display The Comparison Lists"
   ]
  },
  {
   "cell_type": "code",
   "execution_count": 250,
   "metadata": {
    "id": "aa72c1ec"
   },
   "outputs": [
    {
     "name": "stdout",
     "output_type": "stream",
     "text": [
      "['LinearRegression', 'Support Vector Regression'],[549146.7166182707, 666612.3709174186],[0.31842492167808156, -0.004346701474567949],[558507.5006423773, 698515.1697213296],[0.35525088154407514, -0.008519782291617206],"
     ]
    }
   ],
   "source": [
    "for i in Algorithm, MSE_Score_test, R2_Score_test, MSE_Score_val, R2_Score_val:\n",
    "    print(i,end=',')"
   ]
  },
  {
   "cell_type": "markdown",
   "metadata": {
    "id": "dad18bb3"
   },
   "source": [
    "### Your next model would be Decision Tree Regression\n",
    "\n",
    "- Step 1 : Call the Decision Tree Regressor from sklearn library\n",
    "- Step 2 : make an object of Decision Tree\n",
    "- Step 3 : fit the X_train and y_train dataframe into the object \n",
    "- Step 4 : Predict the output by passing the X_test Dataset into predict function\n",
    "\n",
    "\n",
    "\n",
    "\n",
    "- Note - Append the Algorithm name into the algorithm list for tracking purpose"
   ]
  },
  {
   "cell_type": "code",
   "execution_count": 251,
   "metadata": {
    "id": "1b6a51eb"
   },
   "outputs": [],
   "source": [
    "from sklearn.tree import DecisionTreeRegressor\n",
    "Algorithm.append('Decision Tree Regressor')\n",
    "decision_tree_regressor = DecisionTreeRegressor()\n",
    "decision_tree_regressor.fit(X_train, y_train)\n",
    "\n",
    "predicted_val = decision_tree_regressor.predict(X_val)\n",
    "predicted_test = decision_tree_regressor.predict(X_test)"
   ]
  },
  {
   "cell_type": "markdown",
   "metadata": {
    "id": "AOzfgfeOZo3F"
   },
   "source": [
    "### Check for the \n",
    "\n",
    "- Mean Square Error\n",
    "- R Square Error \n",
    "\n",
    "for y_test and predicted dataset and store those data inside respective list for comparison "
   ]
  },
  {
   "cell_type": "code",
   "execution_count": 252,
   "metadata": {
    "id": "776e6983"
   },
   "outputs": [],
   "source": [
    "MSE_Score_test.append(mean_squared_error(y_test, predicted_test, squared=False))\n",
    "R2_Score_test.append(r2_score(y_test, predicted_test))"
   ]
  },
  {
   "cell_type": "markdown",
   "metadata": {
    "id": "eI6d49DQZrhW"
   },
   "source": [
    "### Check the same for the Validation set also "
   ]
  },
  {
   "cell_type": "code",
   "execution_count": 253,
   "metadata": {
    "id": "155fb55c"
   },
   "outputs": [],
   "source": [
    "MSE_Score_val.append(mean_squared_error(y_val, predicted_val, squared=False))\n",
    "R2_Score_val.append(r2_score(y_val, predicted_val))"
   ]
  },
  {
   "cell_type": "markdown",
   "metadata": {
    "id": "sbGXvBLQZw5E"
   },
   "source": [
    "### Display The Comparison Lists"
   ]
  },
  {
   "cell_type": "code",
   "execution_count": 254,
   "metadata": {
    "id": "1d74d515"
   },
   "outputs": [
    {
     "name": "stdout",
     "output_type": "stream",
     "text": [
      "['LinearRegression', 'Support Vector Regression', 'Decision Tree Regressor'],[549146.7166182707, 666612.3709174186, 516420.7210993118],[0.31842492167808156, -0.004346701474567949, 0.397240256846937],[558507.5006423773, 698515.1697213296, 435469.391256805],[0.35525088154407514, -0.008519782291617206, 0.6080343532663706],"
     ]
    }
   ],
   "source": [
    "for i in Algorithm, MSE_Score_test, R2_Score_test, MSE_Score_val, R2_Score_val:\n",
    "    print(i,end=',')"
   ]
  },
  {
   "cell_type": "markdown",
   "metadata": {
    "id": "4ae9979b"
   },
   "source": [
    "### Your next model would be Random Forest Regression\n",
    "\n",
    "- Step 1 : Call the Random Forest Regressor from sklearn library\n",
    "- Step 2 : make an object of Random Forest\n",
    "- Step 3 : fit the X_train and y_train dataframe into the object \n",
    "- Step 4 : Predict the output by passing the X_test Dataset into predict function\n",
    "\n",
    "\n",
    "\n",
    "\n",
    "- Note - Append the Algorithm name into the algorithm list for tracking purpose"
   ]
  },
  {
   "cell_type": "code",
   "execution_count": 255,
   "metadata": {
    "id": "a69e476a"
   },
   "outputs": [],
   "source": [
    "from sklearn.ensemble import RandomForestRegressor\n",
    "Algorithm.append('Random Forest Regressor')\n",
    "random_forest = RandomForestRegressor()\n",
    "random_forest.fit(X_train, y_train)\n",
    "\n",
    "predicted_val = random_forest.predict(X_val)\n",
    "predicted_test = random_forest.predict(X_test)"
   ]
  },
  {
   "cell_type": "markdown",
   "metadata": {
    "id": "XNcEJF-6anof"
   },
   "source": [
    "### Check for the \n",
    "\n",
    "- Mean Square Error\n",
    "- R Square Error \n",
    "\n",
    "for y_test and predicted dataset and store those data inside respective list for comparison "
   ]
  },
  {
   "cell_type": "code",
   "execution_count": 256,
   "metadata": {
    "id": "826f63f4"
   },
   "outputs": [],
   "source": [
    "MSE_Score_test.append(mean_squared_error(y_test, predicted_test, squared=False))\n",
    "R2_Score_test.append(r2_score(y_test, predicted_test))"
   ]
  },
  {
   "cell_type": "markdown",
   "metadata": {
    "id": "yMbyr9V4ati1"
   },
   "source": [
    "### Check the same for the Validation set also "
   ]
  },
  {
   "cell_type": "code",
   "execution_count": 257,
   "metadata": {
    "id": "55b9fb54"
   },
   "outputs": [],
   "source": [
    "MSE_Score_val.append(mean_squared_error(y_val, predicted_val, squared=False))\n",
    "R2_Score_val.append(r2_score(y_val, predicted_val))"
   ]
  },
  {
   "cell_type": "markdown",
   "metadata": {
    "id": "tiBawcCsaw_Z"
   },
   "source": [
    "### Display The Comparison Lists\n"
   ]
  },
  {
   "cell_type": "code",
   "execution_count": 258,
   "metadata": {
    "id": "8277c13e"
   },
   "outputs": [
    {
     "name": "stdout",
     "output_type": "stream",
     "text": [
      "['LinearRegression', 'Support Vector Regression', 'Decision Tree Regressor', 'Random Forest Regressor'],[549146.7166182707, 666612.3709174186, 516420.7210993118, 397888.13602107984],[0.31842492167808156, -0.004346701474567949, 0.397240256846937, 0.6421847062621662],[558507.5006423773, 698515.1697213296, 435469.391256805, 356261.5292667693],[0.35525088154407514, -0.008519782291617206, 0.6080343532663706, 0.7376563282263617],"
     ]
    }
   ],
   "source": [
    "for i in Algorithm, MSE_Score_test, R2_Score_test, MSE_Score_val, R2_Score_val:\n",
    "    print(i,end=',')"
   ]
  },
  {
   "cell_type": "markdown",
   "metadata": {
    "id": "e6b21881"
   },
   "source": [
    "### The last but not the least model would be XGBoost or Extreme Gradient Boost Regression\n",
    "\n",
    "- Step 1 : Call the XGBoost Regressor from xgb library\n",
    "- Step 2 : make an object of Xgboost\n",
    "- Step 3 : fit the X_train and y_train dataframe into the object \n",
    "- Step 4 : Predict the output by passing the X_test Dataset into predict function\n",
    "\n",
    "\n",
    "\n",
    "\n",
    "- Note - Append the Algorithm name into the algorithm list for tracking purpose### Extreme Gradient Boost Regression\n",
    "- Note -  No need to change the code "
   ]
  },
  {
   "cell_type": "code",
   "execution_count": 259,
   "metadata": {
    "id": "705a38ec"
   },
   "outputs": [],
   "source": [
    "import xgboost as xgb\n",
    "Algorithm.append('XGB Regressor')\n",
    "regressor = xgb.XGBRegressor()\n",
    "regressor.fit(X_train, y_train)\n",
    "predicted_test = regressor.predict(X_test)\n",
    "predicted_val = regressor.predict(X_val)"
   ]
  },
  {
   "cell_type": "markdown",
   "metadata": {
    "id": "ierNZkb9bQDD"
   },
   "source": [
    "### Check for the \n",
    "\n",
    "- Mean Square Error\n",
    "- R Square Error \n",
    "\n",
    "for y_test and predicted dataset and store those data inside respective list for comparison "
   ]
  },
  {
   "cell_type": "code",
   "execution_count": 260,
   "metadata": {
    "id": "507a9d2f"
   },
   "outputs": [],
   "source": [
    "MSE_Score_test.append(mean_squared_error(y_test, predicted_test, squared=False))\n",
    "R2_Score_test.append(r2_score(y_test, predicted_test))"
   ]
  },
  {
   "cell_type": "markdown",
   "metadata": {
    "id": "84UZ2ojsbWaH"
   },
   "source": [
    "### Check the same for the Validation set also "
   ]
  },
  {
   "cell_type": "code",
   "execution_count": 261,
   "metadata": {
    "id": "e78ac250"
   },
   "outputs": [],
   "source": [
    "MSE_Score_val.append(mean_squared_error(y_val, predicted_val, squared=False))\n",
    "R2_Score_val.append(r2_score(y_val, predicted_val))"
   ]
  },
  {
   "cell_type": "markdown",
   "metadata": {
    "id": "9FJFyaVbbbAH"
   },
   "source": [
    "### Display The Comparison Lists\n"
   ]
  },
  {
   "cell_type": "code",
   "execution_count": 262,
   "metadata": {
    "id": "f765ba35"
   },
   "outputs": [
    {
     "name": "stdout",
     "output_type": "stream",
     "text": [
      "['LinearRegression', 'Support Vector Regression', 'Decision Tree Regressor', 'Random Forest Regressor', 'XGB Regressor'],[549146.7166182707, 666612.3709174186, 516420.7210993118, 397888.13602107984, 388365.49821576604],[0.31842492167808156, -0.004346701474567949, 0.397240256846937, 0.6421847062621662, 0.6591069073563807],[558507.5006423773, 698515.1697213296, 435469.391256805, 356261.5292667693, 362586.38605639286],[0.35525088154407514, -0.008519782291617206, 0.6080343532663706, 0.7376563282263617, 0.7282586525901925],"
     ]
    }
   ],
   "source": [
    "for i in Algorithm, MSE_Score_test, R2_Score_test, MSE_Score_val, R2_Score_val:\n",
    "    print(i,end=',')"
   ]
  },
  {
   "cell_type": "markdown",
   "metadata": {
    "id": "a71bc90f"
   },
   "source": [
    "## You need to make the comparison list into a comparison dataframe "
   ]
  },
  {
   "cell_type": "code",
   "execution_count": 263,
   "metadata": {
    "id": "ff5159a7"
   },
   "outputs": [
    {
     "data": {
      "text/html": [
       "<div>\n",
       "<style scoped>\n",
       "    .dataframe tbody tr th:only-of-type {\n",
       "        vertical-align: middle;\n",
       "    }\n",
       "\n",
       "    .dataframe tbody tr th {\n",
       "        vertical-align: top;\n",
       "    }\n",
       "\n",
       "    .dataframe thead th {\n",
       "        text-align: right;\n",
       "    }\n",
       "</style>\n",
       "<table border=\"1\" class=\"dataframe\">\n",
       "  <thead>\n",
       "    <tr style=\"text-align: right;\">\n",
       "      <th></th>\n",
       "      <th>Algorithm</th>\n",
       "      <th>MSE_Score_validation</th>\n",
       "      <th>R2_Score_validation</th>\n",
       "      <th>MSE_Score_test</th>\n",
       "      <th>R2_Score_test</th>\n",
       "    </tr>\n",
       "  </thead>\n",
       "  <tbody>\n",
       "    <tr>\n",
       "      <th>0</th>\n",
       "      <td>LinearRegression</td>\n",
       "      <td>558507.500642</td>\n",
       "      <td>0.355251</td>\n",
       "      <td>549146.716618</td>\n",
       "      <td>0.318425</td>\n",
       "    </tr>\n",
       "    <tr>\n",
       "      <th>1</th>\n",
       "      <td>Support Vector Regression</td>\n",
       "      <td>698515.169721</td>\n",
       "      <td>-0.008520</td>\n",
       "      <td>666612.370917</td>\n",
       "      <td>-0.004347</td>\n",
       "    </tr>\n",
       "    <tr>\n",
       "      <th>2</th>\n",
       "      <td>Decision Tree Regressor</td>\n",
       "      <td>435469.391257</td>\n",
       "      <td>0.608034</td>\n",
       "      <td>516420.721099</td>\n",
       "      <td>0.397240</td>\n",
       "    </tr>\n",
       "    <tr>\n",
       "      <th>3</th>\n",
       "      <td>Random Forest Regressor</td>\n",
       "      <td>356261.529267</td>\n",
       "      <td>0.737656</td>\n",
       "      <td>397888.136021</td>\n",
       "      <td>0.642185</td>\n",
       "    </tr>\n",
       "    <tr>\n",
       "      <th>4</th>\n",
       "      <td>XGB Regressor</td>\n",
       "      <td>362586.386056</td>\n",
       "      <td>0.728259</td>\n",
       "      <td>388365.498216</td>\n",
       "      <td>0.659107</td>\n",
       "    </tr>\n",
       "  </tbody>\n",
       "</table>\n",
       "</div>"
      ],
      "text/plain": [
       "                   Algorithm  MSE_Score_validation  R2_Score_validation  \\\n",
       "0           LinearRegression         558507.500642             0.355251   \n",
       "1  Support Vector Regression         698515.169721            -0.008520   \n",
       "2    Decision Tree Regressor         435469.391257             0.608034   \n",
       "3    Random Forest Regressor         356261.529267             0.737656   \n",
       "4              XGB Regressor         362586.386056             0.728259   \n",
       "\n",
       "   MSE_Score_test  R2_Score_test  \n",
       "0   549146.716618       0.318425  \n",
       "1   666612.370917      -0.004347  \n",
       "2   516420.721099       0.397240  \n",
       "3   397888.136021       0.642185  \n",
       "4   388365.498216       0.659107  "
      ]
     },
     "execution_count": 263,
     "metadata": {},
     "output_type": "execute_result"
    }
   ],
   "source": [
    "Comparison = pd.DataFrame(list(zip(Algorithm, MSE_Score_val, R2_Score_val, MSE_Score_test, R2_Score_test)), columns = ['Algorithm', 'MSE_Score_validation', 'R2_Score_validation', 'MSE_Score_test', 'R2_Score_test'])\n",
    "Comparison"
   ]
  },
  {
   "cell_type": "markdown",
   "metadata": {
    "id": "62e61c60"
   },
   "source": [
    "## Now from the Comparison table, you need to choose the best fit model\n",
    "\n",
    "- Step 1 - Fit X_train and y_train inside the model \n",
    "- Step 2 - Predict the X_test dataset\n",
    "- Step 3 - Predict the X_val dataset\n",
    "\n",
    "\n",
    "- Note - No need to change the code"
   ]
  },
  {
   "cell_type": "code",
   "execution_count": 264,
   "metadata": {
    "id": "3e07c258"
   },
   "outputs": [],
   "source": [
    "regressorfinal = xgb.XGBRegressor()\n",
    "regressorfinal.fit(X_train, y_train)\n",
    "predictedfinal = regressorfinal.predict(X_test)\n",
    "predict_testfinal = regressorfinal.predict(X_val)"
   ]
  },
  {
   "cell_type": "markdown",
   "metadata": {
    "id": "8e4df6c4"
   },
   "source": [
    "### Calculate the Mean Square Error for test dataset\n",
    "\n",
    "- Note - No need to change the code"
   ]
  },
  {
   "cell_type": "code",
   "execution_count": 265,
   "metadata": {
    "id": "5fb466d0"
   },
   "outputs": [
    {
     "data": {
      "text/plain": [
       "388365.49821576604"
      ]
     },
     "execution_count": 265,
     "metadata": {},
     "output_type": "execute_result"
    }
   ],
   "source": [
    "mean_squared_error(y_test,predictedfinal,squared=False)"
   ]
  },
  {
   "cell_type": "markdown",
   "metadata": {
    "id": "ce27f87f"
   },
   "source": [
    "### Calculate the mean Square Error for validation dataset"
   ]
  },
  {
   "cell_type": "code",
   "execution_count": 266,
   "metadata": {
    "id": "b47978ea"
   },
   "outputs": [
    {
     "data": {
      "text/plain": [
       "362586.38605639286"
      ]
     },
     "execution_count": 266,
     "metadata": {},
     "output_type": "execute_result"
    }
   ],
   "source": [
    "mean_squared_error(y_val,predict_testfinal,squared=False)"
   ]
  },
  {
   "cell_type": "markdown",
   "metadata": {
    "id": "30014dbd"
   },
   "source": [
    "### Calculate the R2 score for test"
   ]
  },
  {
   "cell_type": "code",
   "execution_count": 267,
   "metadata": {
    "id": "8a162737"
   },
   "outputs": [
    {
     "data": {
      "text/plain": [
       "0.6591069073563807"
      ]
     },
     "execution_count": 267,
     "metadata": {},
     "output_type": "execute_result"
    }
   ],
   "source": [
    "r2_score(y_test,predictedfinal)"
   ]
  },
  {
   "cell_type": "markdown",
   "metadata": {
    "id": "1c9853b0"
   },
   "source": [
    "### Calculate the R2 score for Validation"
   ]
  },
  {
   "cell_type": "code",
   "execution_count": 268,
   "metadata": {
    "id": "1a6dc77c"
   },
   "outputs": [
    {
     "data": {
      "text/plain": [
       "0.7282586525901925"
      ]
     },
     "execution_count": 268,
     "metadata": {},
     "output_type": "execute_result"
    }
   ],
   "source": [
    "r2_score(y_val,predict_testfinal)"
   ]
  },
  {
   "cell_type": "markdown",
   "metadata": {
    "id": "499522d9"
   },
   "source": [
    "### Calculate the Accuracy for train Dataset "
   ]
  },
  {
   "cell_type": "code",
   "execution_count": 269,
   "metadata": {
    "id": "7a4f1ce8"
   },
   "outputs": [
    {
     "data": {
      "text/plain": [
       "95.49386304365005"
      ]
     },
     "execution_count": 269,
     "metadata": {},
     "output_type": "execute_result"
    }
   ],
   "source": [
    "from sklearn.metrics import accuracy_score\n",
    "accuracy_train = regressorfinal.score(X_train,y_train) * 100\n",
    "accuracy_train"
   ]
  },
  {
   "cell_type": "markdown",
   "metadata": {
    "id": "12a1c921"
   },
   "source": [
    "### Calculate the accuracy for validation"
   ]
  },
  {
   "cell_type": "code",
   "execution_count": 270,
   "metadata": {
    "id": "d2579b4f"
   },
   "outputs": [
    {
     "data": {
      "text/plain": [
       "72.82586525901924"
      ]
     },
     "execution_count": 270,
     "metadata": {},
     "output_type": "execute_result"
    }
   ],
   "source": [
    "accuracy_val = regressorfinal.score(X_val,y_val) * 100\n",
    "accuracy_val"
   ]
  },
  {
   "cell_type": "markdown",
   "metadata": {
    "id": "79b82e84"
   },
   "source": [
    "### Calculate the accuracy for test"
   ]
  },
  {
   "cell_type": "code",
   "execution_count": 271,
   "metadata": {
    "id": "f09e6431"
   },
   "outputs": [
    {
     "data": {
      "text/plain": [
       "65.91069073563807"
      ]
     },
     "execution_count": 271,
     "metadata": {},
     "output_type": "execute_result"
    }
   ],
   "source": [
    "accuracy_test = regressorfinal.score(X_test,y_test) * 100\n",
    "accuracy_test"
   ]
  },
  {
   "cell_type": "markdown",
   "metadata": {
    "id": "9488a5d9"
   },
   "source": [
    "## Specify the reason behind choosing your machine learning model \n",
    "\n",
    "- Note : Model which gives less rmse and more r2_score is chosen as our model."
   ]
  },
  {
   "cell_type": "markdown",
   "metadata": {
    "id": "387a6519"
   },
   "source": [
    "## Now you need to pass the Nulldata dataframe into this machine learning model\n",
    "\n",
    "#### In order to pass this Nulldata dataframe into the ML model, we need to perform the following\n",
    "\n",
    "- Step 1 : Label Encoding \n",
    "- Step 2 : Day, Month and Year extraction \n",
    "- Step 3 : Change all the column data type into int64 or float64\n",
    "- Step 4 : Need to drop the useless columns "
   ]
  },
  {
   "cell_type": "markdown",
   "metadata": {
    "id": "I7JuxAkdiAdI"
   },
   "source": [
    "### Display the Nulldata "
   ]
  },
  {
   "cell_type": "code",
   "execution_count": 272,
   "metadata": {
    "id": "6d6a51d2"
   },
   "outputs": [
    {
     "data": {
      "text/html": [
       "<div>\n",
       "<style scoped>\n",
       "    .dataframe tbody tr th:only-of-type {\n",
       "        vertical-align: middle;\n",
       "    }\n",
       "\n",
       "    .dataframe tbody tr th {\n",
       "        vertical-align: top;\n",
       "    }\n",
       "\n",
       "    .dataframe thead th {\n",
       "        text-align: right;\n",
       "    }\n",
       "</style>\n",
       "<table border=\"1\" class=\"dataframe\">\n",
       "  <thead>\n",
       "    <tr style=\"text-align: right;\">\n",
       "      <th></th>\n",
       "      <th>business_code</th>\n",
       "      <th>cust_number</th>\n",
       "      <th>name_customer</th>\n",
       "      <th>clear_date</th>\n",
       "      <th>buisness_year</th>\n",
       "      <th>doc_id</th>\n",
       "      <th>posting_date</th>\n",
       "      <th>due_in_date</th>\n",
       "      <th>baseline_create_date</th>\n",
       "      <th>cust_payment_terms</th>\n",
       "      <th>converted_usd</th>\n",
       "    </tr>\n",
       "  </thead>\n",
       "  <tbody>\n",
       "    <tr>\n",
       "      <th>3</th>\n",
       "      <td>CA02</td>\n",
       "      <td>0140105686</td>\n",
       "      <td>SYSC llc</td>\n",
       "      <td>NaT</td>\n",
       "      <td>2020.0</td>\n",
       "      <td>2.960623e+09</td>\n",
       "      <td>2020-03-30</td>\n",
       "      <td>2020-04-10</td>\n",
       "      <td>2020-03-31</td>\n",
       "      <td>CA10</td>\n",
       "      <td>2309.79</td>\n",
       "    </tr>\n",
       "    <tr>\n",
       "      <th>7</th>\n",
       "      <td>U001</td>\n",
       "      <td>0200744019</td>\n",
       "      <td>TARG us</td>\n",
       "      <td>NaT</td>\n",
       "      <td>2020.0</td>\n",
       "      <td>1.930659e+09</td>\n",
       "      <td>2020-03-19</td>\n",
       "      <td>2020-04-03</td>\n",
       "      <td>2020-03-19</td>\n",
       "      <td>NAA8</td>\n",
       "      <td>11173.02</td>\n",
       "    </tr>\n",
       "    <tr>\n",
       "      <th>10</th>\n",
       "      <td>U001</td>\n",
       "      <td>0200418007</td>\n",
       "      <td>AM</td>\n",
       "      <td>NaT</td>\n",
       "      <td>2020.0</td>\n",
       "      <td>1.930611e+09</td>\n",
       "      <td>2020-03-11</td>\n",
       "      <td>2020-03-26</td>\n",
       "      <td>2020-03-11</td>\n",
       "      <td>NAA8</td>\n",
       "      <td>3525.59</td>\n",
       "    </tr>\n",
       "    <tr>\n",
       "      <th>14</th>\n",
       "      <td>U001</td>\n",
       "      <td>0200739534</td>\n",
       "      <td>OK systems</td>\n",
       "      <td>NaT</td>\n",
       "      <td>2020.0</td>\n",
       "      <td>1.930788e+09</td>\n",
       "      <td>2020-04-15</td>\n",
       "      <td>2020-04-30</td>\n",
       "      <td>2020-04-15</td>\n",
       "      <td>NAA8</td>\n",
       "      <td>121105.65</td>\n",
       "    </tr>\n",
       "    <tr>\n",
       "      <th>15</th>\n",
       "      <td>U001</td>\n",
       "      <td>0200353024</td>\n",
       "      <td>DECA corporation</td>\n",
       "      <td>NaT</td>\n",
       "      <td>2020.0</td>\n",
       "      <td>1.930817e+09</td>\n",
       "      <td>2020-04-23</td>\n",
       "      <td>2020-04-26</td>\n",
       "      <td>2020-04-16</td>\n",
       "      <td>NAM2</td>\n",
       "      <td>3726.06</td>\n",
       "    </tr>\n",
       "    <tr>\n",
       "      <th>...</th>\n",
       "      <td>...</td>\n",
       "      <td>...</td>\n",
       "      <td>...</td>\n",
       "      <td>...</td>\n",
       "      <td>...</td>\n",
       "      <td>...</td>\n",
       "      <td>...</td>\n",
       "      <td>...</td>\n",
       "      <td>...</td>\n",
       "      <td>...</td>\n",
       "      <td>...</td>\n",
       "    </tr>\n",
       "    <tr>\n",
       "      <th>49975</th>\n",
       "      <td>U001</td>\n",
       "      <td>0200769623</td>\n",
       "      <td>WAL-MAR in</td>\n",
       "      <td>NaT</td>\n",
       "      <td>2020.0</td>\n",
       "      <td>1.930625e+09</td>\n",
       "      <td>2020-03-10</td>\n",
       "      <td>2020-03-25</td>\n",
       "      <td>2020-03-10</td>\n",
       "      <td>NAH4</td>\n",
       "      <td>13114.99</td>\n",
       "    </tr>\n",
       "    <tr>\n",
       "      <th>49980</th>\n",
       "      <td>U001</td>\n",
       "      <td>0200769623</td>\n",
       "      <td>WAL-MAR corporation</td>\n",
       "      <td>NaT</td>\n",
       "      <td>2020.0</td>\n",
       "      <td>1.930851e+09</td>\n",
       "      <td>2020-05-03</td>\n",
       "      <td>2020-05-18</td>\n",
       "      <td>2020-05-03</td>\n",
       "      <td>NAH4</td>\n",
       "      <td>8899.71</td>\n",
       "    </tr>\n",
       "    <tr>\n",
       "      <th>49982</th>\n",
       "      <td>U001</td>\n",
       "      <td>0200148860</td>\n",
       "      <td>DOLLA co</td>\n",
       "      <td>NaT</td>\n",
       "      <td>2020.0</td>\n",
       "      <td>1.930638e+09</td>\n",
       "      <td>2020-03-11</td>\n",
       "      <td>2020-03-26</td>\n",
       "      <td>2020-03-11</td>\n",
       "      <td>NAA8</td>\n",
       "      <td>4967.06</td>\n",
       "    </tr>\n",
       "    <tr>\n",
       "      <th>49992</th>\n",
       "      <td>U001</td>\n",
       "      <td>0200900909</td>\n",
       "      <td>SYSCO co</td>\n",
       "      <td>NaT</td>\n",
       "      <td>2020.0</td>\n",
       "      <td>1.930702e+09</td>\n",
       "      <td>2020-03-25</td>\n",
       "      <td>2020-04-09</td>\n",
       "      <td>2020-03-25</td>\n",
       "      <td>NAA8</td>\n",
       "      <td>1998.64</td>\n",
       "    </tr>\n",
       "    <tr>\n",
       "      <th>49995</th>\n",
       "      <td>U001</td>\n",
       "      <td>0200561861</td>\n",
       "      <td>CO corporation</td>\n",
       "      <td>NaT</td>\n",
       "      <td>2020.0</td>\n",
       "      <td>1.930797e+09</td>\n",
       "      <td>2020-04-21</td>\n",
       "      <td>2020-05-06</td>\n",
       "      <td>2020-04-21</td>\n",
       "      <td>NAA8</td>\n",
       "      <td>3187.86</td>\n",
       "    </tr>\n",
       "  </tbody>\n",
       "</table>\n",
       "<p>9681 rows × 11 columns</p>\n",
       "</div>"
      ],
      "text/plain": [
       "      business_code cust_number        name_customer clear_date  \\\n",
       "3              CA02  0140105686             SYSC llc        NaT   \n",
       "7              U001  0200744019              TARG us        NaT   \n",
       "10             U001  0200418007                  AM         NaT   \n",
       "14             U001  0200739534           OK systems        NaT   \n",
       "15             U001  0200353024     DECA corporation        NaT   \n",
       "...             ...         ...                  ...        ...   \n",
       "49975          U001  0200769623           WAL-MAR in        NaT   \n",
       "49980          U001  0200769623  WAL-MAR corporation        NaT   \n",
       "49982          U001  0200148860             DOLLA co        NaT   \n",
       "49992          U001  0200900909             SYSCO co        NaT   \n",
       "49995          U001  0200561861       CO corporation        NaT   \n",
       "\n",
       "       buisness_year        doc_id posting_date due_in_date  \\\n",
       "3             2020.0  2.960623e+09   2020-03-30  2020-04-10   \n",
       "7             2020.0  1.930659e+09   2020-03-19  2020-04-03   \n",
       "10            2020.0  1.930611e+09   2020-03-11  2020-03-26   \n",
       "14            2020.0  1.930788e+09   2020-04-15  2020-04-30   \n",
       "15            2020.0  1.930817e+09   2020-04-23  2020-04-26   \n",
       "...              ...           ...          ...         ...   \n",
       "49975         2020.0  1.930625e+09   2020-03-10  2020-03-25   \n",
       "49980         2020.0  1.930851e+09   2020-05-03  2020-05-18   \n",
       "49982         2020.0  1.930638e+09   2020-03-11  2020-03-26   \n",
       "49992         2020.0  1.930702e+09   2020-03-25  2020-04-09   \n",
       "49995         2020.0  1.930797e+09   2020-04-21  2020-05-06   \n",
       "\n",
       "      baseline_create_date cust_payment_terms  converted_usd  \n",
       "3               2020-03-31               CA10        2309.79  \n",
       "7               2020-03-19               NAA8       11173.02  \n",
       "10              2020-03-11               NAA8        3525.59  \n",
       "14              2020-04-15               NAA8      121105.65  \n",
       "15              2020-04-16               NAM2        3726.06  \n",
       "...                    ...                ...            ...  \n",
       "49975           2020-03-10               NAH4       13114.99  \n",
       "49980           2020-05-03               NAH4        8899.71  \n",
       "49982           2020-03-11               NAA8        4967.06  \n",
       "49992           2020-03-25               NAA8        1998.64  \n",
       "49995           2020-04-21               NAA8        3187.86  \n",
       "\n",
       "[9681 rows x 11 columns]"
      ]
     },
     "execution_count": 272,
     "metadata": {},
     "output_type": "execute_result"
    }
   ],
   "source": [
    "# display nulldata\n",
    "\n",
    "nulldata"
   ]
  },
  {
   "cell_type": "markdown",
   "metadata": {
    "id": "Vamx5xqtiHCH"
   },
   "source": [
    "### Check for the number of rows and columns in the nulldata"
   ]
  },
  {
   "cell_type": "code",
   "execution_count": 273,
   "metadata": {
    "id": "59de1092"
   },
   "outputs": [
    {
     "name": "stdout",
     "output_type": "stream",
     "text": [
      "(9681, 11)\n"
     ]
    }
   ],
   "source": [
    "# no of rows and columns\n",
    "\n",
    "print(nulldata.shape)"
   ]
  },
  {
   "cell_type": "markdown",
   "metadata": {
    "id": "BxzHNbBjpqXL"
   },
   "source": [
    "### Check the Description and Information of the nulldata "
   ]
  },
  {
   "cell_type": "code",
   "execution_count": 274,
   "metadata": {
    "id": "a6294d29"
   },
   "outputs": [
    {
     "name": "stdout",
     "output_type": "stream",
     "text": [
      "       buisness_year        doc_id  converted_usd\n",
      "count         9681.0  9.681000e+03    9681.000000\n",
      "mean          2020.0  2.006165e+09   32065.681125\n",
      "std              0.0  2.673629e+08   35419.613688\n",
      "min           2020.0  1.930535e+09       0.720000\n",
      "25%           2020.0  1.930658e+09    5607.190000\n",
      "50%           2020.0  1.930731e+09   19024.190000\n",
      "75%           2020.0  1.930818e+09   47752.640000\n",
      "max           2020.0  2.960636e+09  653644.800000\n",
      "\n",
      "\n",
      "<class 'pandas.core.frame.DataFrame'>\n",
      "Int64Index: 9681 entries, 3 to 49995\n",
      "Data columns (total 11 columns):\n",
      " #   Column                Non-Null Count  Dtype         \n",
      "---  ------                --------------  -----         \n",
      " 0   business_code         9681 non-null   object        \n",
      " 1   cust_number           9681 non-null   object        \n",
      " 2   name_customer         9681 non-null   object        \n",
      " 3   clear_date            0 non-null      datetime64[ns]\n",
      " 4   buisness_year         9681 non-null   float64       \n",
      " 5   doc_id                9681 non-null   float64       \n",
      " 6   posting_date          9681 non-null   datetime64[ns]\n",
      " 7   due_in_date           9681 non-null   datetime64[ns]\n",
      " 8   baseline_create_date  9681 non-null   datetime64[ns]\n",
      " 9   cust_payment_terms    9681 non-null   object        \n",
      " 10  converted_usd         9681 non-null   float64       \n",
      "dtypes: datetime64[ns](4), float64(3), object(4)\n",
      "memory usage: 907.6+ KB\n",
      "None\n"
     ]
    }
   ],
   "source": [
    "# decribe and info of null_data dataframe\n",
    "\n",
    "print(nulldata.describe())\n",
    "print(\"\\n\")\n",
    "print(nulldata.info())"
   ]
  },
  {
   "cell_type": "markdown",
   "metadata": {
    "id": "fe860d94"
   },
   "source": [
    "### Storing the Nulldata into a different dataset \n",
    "# for BACKUP"
   ]
  },
  {
   "cell_type": "code",
   "execution_count": 275,
   "metadata": {
    "id": "16352034"
   },
   "outputs": [],
   "source": [
    "# store null_data\n",
    "\n",
    "null_df = nulldata"
   ]
  },
  {
   "cell_type": "markdown",
   "metadata": {
    "id": "00f35b8c"
   },
   "source": [
    "### Call the Label Encoder for Nulldata\n",
    "\n",
    "- Note - you are expected to fit \"business_code\" as it is a categorical variable\n",
    "- Note - No need to change the code"
   ]
  },
  {
   "cell_type": "code",
   "execution_count": 276,
   "metadata": {
    "id": "baf04b17"
   },
   "outputs": [],
   "source": [
    "from sklearn.preprocessing import LabelEncoder\n",
    "business_codern = LabelEncoder()\n",
    "business_codern.fit(nulldata['business_code'])\n",
    "nulldata['business_code_enc'] = business_codern.transform(nulldata['business_code'])"
   ]
  },
  {
   "cell_type": "markdown",
   "metadata": {
    "id": "ZCPBK9karIR-"
   },
   "source": [
    "### Now you need to manually replacing str values with numbers\n",
    "- Note - No need to change the code"
   ]
  },
  {
   "cell_type": "code",
   "execution_count": 277,
   "metadata": {
    "id": "c64924be"
   },
   "outputs": [],
   "source": [
    "nulldata['cust_number'] = nulldata['cust_number'].str.replace('CCCA',\"1\").str.replace('CCU',\"2\").str.replace('CC',\"3\").astype(int)"
   ]
  },
  {
   "cell_type": "markdown",
   "metadata": {
    "id": "9a55f5f6"
   },
   "source": [
    "## You need to extract day, month and year from the \"clear_date\", \"posting_date\", \"due_in_date\", \"baseline_create_date\" columns\n",
    "\n",
    "\n",
    "##### 1.   Extract day from \"clear_date\" column and store it into 'day_of_cleardate'\n",
    "##### 2.   Extract month from \"clear_date\" column and store it into 'month_of_cleardate'\n",
    "##### 3.   Extract year from \"clear_date\" column and store it into 'year_of_cleardate'\n",
    "\n",
    "\n",
    "\n",
    "##### 4.   Extract day from \"posting_date\" column and store it into 'day_of_postingdate'\n",
    "##### 5.   Extract month from \"posting_date\" column and store it into 'month_of_postingdate'\n",
    "##### 6.   Extract year from \"posting_date\" column and store it into 'year_of_postingdate'\n",
    "\n",
    "\n",
    "\n",
    "\n",
    "##### 7.   Extract day from \"due_in_date\" column and store it into 'day_of_due'\n",
    "##### 8.   Extract month from \"due_in_date\" column and store it into 'month_of_due'\n",
    "##### 9.   Extract year from \"due_in_date\" column and store it into 'year_of_due'\n",
    "\n",
    "\n",
    "\n",
    "\n",
    "##### 10.   Extract day from \"baseline_create_date\" column and store it into 'day_of_createdate'\n",
    "##### 11.   Extract month from \"baseline_create_date\" column and store it into 'month_of_createdate'\n",
    "##### 12.   Extract year from \"baseline_create_date\" column and store it into 'year_of_createdate'\n",
    "\n",
    "\n",
    "\n",
    "\n",
    "- Note - You are supposed To use - \n",
    "\n",
    "*   dt.day\n",
    "*   dt.month\n",
    "*   dt.year"
   ]
  },
  {
   "cell_type": "code",
   "execution_count": 278,
   "metadata": {
    "id": "4166fbe4"
   },
   "outputs": [],
   "source": [
    "nulldata['day_of_due'] = nulldata['due_in_date'].dt.day\n",
    "nulldata['month_of_due'] = nulldata['due_in_date'].dt.month\n",
    "nulldata['year_of_due'] = nulldata['due_in_date'].dt.year\n",
    "\n",
    "nulldata['day_of_createdate'] = nulldata['baseline_create_date'].dt.day\n",
    "nulldata['month_of_createdate'] = nulldata['baseline_create_date'].dt.month\n",
    "nulldata['year_of_createdate'] = nulldata['baseline_create_date'].dt.year\n",
    "\n",
    "nulldata['day_of_postingdate'] = nulldata['posting_date'].dt.day\n",
    "nulldata['month_of_postingdate'] = nulldata['posting_date'].dt.month\n",
    "nulldata['year_of_postingdate'] = nulldata['posting_date'].dt.year\n",
    "\n",
    "nulldata['day_of_cleardate'] = nulldata['clear_date'].dt.day\n",
    "nulldata['month_of_cleardate'] = nulldata['clear_date'].dt.month\n",
    "nulldata['year_of_cleardate'] = nulldata['clear_date'].dt.year"
   ]
  },
  {
   "cell_type": "markdown",
   "metadata": {
    "id": "QeHWJYrAvOC6"
   },
   "source": [
    "### Use Label Encoder1 of all the following columns - \n",
    "- 'cust_payment_terms' and store into 'cust_payment_terms_enc'\n",
    "- 'business_code' and store into 'business_code_enc'\n",
    "- 'name_customer' and store into 'name_customer_enc'\n",
    "\n",
    "Note - No need to change the code"
   ]
  },
  {
   "cell_type": "code",
   "execution_count": 279,
   "metadata": {
    "id": "bac330e2"
   },
   "outputs": [],
   "source": [
    "nulldata['cust_payment_terms_enc']=label_encoder1.transform(nulldata['cust_payment_terms'])\n",
    "nulldata['business_code_enc']=label_encoder1.transform(nulldata['business_code'])\n",
    "nulldata['name_customer_enc']=label_encoder.transform(nulldata['name_customer'])"
   ]
  },
  {
   "cell_type": "markdown",
   "metadata": {
    "id": "zD9I-XqQwC28"
   },
   "source": [
    "### Check for the datatypes of all the columns of Nulldata"
   ]
  },
  {
   "cell_type": "code",
   "execution_count": 280,
   "metadata": {
    "id": "d4f72517"
   },
   "outputs": [
    {
     "name": "stdout",
     "output_type": "stream",
     "text": [
      "business_code                     object\n",
      "cust_number                        int32\n",
      "name_customer                     object\n",
      "clear_date                datetime64[ns]\n",
      "buisness_year                    float64\n",
      "doc_id                           float64\n",
      "posting_date              datetime64[ns]\n",
      "due_in_date               datetime64[ns]\n",
      "baseline_create_date      datetime64[ns]\n",
      "cust_payment_terms                object\n",
      "converted_usd                    float64\n",
      "business_code_enc                  int64\n",
      "day_of_due                         int64\n",
      "month_of_due                       int64\n",
      "year_of_due                        int64\n",
      "day_of_createdate                  int64\n",
      "month_of_createdate                int64\n",
      "year_of_createdate                 int64\n",
      "day_of_postingdate                 int64\n",
      "month_of_postingdate               int64\n",
      "year_of_postingdate                int64\n",
      "day_of_cleardate                 float64\n",
      "month_of_cleardate               float64\n",
      "year_of_cleardate                float64\n",
      "cust_payment_terms_enc             int64\n",
      "name_customer_enc                  int64\n",
      "dtype: object\n"
     ]
    }
   ],
   "source": [
    "# datatypes\n",
    "\n",
    "print(nulldata.dtypes)"
   ]
  },
  {
   "cell_type": "markdown",
   "metadata": {
    "id": "17cd5452"
   },
   "source": [
    "### Now you need to drop all the unnecessary columns - \n",
    "\n",
    "- 'business_code'\n",
    "- \"baseline_create_date\"\n",
    "- \"due_in_date\"\n",
    "- \"posting_date\"\n",
    "- \"name_customer\"\n",
    "- \"clear_date\"\n",
    "- \"cust_payment_terms\"\n",
    "- 'day_of_cleardate'\n",
    "- \"month_of_cleardate\"\n",
    "- \"year_of_cleardate\""
   ]
  },
  {
   "cell_type": "code",
   "execution_count": 281,
   "metadata": {
    "id": "d7c82076"
   },
   "outputs": [],
   "source": [
    "cols = [\"business_code\", \"baseline_create_date\", \"due_in_date\", \"posting_date\", \"name_customer\", \"clear_date\", \"cust_payment_terms\", \"day_of_cleardate\", \"month_of_cleardate\", \"year_of_cleardate\"]\n",
    "nulldata.drop(cols,inplace=True,axis=1)"
   ]
  },
  {
   "cell_type": "markdown",
   "metadata": {
    "id": "Q_NCr9IPweVq"
   },
   "source": [
    "### Check the information of the \"nulldata\" dataframe"
   ]
  },
  {
   "cell_type": "code",
   "execution_count": 282,
   "metadata": {
    "id": "4e7ffee0"
   },
   "outputs": [
    {
     "name": "stdout",
     "output_type": "stream",
     "text": [
      "<class 'pandas.core.frame.DataFrame'>\n",
      "Int64Index: 9681 entries, 3 to 49995\n",
      "Data columns (total 16 columns):\n",
      " #   Column                  Non-Null Count  Dtype  \n",
      "---  ------                  --------------  -----  \n",
      " 0   cust_number             9681 non-null   int32  \n",
      " 1   buisness_year           9681 non-null   float64\n",
      " 2   doc_id                  9681 non-null   float64\n",
      " 3   converted_usd           9681 non-null   float64\n",
      " 4   business_code_enc       9681 non-null   int64  \n",
      " 5   day_of_due              9681 non-null   int64  \n",
      " 6   month_of_due            9681 non-null   int64  \n",
      " 7   year_of_due             9681 non-null   int64  \n",
      " 8   day_of_createdate       9681 non-null   int64  \n",
      " 9   month_of_createdate     9681 non-null   int64  \n",
      " 10  year_of_createdate      9681 non-null   int64  \n",
      " 11  day_of_postingdate      9681 non-null   int64  \n",
      " 12  month_of_postingdate    9681 non-null   int64  \n",
      " 13  year_of_postingdate     9681 non-null   int64  \n",
      " 14  cust_payment_terms_enc  9681 non-null   int64  \n",
      " 15  name_customer_enc       9681 non-null   int64  \n",
      "dtypes: float64(3), int32(1), int64(12)\n",
      "memory usage: 1.2 MB\n"
     ]
    }
   ],
   "source": [
    "# info\n",
    "\n",
    "nulldata.info()"
   ]
  },
  {
   "cell_type": "markdown",
   "metadata": {
    "id": "-XvjhWqmwi-C"
   },
   "source": [
    "### Compare \"nulldata\" with the \"X_test\" dataframe \n",
    "\n",
    "- use info() method"
   ]
  },
  {
   "cell_type": "code",
   "execution_count": 283,
   "metadata": {
    "id": "02f4b62d"
   },
   "outputs": [
    {
     "name": "stdout",
     "output_type": "stream",
     "text": [
      "<class 'pandas.core.frame.DataFrame'>\n",
      "Int64Index: 9681 entries, 3 to 49995\n",
      "Data columns (total 16 columns):\n",
      " #   Column                  Non-Null Count  Dtype  \n",
      "---  ------                  --------------  -----  \n",
      " 0   cust_number             9681 non-null   int32  \n",
      " 1   buisness_year           9681 non-null   float64\n",
      " 2   doc_id                  9681 non-null   float64\n",
      " 3   converted_usd           9681 non-null   float64\n",
      " 4   business_code_enc       9681 non-null   int64  \n",
      " 5   day_of_due              9681 non-null   int64  \n",
      " 6   month_of_due            9681 non-null   int64  \n",
      " 7   year_of_due             9681 non-null   int64  \n",
      " 8   day_of_createdate       9681 non-null   int64  \n",
      " 9   month_of_createdate     9681 non-null   int64  \n",
      " 10  year_of_createdate      9681 non-null   int64  \n",
      " 11  day_of_postingdate      9681 non-null   int64  \n",
      " 12  month_of_postingdate    9681 non-null   int64  \n",
      " 13  year_of_postingdate     9681 non-null   int64  \n",
      " 14  cust_payment_terms_enc  9681 non-null   int64  \n",
      " 15  name_customer_enc       9681 non-null   int64  \n",
      "dtypes: float64(3), int32(1), int64(12)\n",
      "memory usage: 1.2 MB\n",
      "None\n",
      "\n",
      "\n",
      "<class 'pandas.core.frame.DataFrame'>\n",
      "Int64Index: 7832 entries, 39759 to 49999\n",
      "Data columns (total 16 columns):\n",
      " #   Column                  Non-Null Count  Dtype  \n",
      "---  ------                  --------------  -----  \n",
      " 0   cust_number             7832 non-null   int32  \n",
      " 1   buisness_year           7832 non-null   float64\n",
      " 2   doc_id                  7832 non-null   float64\n",
      " 3   converted_usd           7832 non-null   float64\n",
      " 4   business_code_enc       7832 non-null   int32  \n",
      " 5   name_customer_enc       7832 non-null   int64  \n",
      " 6   cust_payment_terms_enc  7832 non-null   int64  \n",
      " 7   day_of_postingdate      7832 non-null   int64  \n",
      " 8   month_of_postingdate    7832 non-null   int64  \n",
      " 9   year_of_postingdate     7832 non-null   int64  \n",
      " 10  day_of_createdate       7832 non-null   int64  \n",
      " 11  month_of_createdate     7832 non-null   int64  \n",
      " 12  year_of_createdate      7832 non-null   int64  \n",
      " 13  day_of_due              7832 non-null   int64  \n",
      " 14  month_of_due            7832 non-null   int64  \n",
      " 15  year_of_due             7832 non-null   int64  \n",
      "dtypes: float64(3), int32(2), int64(11)\n",
      "memory usage: 979.0 KB\n",
      "None\n"
     ]
    }
   ],
   "source": [
    "# compare\n",
    "\n",
    "print(nulldata.info())\n",
    "print(\"\\n\")\n",
    "print(X_test.info())"
   ]
  },
  {
   "cell_type": "markdown",
   "metadata": {
    "id": "Us3ey-9zwqjq"
   },
   "source": [
    "### You must have noticed that there is a mismatch in the column sequence while compairing the dataframes\n",
    "\n",
    "- Note - In order to fed into the machine learning model, you need to edit the sequence of \"nulldata\", similar to the \"X_test\" dataframe"
   ]
  },
  {
   "cell_type": "markdown",
   "metadata": {
    "id": "vduVNt1kxPW-"
   },
   "source": [
    "- Display all the columns of the X_test dataframe \n",
    "- Display all the columns of the Nulldata dataframe \n",
    "- Store the Nulldata with new sequence into a new dataframe \n",
    "\n",
    "\n",
    "- Note - The code is given below, no need to change "
   ]
  },
  {
   "cell_type": "code",
   "execution_count": 284,
   "metadata": {
    "id": "6729353e"
   },
   "outputs": [
    {
     "data": {
      "text/plain": [
       "Index(['cust_number', 'buisness_year', 'doc_id', 'converted_usd',\n",
       "       'business_code_enc', 'name_customer_enc', 'cust_payment_terms_enc',\n",
       "       'day_of_postingdate', 'month_of_postingdate', 'year_of_postingdate',\n",
       "       'day_of_createdate', 'month_of_createdate', 'year_of_createdate',\n",
       "       'day_of_due', 'month_of_due', 'year_of_due'],\n",
       "      dtype='object')"
      ]
     },
     "execution_count": 284,
     "metadata": {},
     "output_type": "execute_result"
    }
   ],
   "source": [
    "X_test.columns"
   ]
  },
  {
   "cell_type": "code",
   "execution_count": 285,
   "metadata": {
    "id": "47bd9c5e"
   },
   "outputs": [
    {
     "data": {
      "text/plain": [
       "Index(['cust_number', 'buisness_year', 'doc_id', 'converted_usd',\n",
       "       'business_code_enc', 'day_of_due', 'month_of_due', 'year_of_due',\n",
       "       'day_of_createdate', 'month_of_createdate', 'year_of_createdate',\n",
       "       'day_of_postingdate', 'month_of_postingdate', 'year_of_postingdate',\n",
       "       'cust_payment_terms_enc', 'name_customer_enc'],\n",
       "      dtype='object')"
      ]
     },
     "execution_count": 285,
     "metadata": {},
     "output_type": "execute_result"
    }
   ],
   "source": [
    "nulldata.columns"
   ]
  },
  {
   "cell_type": "code",
   "execution_count": 286,
   "metadata": {
    "id": "aa5a2103"
   },
   "outputs": [],
   "source": [
    "nulldata2=nulldata[['cust_number', 'buisness_year', 'doc_id', 'converted_usd',\n",
    "       'business_code_enc', 'name_customer_enc', 'cust_payment_terms_enc',\n",
    "       'day_of_postingdate', 'month_of_postingdate', 'year_of_postingdate',\n",
    "       'day_of_createdate', 'month_of_createdate', 'year_of_createdate',\n",
    "       'day_of_due', 'month_of_due', 'year_of_due']]"
   ]
  },
  {
   "cell_type": "markdown",
   "metadata": {
    "id": "1dc8b021"
   },
   "source": [
    "### Display the Final Dataset"
   ]
  },
  {
   "cell_type": "code",
   "execution_count": 287,
   "metadata": {
    "id": "2f39785a"
   },
   "outputs": [
    {
     "name": "stdout",
     "output_type": "stream",
     "text": [
      "<class 'pandas.core.frame.DataFrame'>\n",
      "Int64Index: 9681 entries, 3 to 49995\n",
      "Data columns (total 16 columns):\n",
      " #   Column                  Non-Null Count  Dtype  \n",
      "---  ------                  --------------  -----  \n",
      " 0   cust_number             9681 non-null   int32  \n",
      " 1   buisness_year           9681 non-null   float64\n",
      " 2   doc_id                  9681 non-null   float64\n",
      " 3   converted_usd           9681 non-null   float64\n",
      " 4   business_code_enc       9681 non-null   int64  \n",
      " 5   name_customer_enc       9681 non-null   int64  \n",
      " 6   cust_payment_terms_enc  9681 non-null   int64  \n",
      " 7   day_of_postingdate      9681 non-null   int64  \n",
      " 8   month_of_postingdate    9681 non-null   int64  \n",
      " 9   year_of_postingdate     9681 non-null   int64  \n",
      " 10  day_of_createdate       9681 non-null   int64  \n",
      " 11  month_of_createdate     9681 non-null   int64  \n",
      " 12  year_of_createdate      9681 non-null   int64  \n",
      " 13  day_of_due              9681 non-null   int64  \n",
      " 14  month_of_due            9681 non-null   int64  \n",
      " 15  year_of_due             9681 non-null   int64  \n",
      "dtypes: float64(3), int32(1), int64(12)\n",
      "memory usage: 1.2 MB\n",
      "None\n",
      "\n",
      "\n",
      "<class 'pandas.core.frame.DataFrame'>\n",
      "Int64Index: 7832 entries, 39759 to 49999\n",
      "Data columns (total 16 columns):\n",
      " #   Column                  Non-Null Count  Dtype  \n",
      "---  ------                  --------------  -----  \n",
      " 0   cust_number             7832 non-null   int32  \n",
      " 1   buisness_year           7832 non-null   float64\n",
      " 2   doc_id                  7832 non-null   float64\n",
      " 3   converted_usd           7832 non-null   float64\n",
      " 4   business_code_enc       7832 non-null   int32  \n",
      " 5   name_customer_enc       7832 non-null   int64  \n",
      " 6   cust_payment_terms_enc  7832 non-null   int64  \n",
      " 7   day_of_postingdate      7832 non-null   int64  \n",
      " 8   month_of_postingdate    7832 non-null   int64  \n",
      " 9   year_of_postingdate     7832 non-null   int64  \n",
      " 10  day_of_createdate       7832 non-null   int64  \n",
      " 11  month_of_createdate     7832 non-null   int64  \n",
      " 12  year_of_createdate      7832 non-null   int64  \n",
      " 13  day_of_due              7832 non-null   int64  \n",
      " 14  month_of_due            7832 non-null   int64  \n",
      " 15  year_of_due             7832 non-null   int64  \n",
      "dtypes: float64(3), int32(2), int64(11)\n",
      "memory usage: 979.0 KB\n",
      "None\n"
     ]
    }
   ],
   "source": [
    "# compare\n",
    "\n",
    "print(nulldata2.info())\n",
    "print(\"\\n\")\n",
    "print(X_test.info())"
   ]
  },
  {
   "cell_type": "markdown",
   "metadata": {
    "id": "27b88c5a"
   },
   "source": [
    "### Now you can pass this dataset into you final model and store it into \"final_result\""
   ]
  },
  {
   "cell_type": "code",
   "execution_count": 288,
   "metadata": {
    "id": "9e0b6388"
   },
   "outputs": [],
   "source": [
    "# nulldata2 to feed to model\n",
    "\n",
    "final_result = regressorfinal.predict(nulldata2)"
   ]
  },
  {
   "cell_type": "markdown",
   "metadata": {
    "id": "9653d3c6"
   },
   "source": [
    "### you need to make the final_result as dataframe, with a column name \"avg_delay\"\n",
    "\n",
    "- Note - No need to change the code"
   ]
  },
  {
   "cell_type": "code",
   "execution_count": 289,
   "metadata": {
    "id": "25ef814d"
   },
   "outputs": [],
   "source": [
    "final_result = pd.Series(final_result,name='avg_delay')"
   ]
  },
  {
   "cell_type": "markdown",
   "metadata": {
    "id": "C86staIhyf2C"
   },
   "source": [
    "### Display the \"avg_delay\" column"
   ]
  },
  {
   "cell_type": "code",
   "execution_count": 290,
   "metadata": {
    "id": "4fd46406"
   },
   "outputs": [
    {
     "data": {
      "text/plain": [
       "0       1.057810e+06\n",
       "1       3.656640e+05\n",
       "2       1.405594e+05\n",
       "3       3.162862e+05\n",
       "4      -3.513269e+05\n",
       "            ...     \n",
       "9676    4.311172e+05\n",
       "9677    6.232464e+05\n",
       "9678   -4.665770e+05\n",
       "9679    2.482762e+05\n",
       "9680   -8.490655e+04\n",
       "Name: avg_delay, Length: 9681, dtype: float32"
      ]
     },
     "execution_count": 290,
     "metadata": {},
     "output_type": "execute_result"
    }
   ],
   "source": [
    "# display avg_delay\n",
    "\n",
    "final_result"
   ]
  },
  {
   "cell_type": "markdown",
   "metadata": {
    "id": "44f71a7e"
   },
   "source": [
    "### Now you need to merge this final_result dataframe with the BACKUP of \"nulldata\" Dataframe which we have created in earlier steps"
   ]
  },
  {
   "cell_type": "code",
   "execution_count": 291,
   "metadata": {
    "id": "e8f0969d"
   },
   "outputs": [],
   "source": [
    "# backup dataframe i.e. null_df\n",
    "\n",
    "null_df.reset_index(drop=True,inplace=True)\n",
    "Final = null_df.merge(final_result , on = nulldata.index )"
   ]
  },
  {
   "cell_type": "markdown",
   "metadata": {
    "id": "G-hLtxXgy4GZ"
   },
   "source": [
    "### Display the \"Final\" dataframe "
   ]
  },
  {
   "cell_type": "code",
   "execution_count": 292,
   "metadata": {
    "id": "71fb4dc0"
   },
   "outputs": [
    {
     "data": {
      "text/html": [
       "<div>\n",
       "<style scoped>\n",
       "    .dataframe tbody tr th:only-of-type {\n",
       "        vertical-align: middle;\n",
       "    }\n",
       "\n",
       "    .dataframe tbody tr th {\n",
       "        vertical-align: top;\n",
       "    }\n",
       "\n",
       "    .dataframe thead th {\n",
       "        text-align: right;\n",
       "    }\n",
       "</style>\n",
       "<table border=\"1\" class=\"dataframe\">\n",
       "  <thead>\n",
       "    <tr style=\"text-align: right;\">\n",
       "      <th></th>\n",
       "      <th>key_0</th>\n",
       "      <th>cust_number</th>\n",
       "      <th>buisness_year</th>\n",
       "      <th>doc_id</th>\n",
       "      <th>converted_usd</th>\n",
       "      <th>business_code_enc</th>\n",
       "      <th>day_of_due</th>\n",
       "      <th>month_of_due</th>\n",
       "      <th>year_of_due</th>\n",
       "      <th>day_of_createdate</th>\n",
       "      <th>month_of_createdate</th>\n",
       "      <th>year_of_createdate</th>\n",
       "      <th>day_of_postingdate</th>\n",
       "      <th>month_of_postingdate</th>\n",
       "      <th>year_of_postingdate</th>\n",
       "      <th>cust_payment_terms_enc</th>\n",
       "      <th>name_customer_enc</th>\n",
       "      <th>avg_delay</th>\n",
       "    </tr>\n",
       "  </thead>\n",
       "  <tbody>\n",
       "    <tr>\n",
       "      <th>0</th>\n",
       "      <td>0</td>\n",
       "      <td>140105686</td>\n",
       "      <td>2020.0</td>\n",
       "      <td>2.960623e+09</td>\n",
       "      <td>2309.79</td>\n",
       "      <td>64</td>\n",
       "      <td>10</td>\n",
       "      <td>4</td>\n",
       "      <td>2020</td>\n",
       "      <td>31</td>\n",
       "      <td>3</td>\n",
       "      <td>2020</td>\n",
       "      <td>30</td>\n",
       "      <td>3</td>\n",
       "      <td>2020</td>\n",
       "      <td>5</td>\n",
       "      <td>2712</td>\n",
       "      <td>1.057810e+06</td>\n",
       "    </tr>\n",
       "    <tr>\n",
       "      <th>1</th>\n",
       "      <td>1</td>\n",
       "      <td>200744019</td>\n",
       "      <td>2020.0</td>\n",
       "      <td>1.930659e+09</td>\n",
       "      <td>11173.02</td>\n",
       "      <td>64</td>\n",
       "      <td>3</td>\n",
       "      <td>4</td>\n",
       "      <td>2020</td>\n",
       "      <td>19</td>\n",
       "      <td>3</td>\n",
       "      <td>2020</td>\n",
       "      <td>19</td>\n",
       "      <td>3</td>\n",
       "      <td>2020</td>\n",
       "      <td>20</td>\n",
       "      <td>2795</td>\n",
       "      <td>3.656640e+05</td>\n",
       "    </tr>\n",
       "    <tr>\n",
       "      <th>2</th>\n",
       "      <td>2</td>\n",
       "      <td>200418007</td>\n",
       "      <td>2020.0</td>\n",
       "      <td>1.930611e+09</td>\n",
       "      <td>3525.59</td>\n",
       "      <td>64</td>\n",
       "      <td>26</td>\n",
       "      <td>3</td>\n",
       "      <td>2020</td>\n",
       "      <td>11</td>\n",
       "      <td>3</td>\n",
       "      <td>2020</td>\n",
       "      <td>11</td>\n",
       "      <td>3</td>\n",
       "      <td>2020</td>\n",
       "      <td>20</td>\n",
       "      <td>93</td>\n",
       "      <td>1.405594e+05</td>\n",
       "    </tr>\n",
       "    <tr>\n",
       "      <th>3</th>\n",
       "      <td>3</td>\n",
       "      <td>200739534</td>\n",
       "      <td>2020.0</td>\n",
       "      <td>1.930788e+09</td>\n",
       "      <td>121105.65</td>\n",
       "      <td>64</td>\n",
       "      <td>30</td>\n",
       "      <td>4</td>\n",
       "      <td>2020</td>\n",
       "      <td>15</td>\n",
       "      <td>4</td>\n",
       "      <td>2020</td>\n",
       "      <td>15</td>\n",
       "      <td>4</td>\n",
       "      <td>2020</td>\n",
       "      <td>20</td>\n",
       "      <td>2021</td>\n",
       "      <td>3.162862e+05</td>\n",
       "    </tr>\n",
       "    <tr>\n",
       "      <th>4</th>\n",
       "      <td>4</td>\n",
       "      <td>200353024</td>\n",
       "      <td>2020.0</td>\n",
       "      <td>1.930817e+09</td>\n",
       "      <td>3726.06</td>\n",
       "      <td>64</td>\n",
       "      <td>26</td>\n",
       "      <td>4</td>\n",
       "      <td>2020</td>\n",
       "      <td>16</td>\n",
       "      <td>4</td>\n",
       "      <td>2020</td>\n",
       "      <td>23</td>\n",
       "      <td>4</td>\n",
       "      <td>2020</td>\n",
       "      <td>34</td>\n",
       "      <td>722</td>\n",
       "      <td>-3.513269e+05</td>\n",
       "    </tr>\n",
       "    <tr>\n",
       "      <th>...</th>\n",
       "      <td>...</td>\n",
       "      <td>...</td>\n",
       "      <td>...</td>\n",
       "      <td>...</td>\n",
       "      <td>...</td>\n",
       "      <td>...</td>\n",
       "      <td>...</td>\n",
       "      <td>...</td>\n",
       "      <td>...</td>\n",
       "      <td>...</td>\n",
       "      <td>...</td>\n",
       "      <td>...</td>\n",
       "      <td>...</td>\n",
       "      <td>...</td>\n",
       "      <td>...</td>\n",
       "      <td>...</td>\n",
       "      <td>...</td>\n",
       "      <td>...</td>\n",
       "    </tr>\n",
       "    <tr>\n",
       "      <th>9676</th>\n",
       "      <td>9676</td>\n",
       "      <td>200769623</td>\n",
       "      <td>2020.0</td>\n",
       "      <td>1.930625e+09</td>\n",
       "      <td>13114.99</td>\n",
       "      <td>64</td>\n",
       "      <td>25</td>\n",
       "      <td>3</td>\n",
       "      <td>2020</td>\n",
       "      <td>10</td>\n",
       "      <td>3</td>\n",
       "      <td>2020</td>\n",
       "      <td>10</td>\n",
       "      <td>3</td>\n",
       "      <td>2020</td>\n",
       "      <td>32</td>\n",
       "      <td>2987</td>\n",
       "      <td>4.311172e+05</td>\n",
       "    </tr>\n",
       "    <tr>\n",
       "      <th>9677</th>\n",
       "      <td>9677</td>\n",
       "      <td>200769623</td>\n",
       "      <td>2020.0</td>\n",
       "      <td>1.930851e+09</td>\n",
       "      <td>8899.71</td>\n",
       "      <td>64</td>\n",
       "      <td>18</td>\n",
       "      <td>5</td>\n",
       "      <td>2020</td>\n",
       "      <td>3</td>\n",
       "      <td>5</td>\n",
       "      <td>2020</td>\n",
       "      <td>3</td>\n",
       "      <td>5</td>\n",
       "      <td>2020</td>\n",
       "      <td>32</td>\n",
       "      <td>2985</td>\n",
       "      <td>6.232464e+05</td>\n",
       "    </tr>\n",
       "    <tr>\n",
       "      <th>9678</th>\n",
       "      <td>9678</td>\n",
       "      <td>200148860</td>\n",
       "      <td>2020.0</td>\n",
       "      <td>1.930638e+09</td>\n",
       "      <td>4967.06</td>\n",
       "      <td>64</td>\n",
       "      <td>26</td>\n",
       "      <td>3</td>\n",
       "      <td>2020</td>\n",
       "      <td>11</td>\n",
       "      <td>3</td>\n",
       "      <td>2020</td>\n",
       "      <td>11</td>\n",
       "      <td>3</td>\n",
       "      <td>2020</td>\n",
       "      <td>20</td>\n",
       "      <td>796</td>\n",
       "      <td>-4.665770e+05</td>\n",
       "    </tr>\n",
       "    <tr>\n",
       "      <th>9679</th>\n",
       "      <td>9679</td>\n",
       "      <td>200900909</td>\n",
       "      <td>2020.0</td>\n",
       "      <td>1.930702e+09</td>\n",
       "      <td>1998.64</td>\n",
       "      <td>64</td>\n",
       "      <td>9</td>\n",
       "      <td>4</td>\n",
       "      <td>2020</td>\n",
       "      <td>25</td>\n",
       "      <td>3</td>\n",
       "      <td>2020</td>\n",
       "      <td>25</td>\n",
       "      <td>3</td>\n",
       "      <td>2020</td>\n",
       "      <td>20</td>\n",
       "      <td>2759</td>\n",
       "      <td>2.482762e+05</td>\n",
       "    </tr>\n",
       "    <tr>\n",
       "      <th>9680</th>\n",
       "      <td>9680</td>\n",
       "      <td>200561861</td>\n",
       "      <td>2020.0</td>\n",
       "      <td>1.930797e+09</td>\n",
       "      <td>3187.86</td>\n",
       "      <td>64</td>\n",
       "      <td>6</td>\n",
       "      <td>5</td>\n",
       "      <td>2020</td>\n",
       "      <td>21</td>\n",
       "      <td>4</td>\n",
       "      <td>2020</td>\n",
       "      <td>21</td>\n",
       "      <td>4</td>\n",
       "      <td>2020</td>\n",
       "      <td>20</td>\n",
       "      <td>547</td>\n",
       "      <td>-8.490655e+04</td>\n",
       "    </tr>\n",
       "  </tbody>\n",
       "</table>\n",
       "<p>9681 rows × 18 columns</p>\n",
       "</div>"
      ],
      "text/plain": [
       "      key_0  cust_number  buisness_year        doc_id  converted_usd  \\\n",
       "0         0    140105686         2020.0  2.960623e+09        2309.79   \n",
       "1         1    200744019         2020.0  1.930659e+09       11173.02   \n",
       "2         2    200418007         2020.0  1.930611e+09        3525.59   \n",
       "3         3    200739534         2020.0  1.930788e+09      121105.65   \n",
       "4         4    200353024         2020.0  1.930817e+09        3726.06   \n",
       "...     ...          ...            ...           ...            ...   \n",
       "9676   9676    200769623         2020.0  1.930625e+09       13114.99   \n",
       "9677   9677    200769623         2020.0  1.930851e+09        8899.71   \n",
       "9678   9678    200148860         2020.0  1.930638e+09        4967.06   \n",
       "9679   9679    200900909         2020.0  1.930702e+09        1998.64   \n",
       "9680   9680    200561861         2020.0  1.930797e+09        3187.86   \n",
       "\n",
       "      business_code_enc  day_of_due  month_of_due  year_of_due  \\\n",
       "0                    64          10             4         2020   \n",
       "1                    64           3             4         2020   \n",
       "2                    64          26             3         2020   \n",
       "3                    64          30             4         2020   \n",
       "4                    64          26             4         2020   \n",
       "...                 ...         ...           ...          ...   \n",
       "9676                 64          25             3         2020   \n",
       "9677                 64          18             5         2020   \n",
       "9678                 64          26             3         2020   \n",
       "9679                 64           9             4         2020   \n",
       "9680                 64           6             5         2020   \n",
       "\n",
       "      day_of_createdate  month_of_createdate  year_of_createdate  \\\n",
       "0                    31                    3                2020   \n",
       "1                    19                    3                2020   \n",
       "2                    11                    3                2020   \n",
       "3                    15                    4                2020   \n",
       "4                    16                    4                2020   \n",
       "...                 ...                  ...                 ...   \n",
       "9676                 10                    3                2020   \n",
       "9677                  3                    5                2020   \n",
       "9678                 11                    3                2020   \n",
       "9679                 25                    3                2020   \n",
       "9680                 21                    4                2020   \n",
       "\n",
       "      day_of_postingdate  month_of_postingdate  year_of_postingdate  \\\n",
       "0                     30                     3                 2020   \n",
       "1                     19                     3                 2020   \n",
       "2                     11                     3                 2020   \n",
       "3                     15                     4                 2020   \n",
       "4                     23                     4                 2020   \n",
       "...                  ...                   ...                  ...   \n",
       "9676                  10                     3                 2020   \n",
       "9677                   3                     5                 2020   \n",
       "9678                  11                     3                 2020   \n",
       "9679                  25                     3                 2020   \n",
       "9680                  21                     4                 2020   \n",
       "\n",
       "      cust_payment_terms_enc  name_customer_enc     avg_delay  \n",
       "0                          5               2712  1.057810e+06  \n",
       "1                         20               2795  3.656640e+05  \n",
       "2                         20                 93  1.405594e+05  \n",
       "3                         20               2021  3.162862e+05  \n",
       "4                         34                722 -3.513269e+05  \n",
       "...                      ...                ...           ...  \n",
       "9676                      32               2987  4.311172e+05  \n",
       "9677                      32               2985  6.232464e+05  \n",
       "9678                      20                796 -4.665770e+05  \n",
       "9679                      20               2759  2.482762e+05  \n",
       "9680                      20                547 -8.490655e+04  \n",
       "\n",
       "[9681 rows x 18 columns]"
      ]
     },
     "execution_count": 292,
     "metadata": {},
     "output_type": "execute_result"
    }
   ],
   "source": [
    "# display\n",
    "\n",
    "Final"
   ]
  },
  {
   "cell_type": "markdown",
   "metadata": {
    "id": "4sc27Uz-y-0O"
   },
   "source": [
    "### Check for the Number of Rows and Columns in your \"Final\" dataframe "
   ]
  },
  {
   "cell_type": "code",
   "execution_count": 293,
   "metadata": {
    "id": "5iUXOIhzy_HR"
   },
   "outputs": [
    {
     "data": {
      "text/plain": [
       "(9681, 18)"
      ]
     },
     "execution_count": 293,
     "metadata": {},
     "output_type": "execute_result"
    }
   ],
   "source": [
    "# shape\n",
    "\n",
    "Final.shape"
   ]
  },
  {
   "cell_type": "markdown",
   "metadata": {
    "id": "48886d2c"
   },
   "source": [
    "### Now, you need to do convert the below fields back into date and time format \n",
    "\n",
    "- Convert \"due_in_date\" into datetime format\n",
    "- Convert \"avg_delay\" into datetime format\n",
    "- Create a new column \"clear_date\" and store the sum of \"due_in_date\" and \"avg_delay\"\n",
    "- display the new \"clear_date\" column\n",
    "- Note - Code is given below, no need to change "
   ]
  },
  {
   "cell_type": "code",
   "execution_count": 294,
   "metadata": {
    "id": "243abc2d"
   },
   "outputs": [
    {
     "name": "stdout",
     "output_type": "stream",
     "text": [
      "0       2020-04-10\n",
      "1       2020-04-03\n",
      "2       2020-03-26\n",
      "3       2020-04-30\n",
      "4       2020-04-26\n",
      "           ...    \n",
      "9676    2020-03-25\n",
      "9677    2020-05-18\n",
      "9678    2020-03-26\n",
      "9679    2020-04-09\n",
      "9680    2020-05-06\n",
      "Name: due_in_date, Length: 9681, dtype: object\n"
     ]
    }
   ],
   "source": [
    "import datetime\n",
    "\n",
    "final_combine_date = []\n",
    "for i in range(Final.shape[0]):\n",
    "    combine_date = datetime.datetime(int(Final.loc[i][\"year_of_due\"]), int(Final.loc[i][\"month_of_due\"]), int(Final.loc[i][\"day_of_due\"]))\n",
    "    final_combine_date.append(combine_date.date())\n",
    "Final[\"due_in_date\"] = final_combine_date\n",
    "\n",
    "print(Final[\"due_in_date\"])\n",
    "Final['clear_date'] = pd.to_datetime(Final['due_in_date']) + pd.to_timedelta(Final['avg_delay'], unit='s')"
   ]
  },
  {
   "cell_type": "markdown",
   "metadata": {
    "id": "9QcX_fAjIkYR"
   },
   "source": [
    "### Display the \"clear_date\" column"
   ]
  },
  {
   "cell_type": "code",
   "execution_count": 295,
   "metadata": {
    "id": "740e1486"
   },
   "outputs": [
    {
     "name": "stdout",
     "output_type": "stream",
     "text": [
      "0      2020-04-22 05:50:09.625000\n",
      "1      2020-04-07 05:34:23.968750\n",
      "2      2020-03-27 15:02:39.437500\n",
      "3      2020-05-03 15:51:26.187500\n",
      "4      2020-04-21 22:24:33.062500\n",
      "                  ...            \n",
      "9676   2020-03-29 23:45:17.250000\n",
      "9677   2020-05-25 05:07:26.375000\n",
      "9678   2020-03-20 14:23:43.031250\n",
      "9679   2020-04-11 20:57:56.156250\n",
      "9680   2020-05-05 00:24:53.453125\n",
      "Name: clear_date, Length: 9681, dtype: datetime64[ns]\n"
     ]
    }
   ],
   "source": [
    "# display clear_date\n",
    "\n",
    "print(Final[\"clear_date\"])"
   ]
  },
  {
   "cell_type": "markdown",
   "metadata": {
    "id": "MSkNLq6-z7rZ"
   },
   "source": [
    "### Convert the average delay into number of days format \n",
    "\n",
    "- Note - Formula = avg_delay//(24 * 3600)\n",
    "- Note - full code is given for this, no need to change "
   ]
  },
  {
   "cell_type": "code",
   "execution_count": 296,
   "metadata": {
    "id": "ce6b618a"
   },
   "outputs": [],
   "source": [
    "Final['avg_delay'] = Final.apply(lambda row: row.avg_delay//(24 * 3600), axis = 1)"
   ]
  },
  {
   "cell_type": "markdown",
   "metadata": {
    "id": "wbBBZPjP0W7o"
   },
   "source": [
    "### Display the \"avg_delay\" column "
   ]
  },
  {
   "cell_type": "code",
   "execution_count": 297,
   "metadata": {
    "id": "a494982f",
    "scrolled": true
   },
   "outputs": [
    {
     "data": {
      "text/plain": [
       "0       12.0\n",
       "1        4.0\n",
       "2        1.0\n",
       "3        3.0\n",
       "4       -5.0\n",
       "        ... \n",
       "9676     4.0\n",
       "9677     7.0\n",
       "9678    -6.0\n",
       "9679     2.0\n",
       "9680    -1.0\n",
       "Name: avg_delay, Length: 9681, dtype: float64"
      ]
     },
     "execution_count": 297,
     "metadata": {},
     "output_type": "execute_result"
    }
   ],
   "source": [
    "# display\n",
    "\n",
    "Final['avg_delay']"
   ]
  },
  {
   "cell_type": "markdown",
   "metadata": {
    "id": "815d8811"
   },
   "source": [
    "### Now you need to convert average delay column into bucket\n",
    "\n",
    "- Need to perform binning \n",
    "- create a list of bins i.e. bins= [0,15,30,45,60,100]\n",
    "- create a list of labels i.e. labels = ['0-15','16-30','31-45','46-60','Greatar than 60']\n",
    "- perform binning by using cut() function from \"Final\" dataframe\n",
    "\n",
    "\n",
    "- Please fill up the first two rows of the code"
   ]
  },
  {
   "cell_type": "code",
   "execution_count": 298,
   "metadata": {
    "id": "c797e4b5"
   },
   "outputs": [],
   "source": [
    "# bucket\n",
    "\n",
    "bins= [0,15,30,45,60,100]\n",
    "labels = ['0-15','16-30','31-45','46-60','Greatar than 60']\n",
    "Final['Aging Bucket'] = pd.cut(Final['avg_delay'], bins=bins, labels=labels, right=False)"
   ]
  },
  {
   "cell_type": "markdown",
   "metadata": {
    "id": "1c35725f"
   },
   "source": [
    "### Now you need to drop \"key_0\" and \"avg_delay\" columns from the \"Final\" Dataframe"
   ]
  },
  {
   "cell_type": "code",
   "execution_count": 299,
   "metadata": {
    "id": "b31bc6a3"
   },
   "outputs": [],
   "source": [
    "# drop key_0 and avg_delay\n",
    "\n",
    "cols = ['key_0','avg_delay']\n",
    "Final.drop(cols,inplace=True,axis=1)"
   ]
  },
  {
   "cell_type": "markdown",
   "metadata": {
    "id": "Ui-tyIvU0-5u"
   },
   "source": [
    "### Display the count of each categoty of new \"Aging Bucket\" column "
   ]
  },
  {
   "cell_type": "code",
   "execution_count": 300,
   "metadata": {
    "id": "a6e16218"
   },
   "outputs": [
    {
     "name": "stdout",
     "output_type": "stream",
     "text": [
      "0-15               7735\n",
      "16-30               169\n",
      "31-45                69\n",
      "46-60                 6\n",
      "Greatar than 60       5\n",
      "Name: Aging Bucket, dtype: int64\n"
     ]
    }
   ],
   "source": [
    "# count\n",
    "\n",
    "print(Final['Aging Bucket'].value_counts())"
   ]
  },
  {
   "cell_type": "markdown",
   "metadata": {
    "id": "kgYegy551GKJ"
   },
   "source": [
    "### Display your final dataset with aging buckets "
   ]
  },
  {
   "cell_type": "code",
   "execution_count": 301,
   "metadata": {
    "id": "c4bc87ec"
   },
   "outputs": [
    {
     "data": {
      "text/html": [
       "<div>\n",
       "<style scoped>\n",
       "    .dataframe tbody tr th:only-of-type {\n",
       "        vertical-align: middle;\n",
       "    }\n",
       "\n",
       "    .dataframe tbody tr th {\n",
       "        vertical-align: top;\n",
       "    }\n",
       "\n",
       "    .dataframe thead th {\n",
       "        text-align: right;\n",
       "    }\n",
       "</style>\n",
       "<table border=\"1\" class=\"dataframe\">\n",
       "  <thead>\n",
       "    <tr style=\"text-align: right;\">\n",
       "      <th></th>\n",
       "      <th>cust_number</th>\n",
       "      <th>buisness_year</th>\n",
       "      <th>doc_id</th>\n",
       "      <th>converted_usd</th>\n",
       "      <th>business_code_enc</th>\n",
       "      <th>day_of_due</th>\n",
       "      <th>month_of_due</th>\n",
       "      <th>year_of_due</th>\n",
       "      <th>day_of_createdate</th>\n",
       "      <th>month_of_createdate</th>\n",
       "      <th>year_of_createdate</th>\n",
       "      <th>day_of_postingdate</th>\n",
       "      <th>month_of_postingdate</th>\n",
       "      <th>year_of_postingdate</th>\n",
       "      <th>cust_payment_terms_enc</th>\n",
       "      <th>name_customer_enc</th>\n",
       "      <th>due_in_date</th>\n",
       "      <th>clear_date</th>\n",
       "      <th>Aging Bucket</th>\n",
       "    </tr>\n",
       "  </thead>\n",
       "  <tbody>\n",
       "    <tr>\n",
       "      <th>0</th>\n",
       "      <td>140105686</td>\n",
       "      <td>2020.0</td>\n",
       "      <td>2.960623e+09</td>\n",
       "      <td>2309.79</td>\n",
       "      <td>64</td>\n",
       "      <td>10</td>\n",
       "      <td>4</td>\n",
       "      <td>2020</td>\n",
       "      <td>31</td>\n",
       "      <td>3</td>\n",
       "      <td>2020</td>\n",
       "      <td>30</td>\n",
       "      <td>3</td>\n",
       "      <td>2020</td>\n",
       "      <td>5</td>\n",
       "      <td>2712</td>\n",
       "      <td>2020-04-10</td>\n",
       "      <td>2020-04-22 05:50:09.625000</td>\n",
       "      <td>0-15</td>\n",
       "    </tr>\n",
       "    <tr>\n",
       "      <th>1</th>\n",
       "      <td>200744019</td>\n",
       "      <td>2020.0</td>\n",
       "      <td>1.930659e+09</td>\n",
       "      <td>11173.02</td>\n",
       "      <td>64</td>\n",
       "      <td>3</td>\n",
       "      <td>4</td>\n",
       "      <td>2020</td>\n",
       "      <td>19</td>\n",
       "      <td>3</td>\n",
       "      <td>2020</td>\n",
       "      <td>19</td>\n",
       "      <td>3</td>\n",
       "      <td>2020</td>\n",
       "      <td>20</td>\n",
       "      <td>2795</td>\n",
       "      <td>2020-04-03</td>\n",
       "      <td>2020-04-07 05:34:23.968750</td>\n",
       "      <td>0-15</td>\n",
       "    </tr>\n",
       "    <tr>\n",
       "      <th>2</th>\n",
       "      <td>200418007</td>\n",
       "      <td>2020.0</td>\n",
       "      <td>1.930611e+09</td>\n",
       "      <td>3525.59</td>\n",
       "      <td>64</td>\n",
       "      <td>26</td>\n",
       "      <td>3</td>\n",
       "      <td>2020</td>\n",
       "      <td>11</td>\n",
       "      <td>3</td>\n",
       "      <td>2020</td>\n",
       "      <td>11</td>\n",
       "      <td>3</td>\n",
       "      <td>2020</td>\n",
       "      <td>20</td>\n",
       "      <td>93</td>\n",
       "      <td>2020-03-26</td>\n",
       "      <td>2020-03-27 15:02:39.437500</td>\n",
       "      <td>0-15</td>\n",
       "    </tr>\n",
       "    <tr>\n",
       "      <th>3</th>\n",
       "      <td>200739534</td>\n",
       "      <td>2020.0</td>\n",
       "      <td>1.930788e+09</td>\n",
       "      <td>121105.65</td>\n",
       "      <td>64</td>\n",
       "      <td>30</td>\n",
       "      <td>4</td>\n",
       "      <td>2020</td>\n",
       "      <td>15</td>\n",
       "      <td>4</td>\n",
       "      <td>2020</td>\n",
       "      <td>15</td>\n",
       "      <td>4</td>\n",
       "      <td>2020</td>\n",
       "      <td>20</td>\n",
       "      <td>2021</td>\n",
       "      <td>2020-04-30</td>\n",
       "      <td>2020-05-03 15:51:26.187500</td>\n",
       "      <td>0-15</td>\n",
       "    </tr>\n",
       "    <tr>\n",
       "      <th>4</th>\n",
       "      <td>200353024</td>\n",
       "      <td>2020.0</td>\n",
       "      <td>1.930817e+09</td>\n",
       "      <td>3726.06</td>\n",
       "      <td>64</td>\n",
       "      <td>26</td>\n",
       "      <td>4</td>\n",
       "      <td>2020</td>\n",
       "      <td>16</td>\n",
       "      <td>4</td>\n",
       "      <td>2020</td>\n",
       "      <td>23</td>\n",
       "      <td>4</td>\n",
       "      <td>2020</td>\n",
       "      <td>34</td>\n",
       "      <td>722</td>\n",
       "      <td>2020-04-26</td>\n",
       "      <td>2020-04-21 22:24:33.062500</td>\n",
       "      <td>NaN</td>\n",
       "    </tr>\n",
       "    <tr>\n",
       "      <th>...</th>\n",
       "      <td>...</td>\n",
       "      <td>...</td>\n",
       "      <td>...</td>\n",
       "      <td>...</td>\n",
       "      <td>...</td>\n",
       "      <td>...</td>\n",
       "      <td>...</td>\n",
       "      <td>...</td>\n",
       "      <td>...</td>\n",
       "      <td>...</td>\n",
       "      <td>...</td>\n",
       "      <td>...</td>\n",
       "      <td>...</td>\n",
       "      <td>...</td>\n",
       "      <td>...</td>\n",
       "      <td>...</td>\n",
       "      <td>...</td>\n",
       "      <td>...</td>\n",
       "      <td>...</td>\n",
       "    </tr>\n",
       "    <tr>\n",
       "      <th>9676</th>\n",
       "      <td>200769623</td>\n",
       "      <td>2020.0</td>\n",
       "      <td>1.930625e+09</td>\n",
       "      <td>13114.99</td>\n",
       "      <td>64</td>\n",
       "      <td>25</td>\n",
       "      <td>3</td>\n",
       "      <td>2020</td>\n",
       "      <td>10</td>\n",
       "      <td>3</td>\n",
       "      <td>2020</td>\n",
       "      <td>10</td>\n",
       "      <td>3</td>\n",
       "      <td>2020</td>\n",
       "      <td>32</td>\n",
       "      <td>2987</td>\n",
       "      <td>2020-03-25</td>\n",
       "      <td>2020-03-29 23:45:17.250000</td>\n",
       "      <td>0-15</td>\n",
       "    </tr>\n",
       "    <tr>\n",
       "      <th>9677</th>\n",
       "      <td>200769623</td>\n",
       "      <td>2020.0</td>\n",
       "      <td>1.930851e+09</td>\n",
       "      <td>8899.71</td>\n",
       "      <td>64</td>\n",
       "      <td>18</td>\n",
       "      <td>5</td>\n",
       "      <td>2020</td>\n",
       "      <td>3</td>\n",
       "      <td>5</td>\n",
       "      <td>2020</td>\n",
       "      <td>3</td>\n",
       "      <td>5</td>\n",
       "      <td>2020</td>\n",
       "      <td>32</td>\n",
       "      <td>2985</td>\n",
       "      <td>2020-05-18</td>\n",
       "      <td>2020-05-25 05:07:26.375000</td>\n",
       "      <td>0-15</td>\n",
       "    </tr>\n",
       "    <tr>\n",
       "      <th>9678</th>\n",
       "      <td>200148860</td>\n",
       "      <td>2020.0</td>\n",
       "      <td>1.930638e+09</td>\n",
       "      <td>4967.06</td>\n",
       "      <td>64</td>\n",
       "      <td>26</td>\n",
       "      <td>3</td>\n",
       "      <td>2020</td>\n",
       "      <td>11</td>\n",
       "      <td>3</td>\n",
       "      <td>2020</td>\n",
       "      <td>11</td>\n",
       "      <td>3</td>\n",
       "      <td>2020</td>\n",
       "      <td>20</td>\n",
       "      <td>796</td>\n",
       "      <td>2020-03-26</td>\n",
       "      <td>2020-03-20 14:23:43.031250</td>\n",
       "      <td>NaN</td>\n",
       "    </tr>\n",
       "    <tr>\n",
       "      <th>9679</th>\n",
       "      <td>200900909</td>\n",
       "      <td>2020.0</td>\n",
       "      <td>1.930702e+09</td>\n",
       "      <td>1998.64</td>\n",
       "      <td>64</td>\n",
       "      <td>9</td>\n",
       "      <td>4</td>\n",
       "      <td>2020</td>\n",
       "      <td>25</td>\n",
       "      <td>3</td>\n",
       "      <td>2020</td>\n",
       "      <td>25</td>\n",
       "      <td>3</td>\n",
       "      <td>2020</td>\n",
       "      <td>20</td>\n",
       "      <td>2759</td>\n",
       "      <td>2020-04-09</td>\n",
       "      <td>2020-04-11 20:57:56.156250</td>\n",
       "      <td>0-15</td>\n",
       "    </tr>\n",
       "    <tr>\n",
       "      <th>9680</th>\n",
       "      <td>200561861</td>\n",
       "      <td>2020.0</td>\n",
       "      <td>1.930797e+09</td>\n",
       "      <td>3187.86</td>\n",
       "      <td>64</td>\n",
       "      <td>6</td>\n",
       "      <td>5</td>\n",
       "      <td>2020</td>\n",
       "      <td>21</td>\n",
       "      <td>4</td>\n",
       "      <td>2020</td>\n",
       "      <td>21</td>\n",
       "      <td>4</td>\n",
       "      <td>2020</td>\n",
       "      <td>20</td>\n",
       "      <td>547</td>\n",
       "      <td>2020-05-06</td>\n",
       "      <td>2020-05-05 00:24:53.453125</td>\n",
       "      <td>NaN</td>\n",
       "    </tr>\n",
       "  </tbody>\n",
       "</table>\n",
       "<p>9681 rows × 19 columns</p>\n",
       "</div>"
      ],
      "text/plain": [
       "      cust_number  buisness_year        doc_id  converted_usd  \\\n",
       "0       140105686         2020.0  2.960623e+09        2309.79   \n",
       "1       200744019         2020.0  1.930659e+09       11173.02   \n",
       "2       200418007         2020.0  1.930611e+09        3525.59   \n",
       "3       200739534         2020.0  1.930788e+09      121105.65   \n",
       "4       200353024         2020.0  1.930817e+09        3726.06   \n",
       "...           ...            ...           ...            ...   \n",
       "9676    200769623         2020.0  1.930625e+09       13114.99   \n",
       "9677    200769623         2020.0  1.930851e+09        8899.71   \n",
       "9678    200148860         2020.0  1.930638e+09        4967.06   \n",
       "9679    200900909         2020.0  1.930702e+09        1998.64   \n",
       "9680    200561861         2020.0  1.930797e+09        3187.86   \n",
       "\n",
       "      business_code_enc  day_of_due  month_of_due  year_of_due  \\\n",
       "0                    64          10             4         2020   \n",
       "1                    64           3             4         2020   \n",
       "2                    64          26             3         2020   \n",
       "3                    64          30             4         2020   \n",
       "4                    64          26             4         2020   \n",
       "...                 ...         ...           ...          ...   \n",
       "9676                 64          25             3         2020   \n",
       "9677                 64          18             5         2020   \n",
       "9678                 64          26             3         2020   \n",
       "9679                 64           9             4         2020   \n",
       "9680                 64           6             5         2020   \n",
       "\n",
       "      day_of_createdate  month_of_createdate  year_of_createdate  \\\n",
       "0                    31                    3                2020   \n",
       "1                    19                    3                2020   \n",
       "2                    11                    3                2020   \n",
       "3                    15                    4                2020   \n",
       "4                    16                    4                2020   \n",
       "...                 ...                  ...                 ...   \n",
       "9676                 10                    3                2020   \n",
       "9677                  3                    5                2020   \n",
       "9678                 11                    3                2020   \n",
       "9679                 25                    3                2020   \n",
       "9680                 21                    4                2020   \n",
       "\n",
       "      day_of_postingdate  month_of_postingdate  year_of_postingdate  \\\n",
       "0                     30                     3                 2020   \n",
       "1                     19                     3                 2020   \n",
       "2                     11                     3                 2020   \n",
       "3                     15                     4                 2020   \n",
       "4                     23                     4                 2020   \n",
       "...                  ...                   ...                  ...   \n",
       "9676                  10                     3                 2020   \n",
       "9677                   3                     5                 2020   \n",
       "9678                  11                     3                 2020   \n",
       "9679                  25                     3                 2020   \n",
       "9680                  21                     4                 2020   \n",
       "\n",
       "      cust_payment_terms_enc  name_customer_enc due_in_date  \\\n",
       "0                          5               2712  2020-04-10   \n",
       "1                         20               2795  2020-04-03   \n",
       "2                         20                 93  2020-03-26   \n",
       "3                         20               2021  2020-04-30   \n",
       "4                         34                722  2020-04-26   \n",
       "...                      ...                ...         ...   \n",
       "9676                      32               2987  2020-03-25   \n",
       "9677                      32               2985  2020-05-18   \n",
       "9678                      20                796  2020-03-26   \n",
       "9679                      20               2759  2020-04-09   \n",
       "9680                      20                547  2020-05-06   \n",
       "\n",
       "                     clear_date Aging Bucket  \n",
       "0    2020-04-22 05:50:09.625000         0-15  \n",
       "1    2020-04-07 05:34:23.968750         0-15  \n",
       "2    2020-03-27 15:02:39.437500         0-15  \n",
       "3    2020-05-03 15:51:26.187500         0-15  \n",
       "4    2020-04-21 22:24:33.062500          NaN  \n",
       "...                         ...          ...  \n",
       "9676 2020-03-29 23:45:17.250000         0-15  \n",
       "9677 2020-05-25 05:07:26.375000         0-15  \n",
       "9678 2020-03-20 14:23:43.031250          NaN  \n",
       "9679 2020-04-11 20:57:56.156250         0-15  \n",
       "9680 2020-05-05 00:24:53.453125          NaN  \n",
       "\n",
       "[9681 rows x 19 columns]"
      ]
     },
     "execution_count": 301,
     "metadata": {},
     "output_type": "execute_result"
    }
   ],
   "source": [
    "# display\n",
    "\n",
    "Final"
   ]
  },
  {
   "cell_type": "markdown",
   "metadata": {
    "id": "Ji7AoDCB1L_x"
   },
   "source": [
    "### Store this dataframe into the .csv format"
   ]
  },
  {
   "cell_type": "code",
   "execution_count": 302,
   "metadata": {
    "id": "727d0b8d"
   },
   "outputs": [],
   "source": [
    "Final.to_csv('final_dataset.csv')"
   ]
  },
  {
   "cell_type": "markdown",
   "metadata": {
    "id": "FK0fabl61SkC"
   },
   "source": [
    "# END OF THE PROJECT"
   ]
  },
  {
   "cell_type": "code",
   "execution_count": 303,
   "metadata": {},
   "outputs": [],
   "source": [
    "df = pd.read_csv('final_dataset.csv')"
   ]
  },
  {
   "cell_type": "code",
   "execution_count": 304,
   "metadata": {},
   "outputs": [
    {
     "data": {
      "text/html": [
       "<div>\n",
       "<style scoped>\n",
       "    .dataframe tbody tr th:only-of-type {\n",
       "        vertical-align: middle;\n",
       "    }\n",
       "\n",
       "    .dataframe tbody tr th {\n",
       "        vertical-align: top;\n",
       "    }\n",
       "\n",
       "    .dataframe thead th {\n",
       "        text-align: right;\n",
       "    }\n",
       "</style>\n",
       "<table border=\"1\" class=\"dataframe\">\n",
       "  <thead>\n",
       "    <tr style=\"text-align: right;\">\n",
       "      <th></th>\n",
       "      <th>Unnamed: 0</th>\n",
       "      <th>cust_number</th>\n",
       "      <th>buisness_year</th>\n",
       "      <th>doc_id</th>\n",
       "      <th>converted_usd</th>\n",
       "      <th>business_code_enc</th>\n",
       "      <th>day_of_due</th>\n",
       "      <th>month_of_due</th>\n",
       "      <th>year_of_due</th>\n",
       "      <th>day_of_createdate</th>\n",
       "      <th>month_of_createdate</th>\n",
       "      <th>year_of_createdate</th>\n",
       "      <th>day_of_postingdate</th>\n",
       "      <th>month_of_postingdate</th>\n",
       "      <th>year_of_postingdate</th>\n",
       "      <th>cust_payment_terms_enc</th>\n",
       "      <th>name_customer_enc</th>\n",
       "      <th>due_in_date</th>\n",
       "      <th>clear_date</th>\n",
       "      <th>Aging Bucket</th>\n",
       "    </tr>\n",
       "  </thead>\n",
       "  <tbody>\n",
       "    <tr>\n",
       "      <th>0</th>\n",
       "      <td>0</td>\n",
       "      <td>140105686</td>\n",
       "      <td>2020.0</td>\n",
       "      <td>2.960623e+09</td>\n",
       "      <td>2309.79</td>\n",
       "      <td>64</td>\n",
       "      <td>10</td>\n",
       "      <td>4</td>\n",
       "      <td>2020</td>\n",
       "      <td>31</td>\n",
       "      <td>3</td>\n",
       "      <td>2020</td>\n",
       "      <td>30</td>\n",
       "      <td>3</td>\n",
       "      <td>2020</td>\n",
       "      <td>5</td>\n",
       "      <td>2712</td>\n",
       "      <td>2020-04-10</td>\n",
       "      <td>2020-04-22 05:50:09.625000000</td>\n",
       "      <td>0-15</td>\n",
       "    </tr>\n",
       "    <tr>\n",
       "      <th>1</th>\n",
       "      <td>1</td>\n",
       "      <td>200744019</td>\n",
       "      <td>2020.0</td>\n",
       "      <td>1.930659e+09</td>\n",
       "      <td>11173.02</td>\n",
       "      <td>64</td>\n",
       "      <td>3</td>\n",
       "      <td>4</td>\n",
       "      <td>2020</td>\n",
       "      <td>19</td>\n",
       "      <td>3</td>\n",
       "      <td>2020</td>\n",
       "      <td>19</td>\n",
       "      <td>3</td>\n",
       "      <td>2020</td>\n",
       "      <td>20</td>\n",
       "      <td>2795</td>\n",
       "      <td>2020-04-03</td>\n",
       "      <td>2020-04-07 05:34:23.968750000</td>\n",
       "      <td>0-15</td>\n",
       "    </tr>\n",
       "    <tr>\n",
       "      <th>2</th>\n",
       "      <td>2</td>\n",
       "      <td>200418007</td>\n",
       "      <td>2020.0</td>\n",
       "      <td>1.930611e+09</td>\n",
       "      <td>3525.59</td>\n",
       "      <td>64</td>\n",
       "      <td>26</td>\n",
       "      <td>3</td>\n",
       "      <td>2020</td>\n",
       "      <td>11</td>\n",
       "      <td>3</td>\n",
       "      <td>2020</td>\n",
       "      <td>11</td>\n",
       "      <td>3</td>\n",
       "      <td>2020</td>\n",
       "      <td>20</td>\n",
       "      <td>93</td>\n",
       "      <td>2020-03-26</td>\n",
       "      <td>2020-03-27 15:02:39.437500000</td>\n",
       "      <td>0-15</td>\n",
       "    </tr>\n",
       "    <tr>\n",
       "      <th>3</th>\n",
       "      <td>3</td>\n",
       "      <td>200739534</td>\n",
       "      <td>2020.0</td>\n",
       "      <td>1.930788e+09</td>\n",
       "      <td>121105.65</td>\n",
       "      <td>64</td>\n",
       "      <td>30</td>\n",
       "      <td>4</td>\n",
       "      <td>2020</td>\n",
       "      <td>15</td>\n",
       "      <td>4</td>\n",
       "      <td>2020</td>\n",
       "      <td>15</td>\n",
       "      <td>4</td>\n",
       "      <td>2020</td>\n",
       "      <td>20</td>\n",
       "      <td>2021</td>\n",
       "      <td>2020-04-30</td>\n",
       "      <td>2020-05-03 15:51:26.187500000</td>\n",
       "      <td>0-15</td>\n",
       "    </tr>\n",
       "    <tr>\n",
       "      <th>4</th>\n",
       "      <td>4</td>\n",
       "      <td>200353024</td>\n",
       "      <td>2020.0</td>\n",
       "      <td>1.930817e+09</td>\n",
       "      <td>3726.06</td>\n",
       "      <td>64</td>\n",
       "      <td>26</td>\n",
       "      <td>4</td>\n",
       "      <td>2020</td>\n",
       "      <td>16</td>\n",
       "      <td>4</td>\n",
       "      <td>2020</td>\n",
       "      <td>23</td>\n",
       "      <td>4</td>\n",
       "      <td>2020</td>\n",
       "      <td>34</td>\n",
       "      <td>722</td>\n",
       "      <td>2020-04-26</td>\n",
       "      <td>2020-04-21 22:24:33.062500000</td>\n",
       "      <td>NaN</td>\n",
       "    </tr>\n",
       "    <tr>\n",
       "      <th>...</th>\n",
       "      <td>...</td>\n",
       "      <td>...</td>\n",
       "      <td>...</td>\n",
       "      <td>...</td>\n",
       "      <td>...</td>\n",
       "      <td>...</td>\n",
       "      <td>...</td>\n",
       "      <td>...</td>\n",
       "      <td>...</td>\n",
       "      <td>...</td>\n",
       "      <td>...</td>\n",
       "      <td>...</td>\n",
       "      <td>...</td>\n",
       "      <td>...</td>\n",
       "      <td>...</td>\n",
       "      <td>...</td>\n",
       "      <td>...</td>\n",
       "      <td>...</td>\n",
       "      <td>...</td>\n",
       "      <td>...</td>\n",
       "    </tr>\n",
       "    <tr>\n",
       "      <th>9676</th>\n",
       "      <td>9676</td>\n",
       "      <td>200769623</td>\n",
       "      <td>2020.0</td>\n",
       "      <td>1.930625e+09</td>\n",
       "      <td>13114.99</td>\n",
       "      <td>64</td>\n",
       "      <td>25</td>\n",
       "      <td>3</td>\n",
       "      <td>2020</td>\n",
       "      <td>10</td>\n",
       "      <td>3</td>\n",
       "      <td>2020</td>\n",
       "      <td>10</td>\n",
       "      <td>3</td>\n",
       "      <td>2020</td>\n",
       "      <td>32</td>\n",
       "      <td>2987</td>\n",
       "      <td>2020-03-25</td>\n",
       "      <td>2020-03-29 23:45:17.250000000</td>\n",
       "      <td>0-15</td>\n",
       "    </tr>\n",
       "    <tr>\n",
       "      <th>9677</th>\n",
       "      <td>9677</td>\n",
       "      <td>200769623</td>\n",
       "      <td>2020.0</td>\n",
       "      <td>1.930851e+09</td>\n",
       "      <td>8899.71</td>\n",
       "      <td>64</td>\n",
       "      <td>18</td>\n",
       "      <td>5</td>\n",
       "      <td>2020</td>\n",
       "      <td>3</td>\n",
       "      <td>5</td>\n",
       "      <td>2020</td>\n",
       "      <td>3</td>\n",
       "      <td>5</td>\n",
       "      <td>2020</td>\n",
       "      <td>32</td>\n",
       "      <td>2985</td>\n",
       "      <td>2020-05-18</td>\n",
       "      <td>2020-05-25 05:07:26.375000000</td>\n",
       "      <td>0-15</td>\n",
       "    </tr>\n",
       "    <tr>\n",
       "      <th>9678</th>\n",
       "      <td>9678</td>\n",
       "      <td>200148860</td>\n",
       "      <td>2020.0</td>\n",
       "      <td>1.930638e+09</td>\n",
       "      <td>4967.06</td>\n",
       "      <td>64</td>\n",
       "      <td>26</td>\n",
       "      <td>3</td>\n",
       "      <td>2020</td>\n",
       "      <td>11</td>\n",
       "      <td>3</td>\n",
       "      <td>2020</td>\n",
       "      <td>11</td>\n",
       "      <td>3</td>\n",
       "      <td>2020</td>\n",
       "      <td>20</td>\n",
       "      <td>796</td>\n",
       "      <td>2020-03-26</td>\n",
       "      <td>2020-03-20 14:23:43.031250000</td>\n",
       "      <td>NaN</td>\n",
       "    </tr>\n",
       "    <tr>\n",
       "      <th>9679</th>\n",
       "      <td>9679</td>\n",
       "      <td>200900909</td>\n",
       "      <td>2020.0</td>\n",
       "      <td>1.930702e+09</td>\n",
       "      <td>1998.64</td>\n",
       "      <td>64</td>\n",
       "      <td>9</td>\n",
       "      <td>4</td>\n",
       "      <td>2020</td>\n",
       "      <td>25</td>\n",
       "      <td>3</td>\n",
       "      <td>2020</td>\n",
       "      <td>25</td>\n",
       "      <td>3</td>\n",
       "      <td>2020</td>\n",
       "      <td>20</td>\n",
       "      <td>2759</td>\n",
       "      <td>2020-04-09</td>\n",
       "      <td>2020-04-11 20:57:56.156250000</td>\n",
       "      <td>0-15</td>\n",
       "    </tr>\n",
       "    <tr>\n",
       "      <th>9680</th>\n",
       "      <td>9680</td>\n",
       "      <td>200561861</td>\n",
       "      <td>2020.0</td>\n",
       "      <td>1.930797e+09</td>\n",
       "      <td>3187.86</td>\n",
       "      <td>64</td>\n",
       "      <td>6</td>\n",
       "      <td>5</td>\n",
       "      <td>2020</td>\n",
       "      <td>21</td>\n",
       "      <td>4</td>\n",
       "      <td>2020</td>\n",
       "      <td>21</td>\n",
       "      <td>4</td>\n",
       "      <td>2020</td>\n",
       "      <td>20</td>\n",
       "      <td>547</td>\n",
       "      <td>2020-05-06</td>\n",
       "      <td>2020-05-05 00:24:53.453125000</td>\n",
       "      <td>NaN</td>\n",
       "    </tr>\n",
       "  </tbody>\n",
       "</table>\n",
       "<p>9681 rows × 20 columns</p>\n",
       "</div>"
      ],
      "text/plain": [
       "      Unnamed: 0  cust_number  buisness_year        doc_id  converted_usd  \\\n",
       "0              0    140105686         2020.0  2.960623e+09        2309.79   \n",
       "1              1    200744019         2020.0  1.930659e+09       11173.02   \n",
       "2              2    200418007         2020.0  1.930611e+09        3525.59   \n",
       "3              3    200739534         2020.0  1.930788e+09      121105.65   \n",
       "4              4    200353024         2020.0  1.930817e+09        3726.06   \n",
       "...          ...          ...            ...           ...            ...   \n",
       "9676        9676    200769623         2020.0  1.930625e+09       13114.99   \n",
       "9677        9677    200769623         2020.0  1.930851e+09        8899.71   \n",
       "9678        9678    200148860         2020.0  1.930638e+09        4967.06   \n",
       "9679        9679    200900909         2020.0  1.930702e+09        1998.64   \n",
       "9680        9680    200561861         2020.0  1.930797e+09        3187.86   \n",
       "\n",
       "      business_code_enc  day_of_due  month_of_due  year_of_due  \\\n",
       "0                    64          10             4         2020   \n",
       "1                    64           3             4         2020   \n",
       "2                    64          26             3         2020   \n",
       "3                    64          30             4         2020   \n",
       "4                    64          26             4         2020   \n",
       "...                 ...         ...           ...          ...   \n",
       "9676                 64          25             3         2020   \n",
       "9677                 64          18             5         2020   \n",
       "9678                 64          26             3         2020   \n",
       "9679                 64           9             4         2020   \n",
       "9680                 64           6             5         2020   \n",
       "\n",
       "      day_of_createdate  month_of_createdate  year_of_createdate  \\\n",
       "0                    31                    3                2020   \n",
       "1                    19                    3                2020   \n",
       "2                    11                    3                2020   \n",
       "3                    15                    4                2020   \n",
       "4                    16                    4                2020   \n",
       "...                 ...                  ...                 ...   \n",
       "9676                 10                    3                2020   \n",
       "9677                  3                    5                2020   \n",
       "9678                 11                    3                2020   \n",
       "9679                 25                    3                2020   \n",
       "9680                 21                    4                2020   \n",
       "\n",
       "      day_of_postingdate  month_of_postingdate  year_of_postingdate  \\\n",
       "0                     30                     3                 2020   \n",
       "1                     19                     3                 2020   \n",
       "2                     11                     3                 2020   \n",
       "3                     15                     4                 2020   \n",
       "4                     23                     4                 2020   \n",
       "...                  ...                   ...                  ...   \n",
       "9676                  10                     3                 2020   \n",
       "9677                   3                     5                 2020   \n",
       "9678                  11                     3                 2020   \n",
       "9679                  25                     3                 2020   \n",
       "9680                  21                     4                 2020   \n",
       "\n",
       "      cust_payment_terms_enc  name_customer_enc due_in_date  \\\n",
       "0                          5               2712  2020-04-10   \n",
       "1                         20               2795  2020-04-03   \n",
       "2                         20                 93  2020-03-26   \n",
       "3                         20               2021  2020-04-30   \n",
       "4                         34                722  2020-04-26   \n",
       "...                      ...                ...         ...   \n",
       "9676                      32               2987  2020-03-25   \n",
       "9677                      32               2985  2020-05-18   \n",
       "9678                      20                796  2020-03-26   \n",
       "9679                      20               2759  2020-04-09   \n",
       "9680                      20                547  2020-05-06   \n",
       "\n",
       "                         clear_date Aging Bucket  \n",
       "0     2020-04-22 05:50:09.625000000         0-15  \n",
       "1     2020-04-07 05:34:23.968750000         0-15  \n",
       "2     2020-03-27 15:02:39.437500000         0-15  \n",
       "3     2020-05-03 15:51:26.187500000         0-15  \n",
       "4     2020-04-21 22:24:33.062500000          NaN  \n",
       "...                             ...          ...  \n",
       "9676  2020-03-29 23:45:17.250000000         0-15  \n",
       "9677  2020-05-25 05:07:26.375000000         0-15  \n",
       "9678  2020-03-20 14:23:43.031250000          NaN  \n",
       "9679  2020-04-11 20:57:56.156250000         0-15  \n",
       "9680  2020-05-05 00:24:53.453125000          NaN  \n",
       "\n",
       "[9681 rows x 20 columns]"
      ]
     },
     "execution_count": 304,
     "metadata": {},
     "output_type": "execute_result"
    }
   ],
   "source": [
    "df"
   ]
  },
  {
   "cell_type": "code",
   "execution_count": null,
   "metadata": {},
   "outputs": [],
   "source": []
  }
 ],
 "metadata": {
  "colab": {
   "collapsed_sections": [
    "62633a84"
   ],
   "name": "Payment date prediction.ipynb",
   "provenance": []
  },
  "kernelspec": {
   "display_name": "Python 3",
   "language": "python",
   "name": "python3"
  },
  "language_info": {
   "codemirror_mode": {
    "name": "ipython",
    "version": 3
   },
   "file_extension": ".py",
   "mimetype": "text/x-python",
   "name": "python",
   "nbconvert_exporter": "python",
   "pygments_lexer": "ipython3",
   "version": "3.7.6"
  }
 },
 "nbformat": 4,
 "nbformat_minor": 5
}
